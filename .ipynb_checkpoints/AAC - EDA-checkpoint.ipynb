{
 "cells": [
  {
   "cell_type": "code",
   "execution_count": 1,
   "id": "8bf8280f",
   "metadata": {},
   "outputs": [],
   "source": [
    "import numpy as np\n",
    "import pandas as pd\n",
    "import matplotlib.pyplot as plt\n",
    "\n",
    "from sklearn.naive_bayes import GaussianNB\n",
    "from sklearn.dummy import DummyClassifier\n",
    "from sklearn.tree import DecisionTreeClassifier\n",
    "from sklearn.ensemble import GradientBoostingClassifier, RandomForestClassifier\n",
    "\n",
    "from sklearn.model_selection import train_test_split\n",
    "from sklearn.metrics import classification_report, confusion_matrix\n",
    "%matplotlib inline"
   ]
  },
  {
   "cell_type": "code",
   "execution_count": 2,
   "id": "968a2f97",
   "metadata": {
    "scrolled": true
   },
   "outputs": [
    {
     "data": {
      "text/html": [
       "<div>\n",
       "<style scoped>\n",
       "    .dataframe tbody tr th:only-of-type {\n",
       "        vertical-align: middle;\n",
       "    }\n",
       "\n",
       "    .dataframe tbody tr th {\n",
       "        vertical-align: top;\n",
       "    }\n",
       "\n",
       "    .dataframe thead th {\n",
       "        text-align: right;\n",
       "    }\n",
       "</style>\n",
       "<table border=\"1\" class=\"dataframe\">\n",
       "  <thead>\n",
       "    <tr style=\"text-align: right;\">\n",
       "      <th></th>\n",
       "      <th>id</th>\n",
       "      <th>animal_type</th>\n",
       "      <th>breed</th>\n",
       "      <th>intake_month</th>\n",
       "      <th>intake_weekday</th>\n",
       "      <th>color</th>\n",
       "      <th>age_upon_intake_years</th>\n",
       "      <th>intake_type</th>\n",
       "      <th>intake_condition</th>\n",
       "      <th>sex_upon_intake</th>\n",
       "      <th>sex_upon_outcome</th>\n",
       "      <th>time_in_shelter_days</th>\n",
       "      <th>outcome_type</th>\n",
       "    </tr>\n",
       "  </thead>\n",
       "  <tbody>\n",
       "    <tr>\n",
       "      <th>0</th>\n",
       "      <td>A006100</td>\n",
       "      <td>Dog</td>\n",
       "      <td>Spinone Italiano Mix</td>\n",
       "      <td>12</td>\n",
       "      <td>Thursday</td>\n",
       "      <td>Yellow/White</td>\n",
       "      <td>10.0</td>\n",
       "      <td>Stray</td>\n",
       "      <td>Normal</td>\n",
       "      <td>Neutered Male</td>\n",
       "      <td>Neutered Male</td>\n",
       "      <td>0.588194</td>\n",
       "      <td>Return to Owner</td>\n",
       "    </tr>\n",
       "    <tr>\n",
       "      <th>1</th>\n",
       "      <td>A006100</td>\n",
       "      <td>Dog</td>\n",
       "      <td>Spinone Italiano Mix</td>\n",
       "      <td>12</td>\n",
       "      <td>Friday</td>\n",
       "      <td>Yellow/White</td>\n",
       "      <td>7.0</td>\n",
       "      <td>Public Assist</td>\n",
       "      <td>Normal</td>\n",
       "      <td>Neutered Male</td>\n",
       "      <td>Neutered Male</td>\n",
       "      <td>1.259722</td>\n",
       "      <td>Return to Owner</td>\n",
       "    </tr>\n",
       "    <tr>\n",
       "      <th>2</th>\n",
       "      <td>A006100</td>\n",
       "      <td>Dog</td>\n",
       "      <td>Spinone Italiano Mix</td>\n",
       "      <td>3</td>\n",
       "      <td>Friday</td>\n",
       "      <td>Yellow/White</td>\n",
       "      <td>6.0</td>\n",
       "      <td>Public Assist</td>\n",
       "      <td>Normal</td>\n",
       "      <td>Neutered Male</td>\n",
       "      <td>Neutered Male</td>\n",
       "      <td>1.113889</td>\n",
       "      <td>Return to Owner</td>\n",
       "    </tr>\n",
       "    <tr>\n",
       "      <th>3</th>\n",
       "      <td>A047759</td>\n",
       "      <td>Dog</td>\n",
       "      <td>Dachshund</td>\n",
       "      <td>4</td>\n",
       "      <td>Wednesday</td>\n",
       "      <td>Tricolor</td>\n",
       "      <td>10.0</td>\n",
       "      <td>Owner Surrender</td>\n",
       "      <td>Normal</td>\n",
       "      <td>Neutered Male</td>\n",
       "      <td>Neutered Male</td>\n",
       "      <td>4.970139</td>\n",
       "      <td>Transfer</td>\n",
       "    </tr>\n",
       "    <tr>\n",
       "      <th>4</th>\n",
       "      <td>A134067</td>\n",
       "      <td>Dog</td>\n",
       "      <td>Shetland Sheepdog</td>\n",
       "      <td>11</td>\n",
       "      <td>Saturday</td>\n",
       "      <td>Brown/White</td>\n",
       "      <td>16.0</td>\n",
       "      <td>Public Assist</td>\n",
       "      <td>Injured</td>\n",
       "      <td>Neutered Male</td>\n",
       "      <td>Neutered Male</td>\n",
       "      <td>0.119444</td>\n",
       "      <td>Return to Owner</td>\n",
       "    </tr>\n",
       "    <tr>\n",
       "      <th>5</th>\n",
       "      <td>A141142</td>\n",
       "      <td>Dog</td>\n",
       "      <td>Labrador Retriever/Pit Bull</td>\n",
       "      <td>11</td>\n",
       "      <td>Saturday</td>\n",
       "      <td>Black/White</td>\n",
       "      <td>15.0</td>\n",
       "      <td>Stray</td>\n",
       "      <td>Aged</td>\n",
       "      <td>Spayed Female</td>\n",
       "      <td>Spayed Female</td>\n",
       "      <td>0.870833</td>\n",
       "      <td>Return to Owner</td>\n",
       "    </tr>\n",
       "    <tr>\n",
       "      <th>6</th>\n",
       "      <td>A163459</td>\n",
       "      <td>Dog</td>\n",
       "      <td>Miniature Schnauzer Mix</td>\n",
       "      <td>11</td>\n",
       "      <td>Friday</td>\n",
       "      <td>Black/Gray</td>\n",
       "      <td>15.0</td>\n",
       "      <td>Stray</td>\n",
       "      <td>Normal</td>\n",
       "      <td>Intact Female</td>\n",
       "      <td>Intact Female</td>\n",
       "      <td>0.178472</td>\n",
       "      <td>Return to Owner</td>\n",
       "    </tr>\n",
       "    <tr>\n",
       "      <th>7</th>\n",
       "      <td>A165752</td>\n",
       "      <td>Dog</td>\n",
       "      <td>Lhasa Apso Mix</td>\n",
       "      <td>9</td>\n",
       "      <td>Monday</td>\n",
       "      <td>Brown/White</td>\n",
       "      <td>15.0</td>\n",
       "      <td>Stray</td>\n",
       "      <td>Normal</td>\n",
       "      <td>Neutered Male</td>\n",
       "      <td>Neutered Male</td>\n",
       "      <td>0.213194</td>\n",
       "      <td>Return to Owner</td>\n",
       "    </tr>\n",
       "    <tr>\n",
       "      <th>8</th>\n",
       "      <td>A178569</td>\n",
       "      <td>Dog</td>\n",
       "      <td>Shetland Sheepdog Mix</td>\n",
       "      <td>3</td>\n",
       "      <td>Monday</td>\n",
       "      <td>White/Black</td>\n",
       "      <td>15.0</td>\n",
       "      <td>Public Assist</td>\n",
       "      <td>Normal</td>\n",
       "      <td>Neutered Male</td>\n",
       "      <td>Neutered Male</td>\n",
       "      <td>6.258333</td>\n",
       "      <td>Return to Owner</td>\n",
       "    </tr>\n",
       "    <tr>\n",
       "      <th>9</th>\n",
       "      <td>A189592</td>\n",
       "      <td>Dog</td>\n",
       "      <td>Shetland Sheepdog Mix</td>\n",
       "      <td>9</td>\n",
       "      <td>Friday</td>\n",
       "      <td>Brown/White</td>\n",
       "      <td>18.0</td>\n",
       "      <td>Stray</td>\n",
       "      <td>Normal</td>\n",
       "      <td>Spayed Female</td>\n",
       "      <td>Spayed Female</td>\n",
       "      <td>0.054167</td>\n",
       "      <td>Return to Owner</td>\n",
       "    </tr>\n",
       "  </tbody>\n",
       "</table>\n",
       "</div>"
      ],
      "text/plain": [
       "        id animal_type                        breed  intake_month  \\\n",
       "0  A006100         Dog         Spinone Italiano Mix            12   \n",
       "1  A006100         Dog         Spinone Italiano Mix            12   \n",
       "2  A006100         Dog         Spinone Italiano Mix             3   \n",
       "3  A047759         Dog                    Dachshund             4   \n",
       "4  A134067         Dog            Shetland Sheepdog            11   \n",
       "5  A141142         Dog  Labrador Retriever/Pit Bull            11   \n",
       "6  A163459         Dog      Miniature Schnauzer Mix            11   \n",
       "7  A165752         Dog               Lhasa Apso Mix             9   \n",
       "8  A178569         Dog        Shetland Sheepdog Mix             3   \n",
       "9  A189592         Dog        Shetland Sheepdog Mix             9   \n",
       "\n",
       "  intake_weekday         color  age_upon_intake_years      intake_type  \\\n",
       "0       Thursday  Yellow/White                   10.0            Stray   \n",
       "1         Friday  Yellow/White                    7.0    Public Assist   \n",
       "2         Friday  Yellow/White                    6.0    Public Assist   \n",
       "3      Wednesday      Tricolor                   10.0  Owner Surrender   \n",
       "4       Saturday   Brown/White                   16.0    Public Assist   \n",
       "5       Saturday   Black/White                   15.0            Stray   \n",
       "6         Friday    Black/Gray                   15.0            Stray   \n",
       "7         Monday   Brown/White                   15.0            Stray   \n",
       "8         Monday   White/Black                   15.0    Public Assist   \n",
       "9         Friday   Brown/White                   18.0            Stray   \n",
       "\n",
       "  intake_condition sex_upon_intake sex_upon_outcome  time_in_shelter_days  \\\n",
       "0           Normal   Neutered Male    Neutered Male              0.588194   \n",
       "1           Normal   Neutered Male    Neutered Male              1.259722   \n",
       "2           Normal   Neutered Male    Neutered Male              1.113889   \n",
       "3           Normal   Neutered Male    Neutered Male              4.970139   \n",
       "4          Injured   Neutered Male    Neutered Male              0.119444   \n",
       "5             Aged   Spayed Female    Spayed Female              0.870833   \n",
       "6           Normal   Intact Female    Intact Female              0.178472   \n",
       "7           Normal   Neutered Male    Neutered Male              0.213194   \n",
       "8           Normal   Neutered Male    Neutered Male              6.258333   \n",
       "9           Normal   Spayed Female    Spayed Female              0.054167   \n",
       "\n",
       "      outcome_type  \n",
       "0  Return to Owner  \n",
       "1  Return to Owner  \n",
       "2  Return to Owner  \n",
       "3         Transfer  \n",
       "4  Return to Owner  \n",
       "5  Return to Owner  \n",
       "6  Return to Owner  \n",
       "7  Return to Owner  \n",
       "8  Return to Owner  \n",
       "9  Return to Owner  "
      ]
     },
     "execution_count": 2,
     "metadata": {},
     "output_type": "execute_result"
    }
   ],
   "source": [
    "# Import Austin Animal Center intakes and outcomes - \n",
    "aac_df = pd.read_csv(\"aac_intakes_outcomes.csv\")[[\n",
    "    'animal_id_intake',\n",
    "    'animal_type',\n",
    "    'breed',\n",
    "    'intake_month',\n",
    "    'intake_weekday',\n",
    "    'color',\n",
    "    'age_upon_intake_(years)',\n",
    "    'intake_type',\n",
    "    'intake_condition',\n",
    "    'sex_upon_intake',\n",
    "    'sex_upon_outcome',\n",
    "    'time_in_shelter_days', # goal\n",
    "    'outcome_type'\n",
    "]]\n",
    "\n",
    "aac_df.rename(columns={\n",
    "    \"animal_id_intake\": \"id\",\n",
    "    'age_upon_intake_(years)': 'age_upon_intake_years'\n",
    "}, inplace=True)\n",
    "\n",
    "aac_df.head(10)"
   ]
  },
  {
   "cell_type": "code",
   "execution_count": 3,
   "id": "0f940afe",
   "metadata": {
    "scrolled": true
   },
   "outputs": [
    {
     "data": {
      "text/plain": [
       "'Samples 79672'"
      ]
     },
     "execution_count": 3,
     "metadata": {},
     "output_type": "execute_result"
    }
   ],
   "source": [
    "f'Samples {aac_df.shape[0]}'"
   ]
  },
  {
   "cell_type": "code",
   "execution_count": 4,
   "id": "530eeb09",
   "metadata": {},
   "outputs": [
    {
     "data": {
      "text/plain": [
       "'Samples 60161'"
      ]
     },
     "execution_count": 4,
     "metadata": {},
     "output_type": "execute_result"
    }
   ],
   "source": [
    "# Filter only dogs and cats\n",
    "aac_df = aac_df[aac_df['animal_type'].str.contains('Dog|Cat')]\n",
    "aac_df = aac_df[aac_df['animal_type'].str.contains('Dog|Cat')]\n",
    "aac_df = aac_df[aac_df['outcome_type'] != 'Return to Owner']\n",
    "\n",
    "f'Samples {aac_df.shape[0]}'"
   ]
  },
  {
   "cell_type": "code",
   "execution_count": 5,
   "id": "7bb5cd8b",
   "metadata": {},
   "outputs": [
    {
     "name": "stdout",
     "output_type": "stream",
     "text": [
      "Number of animals with reproductive state changed: 27708\n",
      "Number of animals with reproductive state unknown (both intake and outcome): 2756\n",
      "Number of animals with intake reproductive state unknown and diff outcome reproductive state: 0\n",
      "Number of animals with outcome reproductive state unknown and diff intake reproductive state: 0\n",
      "If sex_upon_intake is unknown so will be sex_upon_outcome\n",
      "\n",
      "--- Percent of animals with unknown sex: 0.05% ---\n",
      "\n",
      "Number of animals with different sex (Male/Female) after io: 0\n",
      "If sex_upon_intake is Male/Female so will be sex_upon_outcome => all the changes are due to spaying/neutering\n"
     ]
    }
   ],
   "source": [
    "# Convert sex_upon_intake/sex_upon_outcome\n",
    "\n",
    "# Testing features\n",
    "n_samples_sex_diff = aac_df[aac_df['sex_upon_intake'] != aac_df['sex_upon_outcome']].shape[0]\n",
    "print(f'Number of animals with reproductive state changed: {n_samples_sex_diff}')\n",
    "\n",
    "samples_sex_unknown_io = aac_df.query('sex_upon_intake == \"Unknown\" & sex_upon_outcome == \"Unknown\"')\n",
    "print(f'Number of animals with reproductive state unknown (both intake and outcome): {samples_sex_unknown_io.shape[0]}')\n",
    "\n",
    "n_samples_sex_unknown_i_no_o = aac_df.query('sex_upon_intake == \"Unknown\" & sex_upon_outcome != \"Unknown\"').shape[0]\n",
    "print(f'Number of animals with intake reproductive state unknown and diff outcome reproductive state: {n_samples_sex_unknown_i_no_o}')\n",
    "\n",
    "n_samples_sex_unknown_no_i_o = aac_df.query('sex_upon_intake != \"Unknown\" & sex_upon_outcome == \"Unknown\"').shape[0]\n",
    "print(f'Number of animals with outcome reproductive state unknown and diff intake reproductive state: {n_samples_sex_unknown_no_i_o}')\n",
    "\n",
    "print('If sex_upon_intake is unknown so will be sex_upon_outcome')\n",
    "print(f'\\n--- Percent of animals with unknown sex: {round(samples_sex_unknown_io.shape[0]/aac_df.shape[0], 2)}% ---\\n')\n",
    "\n",
    "n_samples_only_sex_diff = aac_df[ \\\n",
    "    ((aac_df['sex_upon_intake'].str.contains('Male', na=False)) \\\n",
    "    &(aac_df['sex_upon_outcome'].str.contains('Female', na=False))) \\\n",
    "    | \\\n",
    "    (aac_df['sex_upon_intake'].str.contains('Female', na=False)) \\\n",
    "    &(aac_df['sex_upon_outcome'].str.contains('Male', na=False))].shape[0]\n",
    "\n",
    "print(f'Number of animals with different sex (Male/Female) after io: {n_samples_only_sex_diff}')\n",
    "\n",
    "print(\"If sex_upon_intake is Male/Female so will be sex_upon_outcome => all the changes are due to spaying/neutering\")\n"
   ]
  },
  {
   "cell_type": "code",
   "execution_count": 6,
   "id": "12e86eed",
   "metadata": {},
   "outputs": [
    {
     "data": {
      "text/html": [
       "<div>\n",
       "<style scoped>\n",
       "    .dataframe tbody tr th:only-of-type {\n",
       "        vertical-align: middle;\n",
       "    }\n",
       "\n",
       "    .dataframe tbody tr th {\n",
       "        vertical-align: top;\n",
       "    }\n",
       "\n",
       "    .dataframe thead th {\n",
       "        text-align: right;\n",
       "    }\n",
       "</style>\n",
       "<table border=\"1\" class=\"dataframe\">\n",
       "  <thead>\n",
       "    <tr style=\"text-align: right;\">\n",
       "      <th></th>\n",
       "      <th>id</th>\n",
       "      <th>animal_type</th>\n",
       "      <th>breed</th>\n",
       "      <th>intake_month</th>\n",
       "      <th>intake_weekday</th>\n",
       "      <th>color</th>\n",
       "      <th>age_upon_intake_years</th>\n",
       "      <th>intake_type</th>\n",
       "      <th>intake_condition</th>\n",
       "      <th>time_in_shelter_days</th>\n",
       "      <th>outcome_type</th>\n",
       "      <th>reproductive_state_intake</th>\n",
       "      <th>sex</th>\n",
       "      <th>reproductive_state_outcome</th>\n",
       "    </tr>\n",
       "  </thead>\n",
       "  <tbody>\n",
       "    <tr>\n",
       "      <th>3</th>\n",
       "      <td>A047759</td>\n",
       "      <td>Dog</td>\n",
       "      <td>Dachshund</td>\n",
       "      <td>4</td>\n",
       "      <td>Wednesday</td>\n",
       "      <td>Tricolor</td>\n",
       "      <td>10.0</td>\n",
       "      <td>Owner Surrender</td>\n",
       "      <td>Normal</td>\n",
       "      <td>4.970139</td>\n",
       "      <td>Transfer</td>\n",
       "      <td>Sterile</td>\n",
       "      <td>Male</td>\n",
       "      <td>Sterile</td>\n",
       "    </tr>\n",
       "    <tr>\n",
       "      <th>11</th>\n",
       "      <td>A197810</td>\n",
       "      <td>Cat</td>\n",
       "      <td>American Shorthair Mix</td>\n",
       "      <td>12</td>\n",
       "      <td>Monday</td>\n",
       "      <td>Brown Tabby/White</td>\n",
       "      <td>14.0</td>\n",
       "      <td>Stray</td>\n",
       "      <td>Normal</td>\n",
       "      <td>14.120139</td>\n",
       "      <td>Transfer</td>\n",
       "      <td>Sterile</td>\n",
       "      <td>Female</td>\n",
       "      <td>Sterile</td>\n",
       "    </tr>\n",
       "    <tr>\n",
       "      <th>12</th>\n",
       "      <td>A200922</td>\n",
       "      <td>Dog</td>\n",
       "      <td>Dachshund Mix</td>\n",
       "      <td>10</td>\n",
       "      <td>Thursday</td>\n",
       "      <td>Black/Tan</td>\n",
       "      <td>16.0</td>\n",
       "      <td>Owner Surrender</td>\n",
       "      <td>Normal</td>\n",
       "      <td>49.747917</td>\n",
       "      <td>Adoption</td>\n",
       "      <td>Sterile</td>\n",
       "      <td>Male</td>\n",
       "      <td>Sterile</td>\n",
       "    </tr>\n",
       "    <tr>\n",
       "      <th>13</th>\n",
       "      <td>A208755</td>\n",
       "      <td>Dog</td>\n",
       "      <td>Border Collie Mix</td>\n",
       "      <td>2</td>\n",
       "      <td>Tuesday</td>\n",
       "      <td>Black/White</td>\n",
       "      <td>14.0</td>\n",
       "      <td>Owner Surrender</td>\n",
       "      <td>Sick</td>\n",
       "      <td>0.130556</td>\n",
       "      <td>Euthanasia</td>\n",
       "      <td>Sterile</td>\n",
       "      <td>Male</td>\n",
       "      <td>Sterile</td>\n",
       "    </tr>\n",
       "    <tr>\n",
       "      <th>14</th>\n",
       "      <td>A210457</td>\n",
       "      <td>Dog</td>\n",
       "      <td>Chihuahua Shorthair</td>\n",
       "      <td>9</td>\n",
       "      <td>Wednesday</td>\n",
       "      <td>Tan/Black</td>\n",
       "      <td>17.0</td>\n",
       "      <td>Public Assist</td>\n",
       "      <td>Aged</td>\n",
       "      <td>9.020139</td>\n",
       "      <td>Adoption</td>\n",
       "      <td>Sterile</td>\n",
       "      <td>Male</td>\n",
       "      <td>Sterile</td>\n",
       "    </tr>\n",
       "  </tbody>\n",
       "</table>\n",
       "</div>"
      ],
      "text/plain": [
       "         id animal_type                   breed  intake_month intake_weekday  \\\n",
       "3   A047759         Dog               Dachshund             4      Wednesday   \n",
       "11  A197810         Cat  American Shorthair Mix            12         Monday   \n",
       "12  A200922         Dog           Dachshund Mix            10       Thursday   \n",
       "13  A208755         Dog       Border Collie Mix             2        Tuesday   \n",
       "14  A210457         Dog     Chihuahua Shorthair             9      Wednesday   \n",
       "\n",
       "                color  age_upon_intake_years      intake_type  \\\n",
       "3            Tricolor                   10.0  Owner Surrender   \n",
       "11  Brown Tabby/White                   14.0            Stray   \n",
       "12          Black/Tan                   16.0  Owner Surrender   \n",
       "13        Black/White                   14.0  Owner Surrender   \n",
       "14          Tan/Black                   17.0    Public Assist   \n",
       "\n",
       "   intake_condition  time_in_shelter_days outcome_type  \\\n",
       "3            Normal              4.970139     Transfer   \n",
       "11           Normal             14.120139     Transfer   \n",
       "12           Normal             49.747917     Adoption   \n",
       "13             Sick              0.130556   Euthanasia   \n",
       "14             Aged              9.020139     Adoption   \n",
       "\n",
       "   reproductive_state_intake     sex reproductive_state_outcome  \n",
       "3                    Sterile    Male                    Sterile  \n",
       "11                   Sterile  Female                    Sterile  \n",
       "12                   Sterile    Male                    Sterile  \n",
       "13                   Sterile    Male                    Sterile  \n",
       "14                   Sterile    Male                    Sterile  "
      ]
     },
     "execution_count": 6,
     "metadata": {},
     "output_type": "execute_result"
    }
   ],
   "source": [
    "# Breaking down features\n",
    "rsi = 'reproductive_state_intake'\n",
    "rso = 'reproductive_state_outcome'\n",
    "\n",
    "aac_df[[rsi, 'sex']] = aac_df['sex_upon_intake'].str.split(expand=True)\n",
    "aac_df.loc[aac_df['sex'].isna(), 'sex'] = 'Unknown'\n",
    "aac_df[rso] = aac_df['sex_upon_outcome'].str.split(expand=True)[0]\n",
    "\n",
    "# group neutered/spayed to sterile\n",
    "reproductive_state_cols = [rsi, rso]\n",
    "aac_df[reproductive_state_cols] = aac_df[reproductive_state_cols].replace({'Neutered':'Sterile', 'Spayed':'Sterile'})\n",
    "\n",
    "aac_df.drop(columns=['sex_upon_intake', 'sex_upon_outcome'], inplace=True)\n",
    "\n",
    "aac_df.head()"
   ]
  },
  {
   "cell_type": "code",
   "execution_count": 7,
   "id": "20cf90c0",
   "metadata": {},
   "outputs": [],
   "source": [
    "def plot_bars(data, class_names, title, ylabel):\n",
    "    x = np.arange(len(class_names))  # the label locations\n",
    "    width = 0.3  # the width of the bars\n",
    "    multiplier = 0\n",
    "    multiplier_step = 1.25 # add space between grouped bars - 1 is base\n",
    "\n",
    "    plt.rcParams[\"figure.figsize\"] = (15, 10)\n",
    "\n",
    "    fig, ax = plt.subplots(constrained_layout=True)\n",
    "\n",
    "    for animal, (counts, percents) in data.items():\n",
    "        offset = width * multiplier\n",
    "        rects = ax.barh(x + offset, counts, width, label=f'{animal}')\n",
    "        bar_labels = [f'{count} - {percent}%' for count, percent in zip(counts, percents)]\n",
    "        ax.bar_label(rects, bar_labels, padding=5)\n",
    "        multiplier += multiplier_step\n",
    "\n",
    "    # Add some text for labels, title and custom x-axis tick labels, etc.\n",
    "    ax.set_title(title)\n",
    "    ax.set_xlabel('Frequency')\n",
    "    ax.set_ylabel(ylabel)\n",
    "    yticks_pos = x if len(data) == 1 else x + width*multiplier_step/2\n",
    "    ax.set_yticks(yticks_pos, class_names)\n",
    "    ax.legend(loc='upper right', prop={'size': 12})\n",
    "    plt.plot()"
   ]
  },
  {
   "cell_type": "code",
   "execution_count": 8,
   "id": "5ca974ca",
   "metadata": {},
   "outputs": [],
   "source": [
    "filter_dogs = aac_df['animal_type'] == 'Dog'\n",
    "dogs_df = aac_df[filter_dogs]\n",
    "\n",
    "filter_cats = aac_df['animal_type'] == 'Cat'\n",
    "cats_df = aac_df[filter_cats]"
   ]
  },
  {
   "cell_type": "code",
   "execution_count": 9,
   "id": "699c6cb3",
   "metadata": {},
   "outputs": [
    {
     "data": {
      "image/png": "[encoded data removed]",
      "text/plain": [
       "<Figure size 1080x720 with 1 Axes>"
      ]
     },
     "metadata": {
      "needs_background": "light"
     },
     "output_type": "display_data"
    }
   ],
   "source": [
    "dogs_per_month_intake = dogs_df['intake_month'].value_counts().sort_index().values\n",
    "dogs_per_month_intake_pc = np.around(dogs_per_month_intake / dogs_df.shape[0] * 100, 2)\n",
    "cats_per_month_intake = cats_df['intake_month'].value_counts().sort_index().values\n",
    "cats_per_month_intake_pc = np.around(cats_per_month_intake / cats_df.shape[0] * 100, 2)\n",
    "\n",
    "data = {\n",
    "    'Dogs': (dogs_per_month_intake, dogs_per_month_intake_pc),\n",
    "    'Cats': (cats_per_month_intake, cats_per_month_intake_pc)\n",
    "}\n",
    "months = ['Jan', 'Feb', 'Mar', 'Apr', 'May', 'Jun', 'Jul', 'Aug', 'Sep', 'Oct', 'Nov', 'Dec']\n",
    "\n",
    "plot_bars(data, months, title='Animal frequency intake by months', ylabel='Month')"
   ]
  },
  {
   "cell_type": "code",
   "execution_count": 10,
   "id": "df503bf1",
   "metadata": {},
   "outputs": [
    {
     "data": {
      "image/png": "[encoded data removed]",
      "text/plain": [
       "<Figure size 1080x720 with 1 Axes>"
      ]
     },
     "metadata": {
      "needs_background": "light"
     },
     "output_type": "display_data"
    }
   ],
   "source": [
    "weekdays = ['Monday', 'Tuesday', 'Wednesday', 'Thursday', 'Friday', 'Saturday', 'Sunday']\n",
    "\n",
    "dogs_per_weekday_intake = dogs_df['intake_weekday'].value_counts().reindex(weekdays, fill_value=0).values\n",
    "dogs_per_weekday_intake_pc = np.around(dogs_per_weekday_intake / dogs_df.shape[0] * 100, 2)\n",
    "cats_per_weekday_intake = cats_df['intake_weekday'].value_counts().reindex(weekdays, fill_value=0).values\n",
    "cats_per_weekday_intake_pc = np.around(cats_per_weekday_intake / cats_df.shape[0] * 100, 2)\n",
    "\n",
    "data = {\n",
    "    'Dogs': (dogs_per_weekday_intake, dogs_per_weekday_intake_pc),\n",
    "    'Cats': (cats_per_weekday_intake, cats_per_weekday_intake_pc)\n",
    "}\n",
    "plot_bars(data, weekdays, title='Animal frequency intake by weekdays', ylabel='Weekday')"
   ]
  },
  {
   "cell_type": "code",
   "execution_count": 11,
   "id": "e0e4635b",
   "metadata": {
    "scrolled": true
   },
   "outputs": [
    {
     "data": {
      "text/html": [
       "<div>\n",
       "<style scoped>\n",
       "    .dataframe tbody tr th:only-of-type {\n",
       "        vertical-align: middle;\n",
       "    }\n",
       "\n",
       "    .dataframe tbody tr th {\n",
       "        vertical-align: top;\n",
       "    }\n",
       "\n",
       "    .dataframe thead th {\n",
       "        text-align: right;\n",
       "    }\n",
       "</style>\n",
       "<table border=\"1\" class=\"dataframe\">\n",
       "  <thead>\n",
       "    <tr style=\"text-align: right;\">\n",
       "      <th></th>\n",
       "      <th>age_upon_intake_years</th>\n",
       "      <th>time_in_shelter_days</th>\n",
       "    </tr>\n",
       "  </thead>\n",
       "  <tbody>\n",
       "    <tr>\n",
       "      <th>age_upon_intake_years</th>\n",
       "      <td>1.000000</td>\n",
       "      <td>0.115625</td>\n",
       "    </tr>\n",
       "    <tr>\n",
       "      <th>time_in_shelter_days</th>\n",
       "      <td>0.115625</td>\n",
       "      <td>1.000000</td>\n",
       "    </tr>\n",
       "  </tbody>\n",
       "</table>\n",
       "</div>"
      ],
      "text/plain": [
       "                       age_upon_intake_years  time_in_shelter_days\n",
       "age_upon_intake_years               1.000000              0.115625\n",
       "time_in_shelter_days                0.115625              1.000000"
      ]
     },
     "execution_count": 11,
     "metadata": {},
     "output_type": "execute_result"
    }
   ],
   "source": [
    "dogs_df[['age_upon_intake_years', 'time_in_shelter_days']].corr()"
   ]
  },
  {
   "cell_type": "code",
   "execution_count": 12,
   "id": "98095fae",
   "metadata": {
    "scrolled": false
   },
   "outputs": [
    {
     "data": {
      "text/html": [
       "<div>\n",
       "<style scoped>\n",
       "    .dataframe tbody tr th:only-of-type {\n",
       "        vertical-align: middle;\n",
       "    }\n",
       "\n",
       "    .dataframe tbody tr th {\n",
       "        vertical-align: top;\n",
       "    }\n",
       "\n",
       "    .dataframe thead th {\n",
       "        text-align: right;\n",
       "    }\n",
       "</style>\n",
       "<table border=\"1\" class=\"dataframe\">\n",
       "  <thead>\n",
       "    <tr style=\"text-align: right;\">\n",
       "      <th></th>\n",
       "      <th>age_upon_intake_years</th>\n",
       "      <th>time_in_shelter_days</th>\n",
       "    </tr>\n",
       "  </thead>\n",
       "  <tbody>\n",
       "    <tr>\n",
       "      <th>age_upon_intake_years</th>\n",
       "      <td>1.000000</td>\n",
       "      <td>0.086583</td>\n",
       "    </tr>\n",
       "    <tr>\n",
       "      <th>time_in_shelter_days</th>\n",
       "      <td>0.086583</td>\n",
       "      <td>1.000000</td>\n",
       "    </tr>\n",
       "  </tbody>\n",
       "</table>\n",
       "</div>"
      ],
      "text/plain": [
       "                       age_upon_intake_years  time_in_shelter_days\n",
       "age_upon_intake_years               1.000000              0.086583\n",
       "time_in_shelter_days                0.086583              1.000000"
      ]
     },
     "execution_count": 12,
     "metadata": {},
     "output_type": "execute_result"
    }
   ],
   "source": [
    "cats_df[['age_upon_intake_years', 'time_in_shelter_days']].corr()"
   ]
  },
  {
   "cell_type": "code",
   "execution_count": 13,
   "id": "3dc7f56c",
   "metadata": {
    "scrolled": false
   },
   "outputs": [],
   "source": [
    "# Color - all animals, dogs, cats - dogs and cats have different colors and prints\n",
    "\n",
    "def plot_colors_freq_diag(color_col, title_append):\n",
    "    colors_pc = color_col.value_counts(normalize=True)\n",
    "    colors_pc_cumsum = np.cumsum(colors_pc.values)\n",
    "    color_number = np.arange(len(colors_pc_cumsum))\n",
    "    print(colors_pc)\n",
    "    \n",
    "    plt.rcParams[\"figure.figsize\"] = (15, 7)\n",
    "    \n",
    "    xstep = 20\n",
    "    plt.xticks(np.arange(0, 500 + xstep, step = xstep))\n",
    "\n",
    "    ystep = 0.1\n",
    "    plt.yticks(np.arange(0, 1 + ystep, step=ystep))\n",
    "\n",
    "    plt.grid()\n",
    "\n",
    "    plt.xlabel('Color number')\n",
    "    plt.ylabel('% of rows')\n",
    "    plt.title(f'Frequency distribution {title_append}')\n",
    "\n",
    "    plt.plot(color_number, colors_pc_cumsum)"
   ]
  },
  {
   "cell_type": "code",
   "execution_count": 14,
   "id": "1874c346",
   "metadata": {
    "scrolled": true
   },
   "outputs": [
    {
     "name": "stdout",
     "output_type": "stream",
     "text": [
      "Black/White            0.108343\n",
      "Black                  0.090607\n",
      "Brown Tabby            0.071126\n",
      "Brown Tabby/White      0.037134\n",
      "Orange Tabby           0.034108\n",
      "                         ...   \n",
      "Blue/Yellow Brindle    0.000017\n",
      "Gray/Red               0.000017\n",
      "Buff/Cream             0.000017\n",
      "Gray/Buff              0.000017\n",
      "Gold/Gray              0.000017\n",
      "Name: color, Length: 468, dtype: float64\n"
     ]
    },
    {
     "data": {
      "image/png": "[encoded data removed]",
      "text/plain": [
       "<Figure size 1080x504 with 1 Axes>"
      ]
     },
     "metadata": {
      "needs_background": "light"
     },
     "output_type": "display_data"
    }
   ],
   "source": [
    "plot_colors_freq_diag(aac_df['color'], title_append=' - all animals')"
   ]
  },
  {
   "cell_type": "markdown",
   "id": "e623e72d",
   "metadata": {},
   "source": [
    "From the **frequency distribution**, we observe that few color categories have high frequency and\n",
    "most of the categories have a very low frequency. \n",
    "We can restrict one-hot encoding to only top x frequently occurring categories."
   ]
  },
  {
   "cell_type": "code",
   "execution_count": 15,
   "id": "9d31a103",
   "metadata": {
    "scrolled": false
   },
   "outputs": [
    {
     "name": "stdout",
     "output_type": "stream",
     "text": [
      "Black/White                 0.119995\n",
      "Tan/White                   0.055464\n",
      "Black                       0.055059\n",
      "Brown/White                 0.053501\n",
      "White                       0.049294\n",
      "                              ...   \n",
      "Tan/Brown Brindle           0.000031\n",
      "Red Tick/Brown Merle        0.000031\n",
      "Blue Merle/Brown Brindle    0.000031\n",
      "Blue Cream/Blue Tiger       0.000031\n",
      "Gold/Gray                   0.000031\n",
      "Name: color, Length: 305, dtype: float64\n"
     ]
    },
    {
     "data": {
      "image/png": "[encoded data removed]",
      "text/plain": [
       "<Figure size 1080x504 with 1 Axes>"
      ]
     },
     "metadata": {
      "needs_background": "light"
     },
     "output_type": "display_data"
    }
   ],
   "source": [
    "plot_colors_freq_diag(dogs_df['color'], title_append=\" - dogs\")"
   ]
  },
  {
   "cell_type": "markdown",
   "id": "a012f2a0",
   "metadata": {},
   "source": [
    "**40** top occuring colors covers ~ **90%** of rows for dogs."
   ]
  },
  {
   "cell_type": "code",
   "execution_count": 16,
   "id": "c38e32ba",
   "metadata": {},
   "outputs": [
    {
     "name": "stdout",
     "output_type": "stream",
     "text": [
      "Brown Tabby                  0.152451\n",
      "Black                        0.131253\n",
      "Black/White                  0.095019\n",
      "Brown Tabby/White            0.079592\n",
      "Orange Tabby                 0.073108\n",
      "                               ...   \n",
      "Black/Silver Tabby           0.000036\n",
      "Orange Tabby/Tortie Point    0.000036\n",
      "Orange Tabby/Black           0.000036\n",
      "Tricolor/Calico              0.000036\n",
      "Black Smoke/Black Tiger      0.000036\n",
      "Name: color, Length: 228, dtype: float64\n"
     ]
    },
    {
     "data": {
      "image/png": "[encoded data removed]",
      "text/plain": [
       "<Figure size 1080x504 with 1 Axes>"
      ]
     },
     "metadata": {
      "needs_background": "light"
     },
     "output_type": "display_data"
    }
   ],
   "source": [
    "plot_colors_freq_diag(cats_df['color'], title_append=\" - cats\")"
   ]
  },
  {
   "cell_type": "markdown",
   "id": "101956ba",
   "metadata": {},
   "source": [
    "**20** top occuring colors covers ~ **90%** of rows for cats."
   ]
  },
  {
   "cell_type": "code",
   "execution_count": 17,
   "id": "581bbf79",
   "metadata": {},
   "outputs": [],
   "source": [
    "def leave_top_colors(top_colors):\n",
    "    return lambda color: color if color in top_colors else 'Other'"
   ]
  },
  {
   "cell_type": "code",
   "execution_count": 18,
   "id": "6069c3ad",
   "metadata": {},
   "outputs": [
    {
     "data": {
      "text/plain": [
       "array(['Tricolor', 'Black/Tan', 'Black/White', 'Tan/Black', 'Other',\n",
       "       'Brown/White', 'Tan', 'Black/Brown', 'Brown', 'White',\n",
       "       'Brown/Black', 'Black', 'Red', 'Brown Brindle/White', 'Tan/White',\n",
       "       'White/Tan', 'White/Brown', 'Brown Brindle', 'Red/White',\n",
       "       'White/Black', 'Blue/White'], dtype=object)"
      ]
     },
     "execution_count": 18,
     "metadata": {},
     "output_type": "execute_result"
    }
   ],
   "source": [
    "dogs_colors_top_90 = set(dogs_df['color'].value_counts(normalize=True).keys()[:20])\n",
    "aac_df.loc[filter_dogs, 'color'] = aac_df[filter_dogs]['color'].apply(leave_top_colors(dogs_colors_top_90))\n",
    "aac_df[filter_dogs]['color'].unique()"
   ]
  },
  {
   "cell_type": "code",
   "execution_count": 19,
   "id": "694ed025",
   "metadata": {},
   "outputs": [
    {
     "data": {
      "text/plain": [
       "array(['Brown Tabby/White', 'Black', 'Other', 'Black/White', 'Tortie',\n",
       "       'Orange Tabby/White', 'Calico', 'Brown Tabby', 'Blue/White',\n",
       "       'Blue', 'Blue Tabby', 'Torbie', 'Orange Tabby'], dtype=object)"
      ]
     },
     "execution_count": 19,
     "metadata": {},
     "output_type": "execute_result"
    }
   ],
   "source": [
    "cats_colors_top_90 = set(cats_df['color'].value_counts(normalize=True).keys()[:12])\n",
    "aac_df.loc[filter_cats, 'color'] = aac_df[filter_cats]['color'].apply(leave_top_colors(cats_colors_top_90))\n",
    "aac_df[filter_cats]['color'].unique()"
   ]
  },
  {
   "cell_type": "code",
   "execution_count": 20,
   "id": "4eb5a910",
   "metadata": {
    "scrolled": false
   },
   "outputs": [
    {
     "data": {
      "text/html": [
       "<div>\n",
       "<style scoped>\n",
       "    .dataframe tbody tr th:only-of-type {\n",
       "        vertical-align: middle;\n",
       "    }\n",
       "\n",
       "    .dataframe tbody tr th {\n",
       "        vertical-align: top;\n",
       "    }\n",
       "\n",
       "    .dataframe thead th {\n",
       "        text-align: right;\n",
       "    }\n",
       "</style>\n",
       "<table border=\"1\" class=\"dataframe\">\n",
       "  <thead>\n",
       "    <tr style=\"text-align: right;\">\n",
       "      <th></th>\n",
       "      <th>id</th>\n",
       "      <th>animal_type</th>\n",
       "      <th>breed</th>\n",
       "      <th>intake_month</th>\n",
       "      <th>intake_weekday</th>\n",
       "      <th>color</th>\n",
       "      <th>age_upon_intake_years</th>\n",
       "      <th>intake_type</th>\n",
       "      <th>intake_condition</th>\n",
       "      <th>time_in_shelter_days</th>\n",
       "      <th>outcome_type</th>\n",
       "      <th>reproductive_state_intake</th>\n",
       "      <th>sex</th>\n",
       "      <th>reproductive_state_outcome</th>\n",
       "    </tr>\n",
       "  </thead>\n",
       "  <tbody>\n",
       "    <tr>\n",
       "      <th>3</th>\n",
       "      <td>A047759</td>\n",
       "      <td>dog</td>\n",
       "      <td>dachshund</td>\n",
       "      <td>4</td>\n",
       "      <td>wednesday</td>\n",
       "      <td>tricolor</td>\n",
       "      <td>10.0</td>\n",
       "      <td>owner_surrender</td>\n",
       "      <td>normal</td>\n",
       "      <td>4.970139</td>\n",
       "      <td>Transfer</td>\n",
       "      <td>sterile</td>\n",
       "      <td>male</td>\n",
       "      <td>sterile</td>\n",
       "    </tr>\n",
       "    <tr>\n",
       "      <th>11</th>\n",
       "      <td>A197810</td>\n",
       "      <td>cat</td>\n",
       "      <td>american shorthair mix</td>\n",
       "      <td>12</td>\n",
       "      <td>monday</td>\n",
       "      <td>brown_tabby_white</td>\n",
       "      <td>14.0</td>\n",
       "      <td>stray</td>\n",
       "      <td>normal</td>\n",
       "      <td>14.120139</td>\n",
       "      <td>Transfer</td>\n",
       "      <td>sterile</td>\n",
       "      <td>female</td>\n",
       "      <td>sterile</td>\n",
       "    </tr>\n",
       "    <tr>\n",
       "      <th>12</th>\n",
       "      <td>A200922</td>\n",
       "      <td>dog</td>\n",
       "      <td>dachshund mix</td>\n",
       "      <td>10</td>\n",
       "      <td>thursday</td>\n",
       "      <td>black_tan</td>\n",
       "      <td>16.0</td>\n",
       "      <td>owner_surrender</td>\n",
       "      <td>normal</td>\n",
       "      <td>49.747917</td>\n",
       "      <td>Adoption</td>\n",
       "      <td>sterile</td>\n",
       "      <td>male</td>\n",
       "      <td>sterile</td>\n",
       "    </tr>\n",
       "    <tr>\n",
       "      <th>13</th>\n",
       "      <td>A208755</td>\n",
       "      <td>dog</td>\n",
       "      <td>border collie mix</td>\n",
       "      <td>2</td>\n",
       "      <td>tuesday</td>\n",
       "      <td>black_white</td>\n",
       "      <td>14.0</td>\n",
       "      <td>owner_surrender</td>\n",
       "      <td>sick</td>\n",
       "      <td>0.130556</td>\n",
       "      <td>Euthanasia</td>\n",
       "      <td>sterile</td>\n",
       "      <td>male</td>\n",
       "      <td>sterile</td>\n",
       "    </tr>\n",
       "    <tr>\n",
       "      <th>14</th>\n",
       "      <td>A210457</td>\n",
       "      <td>dog</td>\n",
       "      <td>chihuahua shorthair</td>\n",
       "      <td>9</td>\n",
       "      <td>wednesday</td>\n",
       "      <td>tan_black</td>\n",
       "      <td>17.0</td>\n",
       "      <td>public_assist</td>\n",
       "      <td>aged</td>\n",
       "      <td>9.020139</td>\n",
       "      <td>Adoption</td>\n",
       "      <td>sterile</td>\n",
       "      <td>male</td>\n",
       "      <td>sterile</td>\n",
       "    </tr>\n",
       "  </tbody>\n",
       "</table>\n",
       "</div>"
      ],
      "text/plain": [
       "         id animal_type                   breed  intake_month intake_weekday  \\\n",
       "3   A047759         dog               dachshund             4      wednesday   \n",
       "11  A197810         cat  american shorthair mix            12         monday   \n",
       "12  A200922         dog           dachshund mix            10       thursday   \n",
       "13  A208755         dog       border collie mix             2        tuesday   \n",
       "14  A210457         dog     chihuahua shorthair             9      wednesday   \n",
       "\n",
       "                color  age_upon_intake_years      intake_type  \\\n",
       "3            tricolor                   10.0  owner_surrender   \n",
       "11  brown_tabby_white                   14.0            stray   \n",
       "12          black_tan                   16.0  owner_surrender   \n",
       "13        black_white                   14.0  owner_surrender   \n",
       "14          tan_black                   17.0    public_assist   \n",
       "\n",
       "   intake_condition  time_in_shelter_days outcome_type  \\\n",
       "3            normal              4.970139     Transfer   \n",
       "11           normal             14.120139     Transfer   \n",
       "12           normal             49.747917     Adoption   \n",
       "13             sick              0.130556   Euthanasia   \n",
       "14             aged              9.020139     Adoption   \n",
       "\n",
       "   reproductive_state_intake     sex reproductive_state_outcome  \n",
       "3                    sterile    male                    sterile  \n",
       "11                   sterile  female                    sterile  \n",
       "12                   sterile    male                    sterile  \n",
       "13                   sterile    male                    sterile  \n",
       "14                   sterile    male                    sterile  "
      ]
     },
     "execution_count": 20,
     "metadata": {},
     "output_type": "execute_result"
    }
   ],
   "source": [
    "# string columns to lowercase\n",
    "str_cols = [\n",
    "    'animal_type',\n",
    "    'breed',\n",
    "    'color',\n",
    "    'intake_weekday',\n",
    "    'intake_type',\n",
    "    'intake_condition',\n",
    "    'sex',\n",
    "    'reproductive_state_intake', \n",
    "    'reproductive_state_outcome'\n",
    "]\n",
    "\n",
    "for col in str_cols:\n",
    "    aac_df[col] = aac_df[col].str.lower()\n",
    "    \n",
    "aac_df['intake_type'] = aac_df['intake_type'].str.replace(' ', '_')\n",
    "aac_df['color'] = aac_df['color'].str.replace(r'[ /]', '_', regex='True')\n",
    "aac_df.head()"
   ]
  },
  {
   "cell_type": "code",
   "execution_count": 21,
   "id": "bd44f54a",
   "metadata": {
    "scrolled": true
   },
   "outputs": [],
   "source": [
    "# One hot encoding categorical data - all but color\n",
    "\n",
    "one_hot_cols = [\n",
    "    'intake_weekday',\n",
    "    'intake_month', # although it's a number it can be treated the same as the name of the month\n",
    "    'intake_type',\n",
    "    'intake_condition',\n",
    "    'sex',\n",
    "    'reproductive_state_intake',\n",
    "    'reproductive_state_outcome'\n",
    "]\n",
    "\n",
    "aac_df_oh = pd.get_dummies(aac_df, columns=one_hot_cols)\n",
    "aac_df_oh.drop(columns=['sex_unknown', 'reproductive_state_intake_unknown', 'reproductive_state_outcome_unknown'], inplace=True)"
   ]
  },
  {
   "cell_type": "code",
   "execution_count": 22,
   "id": "15e9e208",
   "metadata": {},
   "outputs": [
    {
     "data": {
      "text/html": [
       "<div>\n",
       "<style scoped>\n",
       "    .dataframe tbody tr th:only-of-type {\n",
       "        vertical-align: middle;\n",
       "    }\n",
       "\n",
       "    .dataframe tbody tr th {\n",
       "        vertical-align: top;\n",
       "    }\n",
       "\n",
       "    .dataframe thead th {\n",
       "        text-align: right;\n",
       "    }\n",
       "</style>\n",
       "<table border=\"1\" class=\"dataframe\">\n",
       "  <thead>\n",
       "    <tr style=\"text-align: right;\">\n",
       "      <th></th>\n",
       "      <th>id</th>\n",
       "      <th>animal_type</th>\n",
       "      <th>breed</th>\n",
       "      <th>color</th>\n",
       "      <th>age_upon_intake_years</th>\n",
       "      <th>time_in_shelter_days</th>\n",
       "      <th>outcome_type</th>\n",
       "      <th>intake_weekday_friday</th>\n",
       "      <th>intake_weekday_monday</th>\n",
       "      <th>intake_weekday_saturday</th>\n",
       "      <th>...</th>\n",
       "      <th>intake_condition_nursing</th>\n",
       "      <th>intake_condition_other</th>\n",
       "      <th>intake_condition_pregnant</th>\n",
       "      <th>intake_condition_sick</th>\n",
       "      <th>sex_female</th>\n",
       "      <th>sex_male</th>\n",
       "      <th>reproductive_state_intake_intact</th>\n",
       "      <th>reproductive_state_intake_sterile</th>\n",
       "      <th>reproductive_state_outcome_intact</th>\n",
       "      <th>reproductive_state_outcome_sterile</th>\n",
       "    </tr>\n",
       "  </thead>\n",
       "  <tbody>\n",
       "    <tr>\n",
       "      <th>3</th>\n",
       "      <td>A047759</td>\n",
       "      <td>dog</td>\n",
       "      <td>dachshund</td>\n",
       "      <td>tricolor</td>\n",
       "      <td>0.454545</td>\n",
       "      <td>4.970139</td>\n",
       "      <td>Transfer</td>\n",
       "      <td>0</td>\n",
       "      <td>0</td>\n",
       "      <td>0</td>\n",
       "      <td>...</td>\n",
       "      <td>0</td>\n",
       "      <td>0</td>\n",
       "      <td>0</td>\n",
       "      <td>0</td>\n",
       "      <td>0</td>\n",
       "      <td>1</td>\n",
       "      <td>0</td>\n",
       "      <td>1</td>\n",
       "      <td>0</td>\n",
       "      <td>1</td>\n",
       "    </tr>\n",
       "    <tr>\n",
       "      <th>11</th>\n",
       "      <td>A197810</td>\n",
       "      <td>cat</td>\n",
       "      <td>american shorthair mix</td>\n",
       "      <td>brown_tabby_white</td>\n",
       "      <td>0.636364</td>\n",
       "      <td>14.120139</td>\n",
       "      <td>Transfer</td>\n",
       "      <td>0</td>\n",
       "      <td>1</td>\n",
       "      <td>0</td>\n",
       "      <td>...</td>\n",
       "      <td>0</td>\n",
       "      <td>0</td>\n",
       "      <td>0</td>\n",
       "      <td>0</td>\n",
       "      <td>1</td>\n",
       "      <td>0</td>\n",
       "      <td>0</td>\n",
       "      <td>1</td>\n",
       "      <td>0</td>\n",
       "      <td>1</td>\n",
       "    </tr>\n",
       "    <tr>\n",
       "      <th>12</th>\n",
       "      <td>A200922</td>\n",
       "      <td>dog</td>\n",
       "      <td>dachshund mix</td>\n",
       "      <td>black_tan</td>\n",
       "      <td>0.727273</td>\n",
       "      <td>49.747917</td>\n",
       "      <td>Adoption</td>\n",
       "      <td>0</td>\n",
       "      <td>0</td>\n",
       "      <td>0</td>\n",
       "      <td>...</td>\n",
       "      <td>0</td>\n",
       "      <td>0</td>\n",
       "      <td>0</td>\n",
       "      <td>0</td>\n",
       "      <td>0</td>\n",
       "      <td>1</td>\n",
       "      <td>0</td>\n",
       "      <td>1</td>\n",
       "      <td>0</td>\n",
       "      <td>1</td>\n",
       "    </tr>\n",
       "    <tr>\n",
       "      <th>13</th>\n",
       "      <td>A208755</td>\n",
       "      <td>dog</td>\n",
       "      <td>border collie mix</td>\n",
       "      <td>black_white</td>\n",
       "      <td>0.636364</td>\n",
       "      <td>0.130556</td>\n",
       "      <td>Euthanasia</td>\n",
       "      <td>0</td>\n",
       "      <td>0</td>\n",
       "      <td>0</td>\n",
       "      <td>...</td>\n",
       "      <td>0</td>\n",
       "      <td>0</td>\n",
       "      <td>0</td>\n",
       "      <td>1</td>\n",
       "      <td>0</td>\n",
       "      <td>1</td>\n",
       "      <td>0</td>\n",
       "      <td>1</td>\n",
       "      <td>0</td>\n",
       "      <td>1</td>\n",
       "    </tr>\n",
       "    <tr>\n",
       "      <th>14</th>\n",
       "      <td>A210457</td>\n",
       "      <td>dog</td>\n",
       "      <td>chihuahua shorthair</td>\n",
       "      <td>tan_black</td>\n",
       "      <td>0.772727</td>\n",
       "      <td>9.020139</td>\n",
       "      <td>Adoption</td>\n",
       "      <td>0</td>\n",
       "      <td>0</td>\n",
       "      <td>0</td>\n",
       "      <td>...</td>\n",
       "      <td>0</td>\n",
       "      <td>0</td>\n",
       "      <td>0</td>\n",
       "      <td>0</td>\n",
       "      <td>0</td>\n",
       "      <td>1</td>\n",
       "      <td>0</td>\n",
       "      <td>1</td>\n",
       "      <td>0</td>\n",
       "      <td>1</td>\n",
       "    </tr>\n",
       "    <tr>\n",
       "      <th>...</th>\n",
       "      <td>...</td>\n",
       "      <td>...</td>\n",
       "      <td>...</td>\n",
       "      <td>...</td>\n",
       "      <td>...</td>\n",
       "      <td>...</td>\n",
       "      <td>...</td>\n",
       "      <td>...</td>\n",
       "      <td>...</td>\n",
       "      <td>...</td>\n",
       "      <td>...</td>\n",
       "      <td>...</td>\n",
       "      <td>...</td>\n",
       "      <td>...</td>\n",
       "      <td>...</td>\n",
       "      <td>...</td>\n",
       "      <td>...</td>\n",
       "      <td>...</td>\n",
       "      <td>...</td>\n",
       "      <td>...</td>\n",
       "      <td>...</td>\n",
       "    </tr>\n",
       "    <tr>\n",
       "      <th>79664</th>\n",
       "      <td>A769057</td>\n",
       "      <td>cat</td>\n",
       "      <td>domestic shorthair mix</td>\n",
       "      <td>other</td>\n",
       "      <td>0.001743</td>\n",
       "      <td>0.076389</td>\n",
       "      <td>Transfer</td>\n",
       "      <td>0</td>\n",
       "      <td>0</td>\n",
       "      <td>0</td>\n",
       "      <td>...</td>\n",
       "      <td>0</td>\n",
       "      <td>0</td>\n",
       "      <td>0</td>\n",
       "      <td>0</td>\n",
       "      <td>0</td>\n",
       "      <td>0</td>\n",
       "      <td>0</td>\n",
       "      <td>0</td>\n",
       "      <td>0</td>\n",
       "      <td>0</td>\n",
       "    </tr>\n",
       "    <tr>\n",
       "      <th>79665</th>\n",
       "      <td>A769058</td>\n",
       "      <td>cat</td>\n",
       "      <td>domestic shorthair mix</td>\n",
       "      <td>blue</td>\n",
       "      <td>0.001743</td>\n",
       "      <td>0.076389</td>\n",
       "      <td>Transfer</td>\n",
       "      <td>0</td>\n",
       "      <td>0</td>\n",
       "      <td>0</td>\n",
       "      <td>...</td>\n",
       "      <td>0</td>\n",
       "      <td>0</td>\n",
       "      <td>0</td>\n",
       "      <td>0</td>\n",
       "      <td>0</td>\n",
       "      <td>0</td>\n",
       "      <td>0</td>\n",
       "      <td>0</td>\n",
       "      <td>0</td>\n",
       "      <td>0</td>\n",
       "    </tr>\n",
       "    <tr>\n",
       "      <th>79666</th>\n",
       "      <td>A769059</td>\n",
       "      <td>cat</td>\n",
       "      <td>domestic shorthair mix</td>\n",
       "      <td>blue</td>\n",
       "      <td>0.001743</td>\n",
       "      <td>0.708333</td>\n",
       "      <td>Transfer</td>\n",
       "      <td>0</td>\n",
       "      <td>0</td>\n",
       "      <td>0</td>\n",
       "      <td>...</td>\n",
       "      <td>0</td>\n",
       "      <td>0</td>\n",
       "      <td>0</td>\n",
       "      <td>0</td>\n",
       "      <td>0</td>\n",
       "      <td>0</td>\n",
       "      <td>0</td>\n",
       "      <td>0</td>\n",
       "      <td>0</td>\n",
       "      <td>0</td>\n",
       "    </tr>\n",
       "    <tr>\n",
       "      <th>79667</th>\n",
       "      <td>A769060</td>\n",
       "      <td>cat</td>\n",
       "      <td>domestic shorthair mix</td>\n",
       "      <td>tortie</td>\n",
       "      <td>0.001743</td>\n",
       "      <td>0.077083</td>\n",
       "      <td>Transfer</td>\n",
       "      <td>0</td>\n",
       "      <td>0</td>\n",
       "      <td>0</td>\n",
       "      <td>...</td>\n",
       "      <td>0</td>\n",
       "      <td>0</td>\n",
       "      <td>0</td>\n",
       "      <td>0</td>\n",
       "      <td>0</td>\n",
       "      <td>0</td>\n",
       "      <td>0</td>\n",
       "      <td>0</td>\n",
       "      <td>0</td>\n",
       "      <td>0</td>\n",
       "    </tr>\n",
       "    <tr>\n",
       "      <th>79671</th>\n",
       "      <td>A769067</td>\n",
       "      <td>dog</td>\n",
       "      <td>boxer mix</td>\n",
       "      <td>brown_brindle</td>\n",
       "      <td>0.454545</td>\n",
       "      <td>0.813889</td>\n",
       "      <td>Euthanasia</td>\n",
       "      <td>0</td>\n",
       "      <td>0</td>\n",
       "      <td>0</td>\n",
       "      <td>...</td>\n",
       "      <td>0</td>\n",
       "      <td>0</td>\n",
       "      <td>0</td>\n",
       "      <td>0</td>\n",
       "      <td>1</td>\n",
       "      <td>0</td>\n",
       "      <td>0</td>\n",
       "      <td>1</td>\n",
       "      <td>0</td>\n",
       "      <td>1</td>\n",
       "    </tr>\n",
       "  </tbody>\n",
       "</table>\n",
       "<p>60161 rows × 44 columns</p>\n",
       "</div>"
      ],
      "text/plain": [
       "            id animal_type                   breed              color  \\\n",
       "3      A047759         dog               dachshund           tricolor   \n",
       "11     A197810         cat  american shorthair mix  brown_tabby_white   \n",
       "12     A200922         dog           dachshund mix          black_tan   \n",
       "13     A208755         dog       border collie mix        black_white   \n",
       "14     A210457         dog     chihuahua shorthair          tan_black   \n",
       "...        ...         ...                     ...                ...   \n",
       "79664  A769057         cat  domestic shorthair mix              other   \n",
       "79665  A769058         cat  domestic shorthair mix               blue   \n",
       "79666  A769059         cat  domestic shorthair mix               blue   \n",
       "79667  A769060         cat  domestic shorthair mix             tortie   \n",
       "79671  A769067         dog               boxer mix      brown_brindle   \n",
       "\n",
       "       age_upon_intake_years  time_in_shelter_days outcome_type  \\\n",
       "3                   0.454545              4.970139     Transfer   \n",
       "11                  0.636364             14.120139     Transfer   \n",
       "12                  0.727273             49.747917     Adoption   \n",
       "13                  0.636364              0.130556   Euthanasia   \n",
       "14                  0.772727              9.020139     Adoption   \n",
       "...                      ...                   ...          ...   \n",
       "79664               0.001743              0.076389     Transfer   \n",
       "79665               0.001743              0.076389     Transfer   \n",
       "79666               0.001743              0.708333     Transfer   \n",
       "79667               0.001743              0.077083     Transfer   \n",
       "79671               0.454545              0.813889   Euthanasia   \n",
       "\n",
       "       intake_weekday_friday  intake_weekday_monday  intake_weekday_saturday  \\\n",
       "3                          0                      0                        0   \n",
       "11                         0                      1                        0   \n",
       "12                         0                      0                        0   \n",
       "13                         0                      0                        0   \n",
       "14                         0                      0                        0   \n",
       "...                      ...                    ...                      ...   \n",
       "79664                      0                      0                        0   \n",
       "79665                      0                      0                        0   \n",
       "79666                      0                      0                        0   \n",
       "79667                      0                      0                        0   \n",
       "79671                      0                      0                        0   \n",
       "\n",
       "       ...  intake_condition_nursing  intake_condition_other  \\\n",
       "3      ...                         0                       0   \n",
       "11     ...                         0                       0   \n",
       "12     ...                         0                       0   \n",
       "13     ...                         0                       0   \n",
       "14     ...                         0                       0   \n",
       "...    ...                       ...                     ...   \n",
       "79664  ...                         0                       0   \n",
       "79665  ...                         0                       0   \n",
       "79666  ...                         0                       0   \n",
       "79667  ...                         0                       0   \n",
       "79671  ...                         0                       0   \n",
       "\n",
       "       intake_condition_pregnant  intake_condition_sick  sex_female  sex_male  \\\n",
       "3                              0                      0           0         1   \n",
       "11                             0                      0           1         0   \n",
       "12                             0                      0           0         1   \n",
       "13                             0                      1           0         1   \n",
       "14                             0                      0           0         1   \n",
       "...                          ...                    ...         ...       ...   \n",
       "79664                          0                      0           0         0   \n",
       "79665                          0                      0           0         0   \n",
       "79666                          0                      0           0         0   \n",
       "79667                          0                      0           0         0   \n",
       "79671                          0                      0           1         0   \n",
       "\n",
       "       reproductive_state_intake_intact  reproductive_state_intake_sterile  \\\n",
       "3                                     0                                  1   \n",
       "11                                    0                                  1   \n",
       "12                                    0                                  1   \n",
       "13                                    0                                  1   \n",
       "14                                    0                                  1   \n",
       "...                                 ...                                ...   \n",
       "79664                                 0                                  0   \n",
       "79665                                 0                                  0   \n",
       "79666                                 0                                  0   \n",
       "79667                                 0                                  0   \n",
       "79671                                 0                                  1   \n",
       "\n",
       "       reproductive_state_outcome_intact  reproductive_state_outcome_sterile  \n",
       "3                                      0                                   1  \n",
       "11                                     0                                   1  \n",
       "12                                     0                                   1  \n",
       "13                                     0                                   1  \n",
       "14                                     0                                   1  \n",
       "...                                  ...                                 ...  \n",
       "79664                                  0                                   0  \n",
       "79665                                  0                                   0  \n",
       "79666                                  0                                   0  \n",
       "79667                                  0                                   0  \n",
       "79671                                  0                                   1  \n",
       "\n",
       "[60161 rows x 44 columns]"
      ]
     },
     "execution_count": 22,
     "metadata": {},
     "output_type": "execute_result"
    }
   ],
   "source": [
    "# Scale age_upon_intake_years\n",
    "years = aac_df_oh['age_upon_intake_years']\n",
    "aac_df_oh['age_upon_intake_years'] = (years-years.min())/(years.max()-years.min())\n",
    "aac_df_oh"
   ]
  },
  {
   "cell_type": "code",
   "execution_count": 23,
   "id": "0d343f83",
   "metadata": {
    "scrolled": true
   },
   "outputs": [
    {
     "data": {
      "text/plain": [
       "(60161, 44)"
      ]
     },
     "execution_count": 23,
     "metadata": {},
     "output_type": "execute_result"
    }
   ],
   "source": [
    "aac_df_oh.shape"
   ]
  },
  {
   "cell_type": "code",
   "execution_count": 24,
   "id": "76f28023",
   "metadata": {},
   "outputs": [],
   "source": [
    "# Create separate datasets for dogs and cats\n",
    "dogs_df = aac_df_oh[aac_df_oh['animal_type'] == 'dog'].drop(columns=['animal_type'])\n",
    "cats_df = aac_df_oh[aac_df_oh['animal_type'] == 'cat'].drop(columns=['animal_type'])"
   ]
  },
  {
   "cell_type": "code",
   "execution_count": 25,
   "id": "dd86f8ae",
   "metadata": {},
   "outputs": [],
   "source": [
    "# Save datasets\n",
    "\n",
    "# dogs_df.to_csv('data/dogs-no-breed-info.csv', index=False)\n",
    "# cats_df.to_csv('data/cats-no-breed-info.csv', index=False)"
   ]
  },
  {
   "cell_type": "code",
   "execution_count": 26,
   "id": "b930188e",
   "metadata": {},
   "outputs": [],
   "source": [
    "# Reload datasets\n",
    "\n",
    "# dogs_df = pd.read_csv('data/dogs-no-breed-info.csv')\n",
    "# cats_df = pd.read_csv('data/cats-no-breed-info.csv')"
   ]
  },
  {
   "cell_type": "markdown",
   "id": "066fd985",
   "metadata": {},
   "source": [
    "# EDA"
   ]
  },
  {
   "cell_type": "code",
   "execution_count": 27,
   "id": "192973d0",
   "metadata": {},
   "outputs": [],
   "source": [
    "min_tisd, max_tisd = aac_df_oh['time_in_shelter_days'].min(), aac_df_oh['time_in_shelter_days'].max()\n",
    "dogs_tisd = dogs_df['time_in_shelter_days']\n",
    "cats_tisd = cats_df['time_in_shelter_days']\n",
    "n_dogs = dogs_df.shape[0]\n",
    "n_cats = cats_df.shape[0]"
   ]
  },
  {
   "cell_type": "code",
   "execution_count": 28,
   "id": "d280f856",
   "metadata": {
    "scrolled": true
   },
   "outputs": [
    {
     "data": {
      "text/plain": [
       "[]"
      ]
     },
     "execution_count": 28,
     "metadata": {},
     "output_type": "execute_result"
    },
    {
     "data": {
      "image/png": "[encoded data removed]",
      "text/plain": [
       "<Figure size 1440x1080 with 1 Axes>"
      ]
     },
     "metadata": {
      "needs_background": "light"
     },
     "output_type": "display_data"
    }
   ],
   "source": [
    "# initial test - see number of animals by duration of stay in aac (in months - 30 days )\n",
    "bin_size = 30\n",
    "bins = np.arange(min_tisd, max_tisd + bin_size, bin_size)\n",
    "\n",
    "plt.rcParams[\"figure.figsize\"] = (20, 15)\n",
    "\n",
    "_, _, bars = plt.hist([dogs_tisd, cats_tisd], bins, label=('Dogs', 'Cats'), orientation='horizontal')\n",
    "for bar in bars:\n",
    "    plt.bar_label(bar, padding=2.5)\n",
    "\n",
    "plt.title(f'Dogs/Cats stay (Bin size = {bin_size})')\n",
    "plt.legend(loc='upper right')\n",
    "\n",
    "plt.plot()"
   ]
  },
  {
   "cell_type": "code",
   "execution_count": 89,
   "id": "ef56c675",
   "metadata": {
    "scrolled": true
   },
   "outputs": [],
   "source": [
    "def plot_animal_tisd_bars(animal_tisd, bins): # animal time in shelter in days    \n",
    "    data = {}\n",
    "    for animal, tisd in animal_tisd.items():\n",
    "        animal_hist, _ = np.histogram(tisd, bins)\n",
    "        animal_hist_t_pc = np.around(animal_hist / len(tisd) * 100, 2)\n",
    "        animal_hist_r_pc = np.around(animal_hist / np.sum(animal_hist) * 100, 2)\n",
    "        data[animal] = (animal_hist, animal_hist_t_pc, animal_hist_r_pc) \n",
    "        \n",
    "    n_bins = len(bins)\n",
    "\n",
    "    class_names = []\n",
    "    for i in range(n_bins - 1):\n",
    "        class_name = f'{bins[i]}-{bins[i+1]} days' if i != n_bins - 2 else f'> {bins[i]} days'\n",
    "        class_names.append(class_name)\n",
    "\n",
    "    x = np.arange(len(class_names))  # the label locations\n",
    "    width = 0.3  # the width of the bars\n",
    "    multiplier = 0\n",
    "    multiplier_step = 1.25 # add space between grouped bars - 1 is base\n",
    "\n",
    "    plt.rcParams[\"figure.figsize\"] = (15, 7)\n",
    "\n",
    "    fig, ax = plt.subplots(constrained_layout=True)\n",
    "\n",
    "    for animal, (counts, t_percents, r_percents) in data.items():\n",
    "        offset = width * multiplier\n",
    "        rects = ax.barh(x + offset, counts, width, label=f'{animal} ({len(animal_tisd[animal])})')\n",
    "        bar_labels = [f'C: {count} - T: {t_pc}% - R: {r_pc}%' for count, t_pc, r_pc  in zip(counts, t_percents, r_percents)]\n",
    "        ax.bar_label(rects, bar_labels, padding=5)\n",
    "        multiplier += multiplier_step\n",
    "\n",
    "    # Add some text for labels, title and custom x-axis tick labels, etc.\n",
    "    ax.set_title('Animal frequency by length of stay (classification period)')\n",
    "    ax.set_xlabel('Frequency')\n",
    "    ax.set_ylabel('Length of stay')\n",
    "    yticks_pos = x if len(animal_tisd) == 1 else x + width*multiplier_step/2\n",
    "    ax.set_yticks(yticks_pos, class_names)\n",
    "    ax.legend(loc='upper right', prop={'size': 12})\n",
    "    plt.plot()"
   ]
  },
  {
   "cell_type": "code",
   "execution_count": 90,
   "id": "371e7d6b",
   "metadata": {
    "scrolled": false
   },
   "outputs": [
    {
     "data": {
      "image/png": "[encoded data removed]",
      "text/plain": [
       "<Figure size 1080x504 with 1 Axes>"
      ]
     },
     "metadata": {
      "needs_background": "light"
     },
     "output_type": "display_data"
    }
   ],
   "source": [
    "# notice how imbalanced dataset is by our goal label\n",
    "\n",
    "animal_tisd = {'Dogs': dogs_tisd, 'Cats': cats_tisd}\n",
    "bins = (0, 7, 30, 60, 90, 180, max_tisd + 1)\n",
    "\n",
    "plot_animal_tisd_bars(animal_tisd, bins)\n"
   ]
  },
  {
   "cell_type": "markdown",
   "id": "3d985a30",
   "metadata": {},
   "source": [
    "# Dogs"
   ]
  },
  {
   "cell_type": "code",
   "execution_count": 31,
   "id": "9e223789",
   "metadata": {},
   "outputs": [],
   "source": [
    "target_names = ['below_median', 'above_median']\n",
    "\n",
    "def print_report(X, y, clf, target_names):\n",
    "    random_state = 42\n",
    "    X_train, X_test, y_train, y_test = train_test_split(X, y, test_size=0.33, random_state=random_state)\n",
    "    clf.fit(X_train, y_train)\n",
    "    y_pred = clf.predict(X_test)\n",
    "    report = classification_report(y_test, y_pred, target_names=target_names)\n",
    "    print(report)\n",
    "    cm = confusion_matrix(y_test, y_pred)\n",
    "    print(cm)"
   ]
  },
  {
   "cell_type": "code",
   "execution_count": 32,
   "id": "e52ee8b9",
   "metadata": {
    "scrolled": true
   },
   "outputs": [
    {
     "name": "stdout",
     "output_type": "stream",
     "text": [
      "Roughly half of dogs spend less then 6 days in shelter\n"
     ]
    }
   ],
   "source": [
    "# We focus on dogs now\n",
    "dogs_tisd_median = round(np.median(dogs_tisd))\n",
    "print(f'Roughly half of dogs spend less then {dogs_tisd_median} days in shelter')"
   ]
  },
  {
   "cell_type": "code",
   "execution_count": 33,
   "id": "b4e943b0",
   "metadata": {},
   "outputs": [
    {
     "data": {
      "image/png": "[encoded data removed]",
      "text/plain": [
       "<Figure size 1080x504 with 1 Axes>"
      ]
     },
     "metadata": {
      "needs_background": "light"
     },
     "output_type": "display_data"
    }
   ],
   "source": [
    "animal_tisd = {'Dogs': dogs_tisd}\n",
    "bins = (0, dogs_tisd_median, max_tisd + 1)\n",
    "plot_animal_tisd_bars(animal_tisd, bins)"
   ]
  },
  {
   "cell_type": "code",
   "execution_count": 34,
   "id": "b8aa5844",
   "metadata": {
    "scrolled": true
   },
   "outputs": [
    {
     "data": {
      "text/plain": [
       "Index(['age_upon_intake_years', 'time_in_shelter_days',\n",
       "       'intake_weekday_friday', 'intake_weekday_monday',\n",
       "       'intake_weekday_saturday', 'intake_weekday_sunday',\n",
       "       'intake_weekday_thursday', 'intake_weekday_tuesday',\n",
       "       'intake_weekday_wednesday', 'intake_month_1', 'intake_month_2',\n",
       "       'intake_month_3', 'intake_month_4', 'intake_month_5', 'intake_month_6',\n",
       "       'intake_month_7', 'intake_month_8', 'intake_month_9', 'intake_month_10',\n",
       "       'intake_month_11', 'intake_month_12', 'intake_type_euthanasia_request',\n",
       "       'intake_type_owner_surrender', 'intake_type_public_assist',\n",
       "       'intake_type_stray', 'intake_condition_aged', 'intake_condition_feral',\n",
       "       'intake_condition_injured', 'intake_condition_normal',\n",
       "       'intake_condition_nursing', 'intake_condition_other',\n",
       "       'intake_condition_pregnant', 'intake_condition_sick', 'sex_female',\n",
       "       'sex_male', 'reproductive_state_intake_intact',\n",
       "       'reproductive_state_intake_sterile',\n",
       "       'reproductive_state_outcome_intact',\n",
       "       'reproductive_state_outcome_sterile', 'color_black',\n",
       "       'color_black_brown', 'color_black_tan', 'color_black_white',\n",
       "       'color_blue_white', 'color_brown', 'color_brown_black',\n",
       "       'color_brown_brindle', 'color_brown_brindle_white', 'color_brown_white',\n",
       "       'color_other', 'color_red', 'color_red_white', 'color_tan',\n",
       "       'color_tan_black', 'color_tan_white', 'color_tricolor', 'color_white',\n",
       "       'color_white_black', 'color_white_brown', 'color_white_tan'],\n",
       "      dtype='object')"
      ]
     },
     "execution_count": 34,
     "metadata": {},
     "output_type": "execute_result"
    }
   ],
   "source": [
    "# try to create hierarchy of models\n",
    "# first detect whether dog will stay in shelter for less than 5 days\n",
    "dogs_df_ml = pd.get_dummies(dogs_df, columns=['color'])\n",
    "dogs_df_ml = dogs_df_ml.drop(columns=['id', 'breed', 'outcome_type']) # ignoring these for now\n",
    "dogs_df_ml.columns"
   ]
  },
  {
   "cell_type": "code",
   "execution_count": 35,
   "id": "3ab4bc14",
   "metadata": {
    "scrolled": false
   },
   "outputs": [],
   "source": [
    "# create prediction goal\n",
    "y = (dogs_df_ml['time_in_shelter_days'] > dogs_tisd_median).astype(int)\n",
    "X = dogs_df_ml.drop(columns=['time_in_shelter_days'])"
   ]
  },
  {
   "cell_type": "code",
   "execution_count": 36,
   "id": "b7ca7328",
   "metadata": {},
   "outputs": [
    {
     "name": "stdout",
     "output_type": "stream",
     "text": [
      "              precision    recall  f1-score   support\n",
      "\n",
      "below_median       0.47      0.49      0.48      4998\n",
      "above_median       0.53      0.50      0.52      5593\n",
      "\n",
      "    accuracy                           0.50     10591\n",
      "   macro avg       0.50      0.50      0.50     10591\n",
      "weighted avg       0.50      0.50      0.50     10591\n",
      "\n",
      "[[2454 2544]\n",
      " [2769 2824]]\n"
     ]
    }
   ],
   "source": [
    "baseline_clf = DummyClassifier(strategy='uniform', random_state=0)\n",
    "print_report(X, y, baseline_clf, target_names)"
   ]
  },
  {
   "cell_type": "code",
   "execution_count": 37,
   "id": "7fe5f8b2",
   "metadata": {},
   "outputs": [
    {
     "name": "stdout",
     "output_type": "stream",
     "text": [
      "              precision    recall  f1-score   support\n",
      "\n",
      "below_median       0.70      0.57      0.63      4998\n",
      "above_median       0.67      0.78      0.72      5593\n",
      "\n",
      "    accuracy                           0.68     10591\n",
      "   macro avg       0.68      0.67      0.67     10591\n",
      "weighted avg       0.68      0.68      0.68     10591\n",
      "\n",
      "[[2850 2148]\n",
      " [1233 4360]]\n"
     ]
    }
   ],
   "source": [
    "clf1 = GradientBoostingClassifier(n_estimators=100, learning_rate=0.1, max_depth=5, random_state=0)\n",
    "print_report(X, y, clf1, target_names)"
   ]
  },
  {
   "cell_type": "code",
   "execution_count": 38,
   "id": "c1655bc5",
   "metadata": {
    "scrolled": false
   },
   "outputs": [
    {
     "name": "stdout",
     "output_type": "stream",
     "text": [
      "              precision    recall  f1-score   support\n",
      "\n",
      "below_median       0.68      0.52      0.59      4998\n",
      "above_median       0.65      0.78      0.71      5593\n",
      "\n",
      "    accuracy                           0.66     10591\n",
      "   macro avg       0.66      0.65      0.65     10591\n",
      "weighted avg       0.66      0.66      0.65     10591\n",
      "\n",
      "[[2594 2404]\n",
      " [1221 4372]]\n"
     ]
    }
   ],
   "source": [
    "clf2 = RandomForestClassifier(n_estimators=20, max_depth=5, random_state=0)\n",
    "print_report(X, y, clf2, target_names)"
   ]
  },
  {
   "cell_type": "code",
   "execution_count": 39,
   "id": "22e453f9",
   "metadata": {},
   "outputs": [
    {
     "name": "stdout",
     "output_type": "stream",
     "text": [
      "              precision    recall  f1-score   support\n",
      "\n",
      "below_median       0.62      0.38      0.47      4998\n",
      "above_median       0.59      0.79      0.67      5593\n",
      "\n",
      "    accuracy                           0.60     10591\n",
      "   macro avg       0.60      0.59      0.57     10591\n",
      "weighted avg       0.60      0.60      0.58     10591\n",
      "\n",
      "[[1920 3078]\n",
      " [1176 4417]]\n"
     ]
    }
   ],
   "source": [
    "clf3 = GaussianNB()\n",
    "print_report(X, y, clf3, target_names)"
   ]
  },
  {
   "cell_type": "markdown",
   "id": "73b60212",
   "metadata": {},
   "source": [
    "# Cats"
   ]
  },
  {
   "cell_type": "code",
   "execution_count": 40,
   "id": "e8cc743f",
   "metadata": {
    "scrolled": true
   },
   "outputs": [
    {
     "name": "stdout",
     "output_type": "stream",
     "text": [
      "Roughly half of cats spend less then 6 days in shelter\n"
     ]
    }
   ],
   "source": [
    "# We focus on cast now\n",
    "\n",
    "cats_tisd_median = round(np.median(cats_tisd))\n",
    "print(f'Roughly half of cats spend less then {cats_tisd_median} days in shelter')"
   ]
  },
  {
   "cell_type": "code",
   "execution_count": 86,
   "id": "b3357851",
   "metadata": {},
   "outputs": [
    {
     "data": {
      "image/png": "[encoded data removed]",
      "text/plain": [
       "<Figure size 1080x504 with 1 Axes>"
      ]
     },
     "metadata": {
      "needs_background": "light"
     },
     "output_type": "display_data"
    }
   ],
   "source": [
    "animal_tisd = {'Cats': cats_tisd}\n",
    "# bins = (0, cats_tisd_median, max_tisd + 1)\n",
    "bins = (60, 90, max_tisd + 1)\n",
    "\n",
    "plot_animal_tisd_bars(animal_tisd, bins)"
   ]
  },
  {
   "cell_type": "code",
   "execution_count": 42,
   "id": "1d1e31a0",
   "metadata": {},
   "outputs": [
    {
     "data": {
      "text/plain": [
       "Index(['age_upon_intake_years', 'time_in_shelter_days',\n",
       "       'intake_weekday_friday', 'intake_weekday_monday',\n",
       "       'intake_weekday_saturday', 'intake_weekday_sunday',\n",
       "       'intake_weekday_thursday', 'intake_weekday_tuesday',\n",
       "       'intake_weekday_wednesday', 'intake_month_1', 'intake_month_2',\n",
       "       'intake_month_3', 'intake_month_4', 'intake_month_5', 'intake_month_6',\n",
       "       'intake_month_7', 'intake_month_8', 'intake_month_9', 'intake_month_10',\n",
       "       'intake_month_11', 'intake_month_12', 'intake_type_euthanasia_request',\n",
       "       'intake_type_owner_surrender', 'intake_type_public_assist',\n",
       "       'intake_type_stray', 'intake_condition_aged', 'intake_condition_feral',\n",
       "       'intake_condition_injured', 'intake_condition_normal',\n",
       "       'intake_condition_nursing', 'intake_condition_other',\n",
       "       'intake_condition_pregnant', 'intake_condition_sick', 'sex_female',\n",
       "       'sex_male', 'reproductive_state_intake_intact',\n",
       "       'reproductive_state_intake_sterile',\n",
       "       'reproductive_state_outcome_intact',\n",
       "       'reproductive_state_outcome_sterile', 'color_black',\n",
       "       'color_black_white', 'color_blue', 'color_blue_tabby',\n",
       "       'color_blue_white', 'color_brown_tabby', 'color_brown_tabby_white',\n",
       "       'color_calico', 'color_orange_tabby', 'color_orange_tabby_white',\n",
       "       'color_other', 'color_torbie', 'color_tortie'],\n",
       "      dtype='object')"
      ]
     },
     "execution_count": 42,
     "metadata": {},
     "output_type": "execute_result"
    }
   ],
   "source": [
    "# try to create hierarchy of models\n",
    "# first detect whether dog will stay in shelter for less than 5 days\n",
    "cats_df_ml = pd.get_dummies(cats_df, columns=['color'])\n",
    "cats_df_ml = cats_df_ml.drop(columns=['id', 'breed', 'outcome_type']) # ignoring these for now\n",
    "\n",
    "cats_df_ml.columns"
   ]
  },
  {
   "cell_type": "code",
   "execution_count": 43,
   "id": "376fad2f",
   "metadata": {
    "scrolled": false
   },
   "outputs": [],
   "source": [
    "y = (cats_df_ml['time_in_shelter_days'] > cats_tisd_median).astype(int)\n",
    "X = cats_df_ml.drop(columns=['time_in_shelter_days'])"
   ]
  },
  {
   "cell_type": "code",
   "execution_count": 44,
   "id": "9a900511",
   "metadata": {},
   "outputs": [
    {
     "name": "stdout",
     "output_type": "stream",
     "text": [
      "              precision    recall  f1-score   support\n",
      "\n",
      "below_median       0.51      0.50      0.50      4680\n",
      "above_median       0.50      0.51      0.50      4583\n",
      "\n",
      "    accuracy                           0.50      9263\n",
      "   macro avg       0.50      0.50      0.50      9263\n",
      "weighted avg       0.50      0.50      0.50      9263\n",
      "\n",
      "[[2319 2361]\n",
      " [2251 2332]]\n"
     ]
    }
   ],
   "source": [
    "baseline_clf = DummyClassifier(strategy='uniform', random_state=0)\n",
    "print_report(X, y, baseline_clf, target_names)"
   ]
  },
  {
   "cell_type": "code",
   "execution_count": 45,
   "id": "529d0cfd",
   "metadata": {},
   "outputs": [
    {
     "name": "stdout",
     "output_type": "stream",
     "text": [
      "              precision    recall  f1-score   support\n",
      "\n",
      "below_median       0.80      0.76      0.78      4680\n",
      "above_median       0.77      0.81      0.79      4583\n",
      "\n",
      "    accuracy                           0.78      9263\n",
      "   macro avg       0.78      0.78      0.78      9263\n",
      "weighted avg       0.78      0.78      0.78      9263\n",
      "\n",
      "[[3540 1140]\n",
      " [ 868 3715]]\n"
     ]
    }
   ],
   "source": [
    "clf1 = GradientBoostingClassifier(n_estimators=100, learning_rate=0.1, max_depth=5, random_state=0)\n",
    "print_report(X, y, clf1, target_names=target_names)"
   ]
  },
  {
   "cell_type": "code",
   "execution_count": 46,
   "id": "a5e6f690",
   "metadata": {},
   "outputs": [
    {
     "name": "stdout",
     "output_type": "stream",
     "text": [
      "              precision    recall  f1-score   support\n",
      "\n",
      "below_median       0.81      0.72      0.76      4680\n",
      "above_median       0.74      0.83      0.79      4583\n",
      "\n",
      "    accuracy                           0.78      9263\n",
      "   macro avg       0.78      0.78      0.77      9263\n",
      "weighted avg       0.78      0.78      0.77      9263\n",
      "\n",
      "[[3361 1319]\n",
      " [ 765 3818]]\n"
     ]
    }
   ],
   "source": [
    "clf2 = RandomForestClassifier(n_estimators=100, max_depth=10, random_state=0)\n",
    "print_report(X, y, clf2, target_names)"
   ]
  }
 ],
 "metadata": {
  "kernelspec": {
   "display_name": "Python 3 (ipykernel)",
   "language": "python",
   "name": "python3"
  },
  "language_info": {
   "codemirror_mode": {
    "name": "ipython",
    "version": 3
   },
   "file_extension": ".py",
   "mimetype": "text/x-python",
   "name": "python",
   "nbconvert_exporter": "python",
   "pygments_lexer": "ipython3",
   "version": "3.9.12"
  }
 },
 "nbformat": 4,
 "nbformat_minor": 5
}
