{
 "cells": [
  {
   "cell_type": "markdown",
   "id": "70411269",
   "metadata": {},
   "source": [
    "# Models"
   ]
  },
  {
   "cell_type": "code",
   "execution_count": 17,
   "id": "b1c19d20",
   "metadata": {},
   "outputs": [],
   "source": [
    "import numpy as np\n",
    "import pandas as pd\n",
    "import matplotlib.pyplot as plt\n",
    "\n",
    "from sklearn.svm import SVC\n",
    "from sklearn.dummy import DummyClassifier\n",
    "from sklearn.ensemble import GradientBoostingClassifier, RandomForestClassifier\n",
    "from xgboost import XGBClassifier\n",
    "from tensorflow.keras.models import Sequential\n",
    "from tensorflow.keras.layers import Dense\n",
    "from tensorflow.keras.utils import to_categorical\n",
    "\n",
    "from sklearn.model_selection import train_test_split\n",
    "from sklearn.metrics import classification_report, confusion_matrix, f1_score"
   ]
  },
  {
   "cell_type": "code",
   "execution_count": 2,
   "id": "31ce4430",
   "metadata": {
    "scrolled": false
   },
   "outputs": [
    {
     "data": {
      "text/html": [
       "<div>\n",
       "<style scoped>\n",
       "    .dataframe tbody tr th:only-of-type {\n",
       "        vertical-align: middle;\n",
       "    }\n",
       "\n",
       "    .dataframe tbody tr th {\n",
       "        vertical-align: top;\n",
       "    }\n",
       "\n",
       "    .dataframe thead th {\n",
       "        text-align: right;\n",
       "    }\n",
       "</style>\n",
       "<table border=\"1\" class=\"dataframe\">\n",
       "  <thead>\n",
       "    <tr style=\"text-align: right;\">\n",
       "      <th></th>\n",
       "      <th>age_upon_intake_years</th>\n",
       "      <th>time_in_shelter_days</th>\n",
       "      <th>intake_weekday_friday</th>\n",
       "      <th>intake_weekday_monday</th>\n",
       "      <th>intake_weekday_saturday</th>\n",
       "      <th>intake_weekday_sunday</th>\n",
       "      <th>intake_weekday_thursday</th>\n",
       "      <th>intake_weekday_tuesday</th>\n",
       "      <th>intake_weekday_wednesday</th>\n",
       "      <th>intake_month_1</th>\n",
       "      <th>...</th>\n",
       "      <th>intake_condition_nursing</th>\n",
       "      <th>intake_condition_other</th>\n",
       "      <th>intake_condition_pregnant</th>\n",
       "      <th>intake_condition_sick</th>\n",
       "      <th>sex_female</th>\n",
       "      <th>sex_male</th>\n",
       "      <th>reproductive_state_intake_intact</th>\n",
       "      <th>reproductive_state_intake_sterile</th>\n",
       "      <th>reproductive_state_outcome_intact</th>\n",
       "      <th>reproductive_state_outcome_sterile</th>\n",
       "    </tr>\n",
       "  </thead>\n",
       "  <tbody>\n",
       "    <tr>\n",
       "      <th>0</th>\n",
       "      <td>0.727273</td>\n",
       "      <td>3.897222</td>\n",
       "      <td>1</td>\n",
       "      <td>0</td>\n",
       "      <td>0</td>\n",
       "      <td>0</td>\n",
       "      <td>0</td>\n",
       "      <td>0</td>\n",
       "      <td>0</td>\n",
       "      <td>0</td>\n",
       "      <td>...</td>\n",
       "      <td>0</td>\n",
       "      <td>0</td>\n",
       "      <td>0</td>\n",
       "      <td>0</td>\n",
       "      <td>1</td>\n",
       "      <td>0</td>\n",
       "      <td>1</td>\n",
       "      <td>0</td>\n",
       "      <td>1</td>\n",
       "      <td>0</td>\n",
       "    </tr>\n",
       "    <tr>\n",
       "      <th>1</th>\n",
       "      <td>0.636364</td>\n",
       "      <td>14.120139</td>\n",
       "      <td>0</td>\n",
       "      <td>1</td>\n",
       "      <td>0</td>\n",
       "      <td>0</td>\n",
       "      <td>0</td>\n",
       "      <td>0</td>\n",
       "      <td>0</td>\n",
       "      <td>0</td>\n",
       "      <td>...</td>\n",
       "      <td>0</td>\n",
       "      <td>0</td>\n",
       "      <td>0</td>\n",
       "      <td>0</td>\n",
       "      <td>1</td>\n",
       "      <td>0</td>\n",
       "      <td>0</td>\n",
       "      <td>1</td>\n",
       "      <td>0</td>\n",
       "      <td>1</td>\n",
       "    </tr>\n",
       "    <tr>\n",
       "      <th>2</th>\n",
       "      <td>0.863636</td>\n",
       "      <td>0.067361</td>\n",
       "      <td>0</td>\n",
       "      <td>0</td>\n",
       "      <td>1</td>\n",
       "      <td>0</td>\n",
       "      <td>0</td>\n",
       "      <td>0</td>\n",
       "      <td>0</td>\n",
       "      <td>0</td>\n",
       "      <td>...</td>\n",
       "      <td>0</td>\n",
       "      <td>0</td>\n",
       "      <td>0</td>\n",
       "      <td>0</td>\n",
       "      <td>1</td>\n",
       "      <td>0</td>\n",
       "      <td>0</td>\n",
       "      <td>1</td>\n",
       "      <td>0</td>\n",
       "      <td>1</td>\n",
       "    </tr>\n",
       "    <tr>\n",
       "      <th>3</th>\n",
       "      <td>0.545455</td>\n",
       "      <td>0.200694</td>\n",
       "      <td>1</td>\n",
       "      <td>0</td>\n",
       "      <td>0</td>\n",
       "      <td>0</td>\n",
       "      <td>0</td>\n",
       "      <td>0</td>\n",
       "      <td>0</td>\n",
       "      <td>0</td>\n",
       "      <td>...</td>\n",
       "      <td>0</td>\n",
       "      <td>0</td>\n",
       "      <td>0</td>\n",
       "      <td>0</td>\n",
       "      <td>0</td>\n",
       "      <td>1</td>\n",
       "      <td>0</td>\n",
       "      <td>1</td>\n",
       "      <td>0</td>\n",
       "      <td>1</td>\n",
       "    </tr>\n",
       "    <tr>\n",
       "      <th>4</th>\n",
       "      <td>0.590909</td>\n",
       "      <td>4.804861</td>\n",
       "      <td>0</td>\n",
       "      <td>0</td>\n",
       "      <td>0</td>\n",
       "      <td>0</td>\n",
       "      <td>0</td>\n",
       "      <td>1</td>\n",
       "      <td>0</td>\n",
       "      <td>0</td>\n",
       "      <td>...</td>\n",
       "      <td>0</td>\n",
       "      <td>0</td>\n",
       "      <td>0</td>\n",
       "      <td>1</td>\n",
       "      <td>0</td>\n",
       "      <td>1</td>\n",
       "      <td>0</td>\n",
       "      <td>1</td>\n",
       "      <td>0</td>\n",
       "      <td>1</td>\n",
       "    </tr>\n",
       "  </tbody>\n",
       "</table>\n",
       "<p>5 rows × 39 columns</p>\n",
       "</div>"
      ],
      "text/plain": [
       "   age_upon_intake_years  time_in_shelter_days  intake_weekday_friday  \\\n",
       "0               0.727273              3.897222                      1   \n",
       "1               0.636364             14.120139                      0   \n",
       "2               0.863636              0.067361                      0   \n",
       "3               0.545455              0.200694                      1   \n",
       "4               0.590909              4.804861                      0   \n",
       "\n",
       "   intake_weekday_monday  intake_weekday_saturday  intake_weekday_sunday  \\\n",
       "0                      0                        0                      0   \n",
       "1                      1                        0                      0   \n",
       "2                      0                        1                      0   \n",
       "3                      0                        0                      0   \n",
       "4                      0                        0                      0   \n",
       "\n",
       "   intake_weekday_thursday  intake_weekday_tuesday  intake_weekday_wednesday  \\\n",
       "0                        0                       0                         0   \n",
       "1                        0                       0                         0   \n",
       "2                        0                       0                         0   \n",
       "3                        0                       0                         0   \n",
       "4                        0                       1                         0   \n",
       "\n",
       "   intake_month_1  ...  intake_condition_nursing  intake_condition_other  \\\n",
       "0               0  ...                         0                       0   \n",
       "1               0  ...                         0                       0   \n",
       "2               0  ...                         0                       0   \n",
       "3               0  ...                         0                       0   \n",
       "4               0  ...                         0                       0   \n",
       "\n",
       "   intake_condition_pregnant  intake_condition_sick  sex_female  sex_male  \\\n",
       "0                          0                      0           1         0   \n",
       "1                          0                      0           1         0   \n",
       "2                          0                      0           1         0   \n",
       "3                          0                      0           0         1   \n",
       "4                          0                      1           0         1   \n",
       "\n",
       "   reproductive_state_intake_intact  reproductive_state_intake_sterile  \\\n",
       "0                                 1                                  0   \n",
       "1                                 0                                  1   \n",
       "2                                 0                                  1   \n",
       "3                                 0                                  1   \n",
       "4                                 0                                  1   \n",
       "\n",
       "   reproductive_state_outcome_intact  reproductive_state_outcome_sterile  \n",
       "0                                  1                                   0  \n",
       "1                                  0                                   1  \n",
       "2                                  0                                   1  \n",
       "3                                  0                                   1  \n",
       "4                                  0                                   1  \n",
       "\n",
       "[5 rows x 39 columns]"
      ]
     },
     "execution_count": 2,
     "metadata": {},
     "output_type": "execute_result"
    }
   ],
   "source": [
    "df = pd.read_csv('data/cats-no-breed-info.csv').drop(columns=['id', 'breed', 'color'])\n",
    "df.head()"
   ]
  },
  {
   "cell_type": "code",
   "execution_count": 3,
   "id": "94eae4d7",
   "metadata": {},
   "outputs": [],
   "source": [
    "def get_time_period_labels_from_bins(bins):\n",
    "    n_bins = len(bins)\n",
    "    labels = []\n",
    "    for i in range(n_bins - 1):\n",
    "        label = f'{bins[i]}-{bins[i+1]} days' if i != n_bins - 2 else f'> {bins[i]} days'\n",
    "        labels.append(label)\n",
    "    return labels\n",
    "    \n",
    "def print_report(y_true, y_pred, target_names):\n",
    "    print(classification_report(y_true, y_pred, target_names=target_names))\n",
    "    print(confusion_matrix(y_true, y_pred))"
   ]
  },
  {
   "cell_type": "code",
   "execution_count": 4,
   "id": "239512fc",
   "metadata": {},
   "outputs": [],
   "source": [
    "bins = (0, 7, 30, 60, 90, 120, df['time_in_shelter_days'].max() + 1)\n",
    "\n",
    "def bin_target(target):\n",
    "    return np.digitize(target, bins) - 1"
   ]
  },
  {
   "cell_type": "code",
   "execution_count": 5,
   "id": "226f1c56",
   "metadata": {},
   "outputs": [
    {
     "data": {
      "text/plain": [
       "['0-7 days',\n",
       " '7-30 days',\n",
       " '30-60 days',\n",
       " '60-90 days',\n",
       " '90-120 days',\n",
       " '> 120 days']"
      ]
     },
     "execution_count": 5,
     "metadata": {},
     "output_type": "execute_result"
    }
   ],
   "source": [
    "target_labels = get_time_period_labels_from_bins(bins)\n",
    "target_labels"
   ]
  },
  {
   "cell_type": "code",
   "execution_count": 6,
   "id": "658c2cc8",
   "metadata": {},
   "outputs": [],
   "source": [
    "df['target'] = bin_target(df['time_in_shelter_days'])\n",
    "train, test = train_test_split(df, test_size=0.2, stratify=df['target'], random_state=0)\n",
    "\n",
    "X_train, y_train_orig = train.drop(columns=['time_in_shelter_days', 'target']), train['time_in_shelter_days']\n",
    "X_test, y_test_orig = test.drop(columns=['time_in_shelter_days', 'target']), test['time_in_shelter_days']\n",
    "\n",
    "y_train, y_test = bin_target(y_train_orig), bin_target(y_test_orig)"
   ]
  },
  {
   "cell_type": "markdown",
   "id": "fc6be796",
   "metadata": {},
   "source": [
    "## Base model - imbalanced dataset - simple multiclass classification"
   ]
  },
  {
   "cell_type": "code",
   "execution_count": null,
   "id": "91389c29",
   "metadata": {
    "scrolled": true
   },
   "outputs": [],
   "source": [
    "baseline_clf = DummyClassifier(strategy='uniform', random_state=0)\n",
    "baseline_clf.fit(X_train, y_train)\n",
    "print_report(y_test, baseline_clf.predict(X_test), target_labels)"
   ]
  },
  {
   "cell_type": "markdown",
   "id": "f03baa65",
   "metadata": {},
   "source": [
    "### Random Forest"
   ]
  },
  {
   "cell_type": "code",
   "execution_count": null,
   "id": "962977c2",
   "metadata": {},
   "outputs": [],
   "source": [
    "rf = RandomForestClassifier(n_estimators=100, max_depth=5, random_state=0)\n",
    "rf.fit(X_train, y_train)\n",
    "print_report(y_test, rf.predict(X_test), target_labels)"
   ]
  },
  {
   "cell_type": "markdown",
   "id": "e896b766",
   "metadata": {},
   "source": [
    "### Gradient Boosting"
   ]
  },
  {
   "cell_type": "code",
   "execution_count": null,
   "id": "6ec781ed",
   "metadata": {
    "scrolled": true
   },
   "outputs": [],
   "source": [
    "gb = GradientBoostingClassifier(n_estimators=100, learning_rate=0.1, max_depth=5, random_state=0)\n",
    "gb.fit(X_train, y_train)\n",
    "print_report(y_test, gb.predict(X_test), target_labels)"
   ]
  },
  {
   "cell_type": "markdown",
   "id": "571943ad",
   "metadata": {},
   "source": [
    "### XGBoost"
   ]
  },
  {
   "cell_type": "code",
   "execution_count": null,
   "id": "41253704",
   "metadata": {},
   "outputs": [],
   "source": [
    "xgb = XGBClassifier(objective=\"multi:softprob\", random_state=0)\n",
    "xgb.fit(X_train, y_train - 1)\n",
    "print_report(y_test - 1, xgb.predict(X_test), target_labels)"
   ]
  },
  {
   "cell_type": "markdown",
   "id": "c2b65236",
   "metadata": {},
   "source": [
    "### ANN"
   ]
  },
  {
   "cell_type": "code",
   "execution_count": 8,
   "id": "e3b2153e",
   "metadata": {},
   "outputs": [
    {
     "data": {
      "text/plain": [
       "38"
      ]
     },
     "execution_count": 8,
     "metadata": {},
     "output_type": "execute_result"
    }
   ],
   "source": [
    "X_train.shape[1]"
   ]
  },
  {
   "cell_type": "code",
   "execution_count": 58,
   "id": "604ce4fd",
   "metadata": {},
   "outputs": [],
   "source": [
    "ann = Sequential()\n",
    "ann.add(Dense(20, input_shape=(X_train.shape[1], ), activation='relu'))\n",
    "ann.add(Dense(10, activation='relu'))\n",
    "ann.add(Dense(len(bins) - 1, activation='softmax'))"
   ]
  },
  {
   "cell_type": "code",
   "execution_count": 51,
   "id": "c3581233",
   "metadata": {},
   "outputs": [],
   "source": [
    "def f1_macro_avg(y_true, y_pred):\n",
    "    y_true = np.argmax(y_true.numpy(), axis=-1)\n",
    "    y_pred = np.argmax(y_pred.numpy(), axis=-1)\n",
    "    return f1_score(y_true, y_pred, average=\"macro\")"
   ]
  },
  {
   "cell_type": "code",
   "execution_count": 59,
   "id": "d29fcd88",
   "metadata": {},
   "outputs": [],
   "source": [
    "ann.compile(optimizer='adam', loss='categorical_crossentropy', metrics='accuracy', run_eagerly=True)"
   ]
  },
  {
   "cell_type": "code",
   "execution_count": 60,
   "id": "4ab3c5db",
   "metadata": {
    "scrolled": true
   },
   "outputs": [
    {
     "name": "stdout",
     "output_type": "stream",
     "text": [
      "Epoch 1/150\n",
      "2127/2127 [==============================] - 53s 25ms/step - loss: 1.1192 - accuracy: 0.5523 - val_loss: 1.0613 - val_accuracy: 0.5643\n",
      "Epoch 2/150\n",
      "2127/2127 [==============================] - 51s 24ms/step - loss: 1.0353 - accuracy: 0.5888 - val_loss: 1.0324 - val_accuracy: 0.5859\n",
      "Epoch 3/150\n",
      "2127/2127 [==============================] - 51s 24ms/step - loss: 1.0261 - accuracy: 0.5928 - val_loss: 1.0319 - val_accuracy: 0.5867\n",
      "Epoch 4/150\n",
      "2127/2127 [==============================] - 52s 24ms/step - loss: 1.0220 - accuracy: 0.5954 - val_loss: 1.0276 - val_accuracy: 0.5893\n",
      "Epoch 5/150\n",
      "2127/2127 [==============================] - 51s 24ms/step - loss: 1.0182 - accuracy: 0.5967 - val_loss: 1.0287 - val_accuracy: 0.5871\n",
      "Epoch 6/150\n",
      "2127/2127 [==============================] - 53s 25ms/step - loss: 1.0158 - accuracy: 0.5980 - val_loss: 1.0263 - val_accuracy: 0.5871\n",
      "Epoch 7/150\n",
      "2127/2127 [==============================] - 51s 24ms/step - loss: 1.0124 - accuracy: 0.5997 - val_loss: 1.0341 - val_accuracy: 0.5943\n",
      "Epoch 8/150\n",
      "2127/2127 [==============================] - 59s 28ms/step - loss: 1.0109 - accuracy: 0.5998 - val_loss: 1.0269 - val_accuracy: 0.5969\n",
      "Epoch 9/150\n",
      "2127/2127 [==============================] - 66s 31ms/step - loss: 1.0079 - accuracy: 0.6017 - val_loss: 1.0208 - val_accuracy: 0.5956\n",
      "Epoch 10/150\n",
      "2127/2127 [==============================] - 54s 25ms/step - loss: 1.0054 - accuracy: 0.6014 - val_loss: 1.0202 - val_accuracy: 0.5952\n",
      "Epoch 11/150\n",
      "2127/2127 [==============================] - 54s 25ms/step - loss: 1.0027 - accuracy: 0.6021 - val_loss: 1.0179 - val_accuracy: 0.5973\n",
      "Epoch 12/150\n",
      "1054/2127 [=============>................] - ETA: 25s - loss: 0.9984 - accuracy: 0.6054"
     ]
    },
    {
     "ename": "KeyboardInterrupt",
     "evalue": "",
     "output_type": "error",
     "traceback": [
      "\u001b[1;31m---------------------------------------------------------------------------\u001b[0m",
      "\u001b[1;31mKeyboardInterrupt\u001b[0m                         Traceback (most recent call last)",
      "Input \u001b[1;32mIn [60]\u001b[0m, in \u001b[0;36m<cell line: 1>\u001b[1;34m()\u001b[0m\n\u001b[1;32m----> 1\u001b[0m hist \u001b[38;5;241m=\u001b[39m \u001b[43mann\u001b[49m\u001b[38;5;241;43m.\u001b[39;49m\u001b[43mfit\u001b[49m\u001b[43m(\u001b[49m\u001b[43mX_train\u001b[49m\u001b[43m,\u001b[49m\u001b[43m \u001b[49m\u001b[43mto_categorical\u001b[49m\u001b[43m(\u001b[49m\u001b[43my_train\u001b[49m\u001b[43m)\u001b[49m\u001b[43m,\u001b[49m\u001b[43m \u001b[49m\u001b[43mepochs\u001b[49m\u001b[38;5;241;43m=\u001b[39;49m\u001b[38;5;241;43m150\u001b[39;49m\u001b[43m,\u001b[49m\u001b[43m \u001b[49m\u001b[43mbatch_size\u001b[49m\u001b[38;5;241;43m=\u001b[39;49m\u001b[38;5;241;43m10\u001b[39;49m\u001b[43m,\u001b[49m\u001b[43m \u001b[49m\u001b[43mvalidation_split\u001b[49m\u001b[38;5;241;43m=\u001b[39;49m\u001b[38;5;241;43m0.1\u001b[39;49m\u001b[43m)\u001b[49m\n",
      "File \u001b[1;32m~\\anaconda3\\envs\\internship\\lib\\site-packages\\keras\\engine\\training.py:1184\u001b[0m, in \u001b[0;36mModel.fit\u001b[1;34m(self, x, y, batch_size, epochs, verbose, callbacks, validation_split, validation_data, shuffle, class_weight, sample_weight, initial_epoch, steps_per_epoch, validation_steps, validation_batch_size, validation_freq, max_queue_size, workers, use_multiprocessing)\u001b[0m\n\u001b[0;32m   1177\u001b[0m \u001b[38;5;28;01mwith\u001b[39;00m tf\u001b[38;5;241m.\u001b[39mprofiler\u001b[38;5;241m.\u001b[39mexperimental\u001b[38;5;241m.\u001b[39mTrace(\n\u001b[0;32m   1178\u001b[0m     \u001b[38;5;124m'\u001b[39m\u001b[38;5;124mtrain\u001b[39m\u001b[38;5;124m'\u001b[39m,\n\u001b[0;32m   1179\u001b[0m     epoch_num\u001b[38;5;241m=\u001b[39mepoch,\n\u001b[0;32m   1180\u001b[0m     step_num\u001b[38;5;241m=\u001b[39mstep,\n\u001b[0;32m   1181\u001b[0m     batch_size\u001b[38;5;241m=\u001b[39mbatch_size,\n\u001b[0;32m   1182\u001b[0m     _r\u001b[38;5;241m=\u001b[39m\u001b[38;5;241m1\u001b[39m):\n\u001b[0;32m   1183\u001b[0m   callbacks\u001b[38;5;241m.\u001b[39mon_train_batch_begin(step)\n\u001b[1;32m-> 1184\u001b[0m   tmp_logs \u001b[38;5;241m=\u001b[39m \u001b[38;5;28;43mself\u001b[39;49m\u001b[38;5;241;43m.\u001b[39;49m\u001b[43mtrain_function\u001b[49m\u001b[43m(\u001b[49m\u001b[43miterator\u001b[49m\u001b[43m)\u001b[49m\n\u001b[0;32m   1185\u001b[0m   \u001b[38;5;28;01mif\u001b[39;00m data_handler\u001b[38;5;241m.\u001b[39mshould_sync:\n\u001b[0;32m   1186\u001b[0m     context\u001b[38;5;241m.\u001b[39masync_wait()\n",
      "File \u001b[1;32m~\\anaconda3\\envs\\internship\\lib\\site-packages\\keras\\engine\\training.py:853\u001b[0m, in \u001b[0;36mModel.make_train_function.<locals>.train_function\u001b[1;34m(iterator)\u001b[0m\n\u001b[0;32m    851\u001b[0m \u001b[38;5;28;01mdef\u001b[39;00m \u001b[38;5;21mtrain_function\u001b[39m(iterator):\n\u001b[0;32m    852\u001b[0m   \u001b[38;5;124;03m\"\"\"Runs a training execution with one step.\"\"\"\u001b[39;00m\n\u001b[1;32m--> 853\u001b[0m   \u001b[38;5;28;01mreturn\u001b[39;00m \u001b[43mstep_function\u001b[49m\u001b[43m(\u001b[49m\u001b[38;5;28;43mself\u001b[39;49m\u001b[43m,\u001b[49m\u001b[43m \u001b[49m\u001b[43miterator\u001b[49m\u001b[43m)\u001b[49m\n",
      "File \u001b[1;32m~\\anaconda3\\envs\\internship\\lib\\site-packages\\keras\\engine\\training.py:842\u001b[0m, in \u001b[0;36mModel.make_train_function.<locals>.step_function\u001b[1;34m(model, iterator)\u001b[0m\n\u001b[0;32m    839\u001b[0m   \u001b[38;5;28;01mreturn\u001b[39;00m outputs\n\u001b[0;32m    841\u001b[0m data \u001b[38;5;241m=\u001b[39m \u001b[38;5;28mnext\u001b[39m(iterator)\n\u001b[1;32m--> 842\u001b[0m outputs \u001b[38;5;241m=\u001b[39m \u001b[43mmodel\u001b[49m\u001b[38;5;241;43m.\u001b[39;49m\u001b[43mdistribute_strategy\u001b[49m\u001b[38;5;241;43m.\u001b[39;49m\u001b[43mrun\u001b[49m\u001b[43m(\u001b[49m\u001b[43mrun_step\u001b[49m\u001b[43m,\u001b[49m\u001b[43m \u001b[49m\u001b[43margs\u001b[49m\u001b[38;5;241;43m=\u001b[39;49m\u001b[43m(\u001b[49m\u001b[43mdata\u001b[49m\u001b[43m,\u001b[49m\u001b[43m)\u001b[49m\u001b[43m)\u001b[49m\n\u001b[0;32m    843\u001b[0m outputs \u001b[38;5;241m=\u001b[39m reduce_per_replica(\n\u001b[0;32m    844\u001b[0m     outputs, \u001b[38;5;28mself\u001b[39m\u001b[38;5;241m.\u001b[39mdistribute_strategy, reduction\u001b[38;5;241m=\u001b[39m\u001b[38;5;124m'\u001b[39m\u001b[38;5;124mfirst\u001b[39m\u001b[38;5;124m'\u001b[39m)\n\u001b[0;32m    845\u001b[0m write_scalar_summaries(outputs, step\u001b[38;5;241m=\u001b[39mmodel\u001b[38;5;241m.\u001b[39m_train_counter)  \u001b[38;5;66;03m# pylint: disable=protected-access\u001b[39;00m\n",
      "File \u001b[1;32m~\\anaconda3\\envs\\internship\\lib\\site-packages\\tensorflow\\python\\distribute\\distribute_lib.py:1286\u001b[0m, in \u001b[0;36mStrategyBase.run\u001b[1;34m(***failed resolving arguments***)\u001b[0m\n\u001b[0;32m   1281\u001b[0m \u001b[38;5;28;01mwith\u001b[39;00m \u001b[38;5;28mself\u001b[39m\u001b[38;5;241m.\u001b[39mscope():\n\u001b[0;32m   1282\u001b[0m   \u001b[38;5;66;03m# tf.distribute supports Eager functions, so AutoGraph should not be\u001b[39;00m\n\u001b[0;32m   1283\u001b[0m   \u001b[38;5;66;03m# applied when the caller is also in Eager mode.\u001b[39;00m\n\u001b[0;32m   1284\u001b[0m   fn \u001b[38;5;241m=\u001b[39m autograph\u001b[38;5;241m.\u001b[39mtf_convert(\n\u001b[0;32m   1285\u001b[0m       fn, autograph_ctx\u001b[38;5;241m.\u001b[39mcontrol_status_ctx(), convert_by_default\u001b[38;5;241m=\u001b[39m\u001b[38;5;28;01mFalse\u001b[39;00m)\n\u001b[1;32m-> 1286\u001b[0m   \u001b[38;5;28;01mreturn\u001b[39;00m \u001b[38;5;28;43mself\u001b[39;49m\u001b[38;5;241;43m.\u001b[39;49m\u001b[43m_extended\u001b[49m\u001b[38;5;241;43m.\u001b[39;49m\u001b[43mcall_for_each_replica\u001b[49m\u001b[43m(\u001b[49m\u001b[43mfn\u001b[49m\u001b[43m,\u001b[49m\u001b[43m \u001b[49m\u001b[43margs\u001b[49m\u001b[38;5;241;43m=\u001b[39;49m\u001b[43margs\u001b[49m\u001b[43m,\u001b[49m\u001b[43m \u001b[49m\u001b[43mkwargs\u001b[49m\u001b[38;5;241;43m=\u001b[39;49m\u001b[43mkwargs\u001b[49m\u001b[43m)\u001b[49m\n",
      "File \u001b[1;32m~\\anaconda3\\envs\\internship\\lib\\site-packages\\tensorflow\\python\\distribute\\distribute_lib.py:2849\u001b[0m, in \u001b[0;36mStrategyExtendedV1.call_for_each_replica\u001b[1;34m(self, fn, args, kwargs)\u001b[0m\n\u001b[0;32m   2847\u001b[0m   kwargs \u001b[38;5;241m=\u001b[39m {}\n\u001b[0;32m   2848\u001b[0m \u001b[38;5;28;01mwith\u001b[39;00m \u001b[38;5;28mself\u001b[39m\u001b[38;5;241m.\u001b[39m_container_strategy()\u001b[38;5;241m.\u001b[39mscope():\n\u001b[1;32m-> 2849\u001b[0m   \u001b[38;5;28;01mreturn\u001b[39;00m \u001b[38;5;28;43mself\u001b[39;49m\u001b[38;5;241;43m.\u001b[39;49m\u001b[43m_call_for_each_replica\u001b[49m\u001b[43m(\u001b[49m\u001b[43mfn\u001b[49m\u001b[43m,\u001b[49m\u001b[43m \u001b[49m\u001b[43margs\u001b[49m\u001b[43m,\u001b[49m\u001b[43m \u001b[49m\u001b[43mkwargs\u001b[49m\u001b[43m)\u001b[49m\n",
      "File \u001b[1;32m~\\anaconda3\\envs\\internship\\lib\\site-packages\\tensorflow\\python\\distribute\\distribute_lib.py:3632\u001b[0m, in \u001b[0;36m_DefaultDistributionExtended._call_for_each_replica\u001b[1;34m(self, fn, args, kwargs)\u001b[0m\n\u001b[0;32m   3630\u001b[0m \u001b[38;5;28;01mdef\u001b[39;00m \u001b[38;5;21m_call_for_each_replica\u001b[39m(\u001b[38;5;28mself\u001b[39m, fn, args, kwargs):\n\u001b[0;32m   3631\u001b[0m   \u001b[38;5;28;01mwith\u001b[39;00m ReplicaContext(\u001b[38;5;28mself\u001b[39m\u001b[38;5;241m.\u001b[39m_container_strategy(), replica_id_in_sync_group\u001b[38;5;241m=\u001b[39m\u001b[38;5;241m0\u001b[39m):\n\u001b[1;32m-> 3632\u001b[0m     \u001b[38;5;28;01mreturn\u001b[39;00m fn(\u001b[38;5;241m*\u001b[39margs, \u001b[38;5;241m*\u001b[39m\u001b[38;5;241m*\u001b[39mkwargs)\n",
      "File \u001b[1;32m~\\anaconda3\\envs\\internship\\lib\\site-packages\\tensorflow\\python\\autograph\\impl\\api.py:597\u001b[0m, in \u001b[0;36mcall_with_unspecified_conversion_status.<locals>.wrapper\u001b[1;34m(*args, **kwargs)\u001b[0m\n\u001b[0;32m    595\u001b[0m \u001b[38;5;28;01mdef\u001b[39;00m \u001b[38;5;21mwrapper\u001b[39m(\u001b[38;5;241m*\u001b[39margs, \u001b[38;5;241m*\u001b[39m\u001b[38;5;241m*\u001b[39mkwargs):\n\u001b[0;32m    596\u001b[0m   \u001b[38;5;28;01mwith\u001b[39;00m ag_ctx\u001b[38;5;241m.\u001b[39mControlStatusCtx(status\u001b[38;5;241m=\u001b[39mag_ctx\u001b[38;5;241m.\u001b[39mStatus\u001b[38;5;241m.\u001b[39mUNSPECIFIED):\n\u001b[1;32m--> 597\u001b[0m     \u001b[38;5;28;01mreturn\u001b[39;00m func(\u001b[38;5;241m*\u001b[39margs, \u001b[38;5;241m*\u001b[39m\u001b[38;5;241m*\u001b[39mkwargs)\n",
      "File \u001b[1;32m~\\anaconda3\\envs\\internship\\lib\\site-packages\\keras\\engine\\training.py:835\u001b[0m, in \u001b[0;36mModel.make_train_function.<locals>.step_function.<locals>.run_step\u001b[1;34m(data)\u001b[0m\n\u001b[0;32m    834\u001b[0m \u001b[38;5;28;01mdef\u001b[39;00m \u001b[38;5;21mrun_step\u001b[39m(data):\n\u001b[1;32m--> 835\u001b[0m   outputs \u001b[38;5;241m=\u001b[39m \u001b[43mmodel\u001b[49m\u001b[38;5;241;43m.\u001b[39;49m\u001b[43mtrain_step\u001b[49m\u001b[43m(\u001b[49m\u001b[43mdata\u001b[49m\u001b[43m)\u001b[49m\n\u001b[0;32m    836\u001b[0m   \u001b[38;5;66;03m# Ensure counter is updated only if `train_step` succeeds.\u001b[39;00m\n\u001b[0;32m    837\u001b[0m   \u001b[38;5;28;01mwith\u001b[39;00m tf\u001b[38;5;241m.\u001b[39mcontrol_dependencies(_minimum_control_deps(outputs)):\n",
      "File \u001b[1;32m~\\anaconda3\\envs\\internship\\lib\\site-packages\\keras\\engine\\training.py:791\u001b[0m, in \u001b[0;36mModel.train_step\u001b[1;34m(self, data)\u001b[0m\n\u001b[0;32m    788\u001b[0m   loss \u001b[38;5;241m=\u001b[39m \u001b[38;5;28mself\u001b[39m\u001b[38;5;241m.\u001b[39mcompiled_loss(\n\u001b[0;32m    789\u001b[0m       y, y_pred, sample_weight, regularization_losses\u001b[38;5;241m=\u001b[39m\u001b[38;5;28mself\u001b[39m\u001b[38;5;241m.\u001b[39mlosses)\n\u001b[0;32m    790\u001b[0m \u001b[38;5;66;03m# Run backwards pass.\u001b[39;00m\n\u001b[1;32m--> 791\u001b[0m \u001b[38;5;28;43mself\u001b[39;49m\u001b[38;5;241;43m.\u001b[39;49m\u001b[43moptimizer\u001b[49m\u001b[38;5;241;43m.\u001b[39;49m\u001b[43mminimize\u001b[49m\u001b[43m(\u001b[49m\u001b[43mloss\u001b[49m\u001b[43m,\u001b[49m\u001b[43m \u001b[49m\u001b[38;5;28;43mself\u001b[39;49m\u001b[38;5;241;43m.\u001b[39;49m\u001b[43mtrainable_variables\u001b[49m\u001b[43m,\u001b[49m\u001b[43m \u001b[49m\u001b[43mtape\u001b[49m\u001b[38;5;241;43m=\u001b[39;49m\u001b[43mtape\u001b[49m\u001b[43m)\u001b[49m\n\u001b[0;32m    792\u001b[0m \u001b[38;5;28mself\u001b[39m\u001b[38;5;241m.\u001b[39mcompiled_metrics\u001b[38;5;241m.\u001b[39mupdate_state(y, y_pred, sample_weight)\n\u001b[0;32m    793\u001b[0m \u001b[38;5;66;03m# Collect metrics to return\u001b[39;00m\n",
      "File \u001b[1;32m~\\anaconda3\\envs\\internship\\lib\\site-packages\\keras\\optimizer_v2\\optimizer_v2.py:522\u001b[0m, in \u001b[0;36mOptimizerV2.minimize\u001b[1;34m(self, loss, var_list, grad_loss, name, tape)\u001b[0m\n\u001b[0;32m    490\u001b[0m \u001b[38;5;124;03m\"\"\"Minimize `loss` by updating `var_list`.\u001b[39;00m\n\u001b[0;32m    491\u001b[0m \n\u001b[0;32m    492\u001b[0m \u001b[38;5;124;03mThis method simply computes gradient using `tf.GradientTape` and calls\u001b[39;00m\n\u001b[1;32m   (...)\u001b[0m\n\u001b[0;32m    518\u001b[0m \n\u001b[0;32m    519\u001b[0m \u001b[38;5;124;03m\"\"\"\u001b[39;00m\n\u001b[0;32m    520\u001b[0m grads_and_vars \u001b[38;5;241m=\u001b[39m \u001b[38;5;28mself\u001b[39m\u001b[38;5;241m.\u001b[39m_compute_gradients(\n\u001b[0;32m    521\u001b[0m     loss, var_list\u001b[38;5;241m=\u001b[39mvar_list, grad_loss\u001b[38;5;241m=\u001b[39mgrad_loss, tape\u001b[38;5;241m=\u001b[39mtape)\n\u001b[1;32m--> 522\u001b[0m \u001b[38;5;28;01mreturn\u001b[39;00m \u001b[38;5;28;43mself\u001b[39;49m\u001b[38;5;241;43m.\u001b[39;49m\u001b[43mapply_gradients\u001b[49m\u001b[43m(\u001b[49m\u001b[43mgrads_and_vars\u001b[49m\u001b[43m,\u001b[49m\u001b[43m \u001b[49m\u001b[43mname\u001b[49m\u001b[38;5;241;43m=\u001b[39;49m\u001b[43mname\u001b[49m\u001b[43m)\u001b[49m\n",
      "File \u001b[1;32m~\\anaconda3\\envs\\internship\\lib\\site-packages\\keras\\optimizer_v2\\optimizer_v2.py:659\u001b[0m, in \u001b[0;36mOptimizerV2.apply_gradients\u001b[1;34m(self, grads_and_vars, name, experimental_aggregate_gradients)\u001b[0m\n\u001b[0;32m    656\u001b[0m grads_and_vars \u001b[38;5;241m=\u001b[39m \u001b[38;5;28mself\u001b[39m\u001b[38;5;241m.\u001b[39m_transform_gradients(grads_and_vars)\n\u001b[0;32m    658\u001b[0m \u001b[38;5;28;01mif\u001b[39;00m optimizer_utils\u001b[38;5;241m.\u001b[39mstrategy_supports_no_merge_call():\n\u001b[1;32m--> 659\u001b[0m   \u001b[38;5;28;01mreturn\u001b[39;00m \u001b[38;5;28;43mself\u001b[39;49m\u001b[38;5;241;43m.\u001b[39;49m\u001b[43m_distributed_apply\u001b[49m\u001b[43m(\u001b[49m\u001b[43mstrategy\u001b[49m\u001b[43m,\u001b[49m\u001b[43m \u001b[49m\u001b[43mgrads_and_vars\u001b[49m\u001b[43m,\u001b[49m\u001b[43m \u001b[49m\u001b[43mname\u001b[49m\u001b[43m,\u001b[49m\n\u001b[0;32m    660\u001b[0m \u001b[43m                                 \u001b[49m\u001b[43mapply_state\u001b[49m\u001b[43m)\u001b[49m\n\u001b[0;32m    661\u001b[0m \u001b[38;5;28;01melse\u001b[39;00m:\n\u001b[0;32m    662\u001b[0m   \u001b[38;5;28;01mreturn\u001b[39;00m tf\u001b[38;5;241m.\u001b[39mdistribute\u001b[38;5;241m.\u001b[39mget_replica_context()\u001b[38;5;241m.\u001b[39mmerge_call(\n\u001b[0;32m    663\u001b[0m       functools\u001b[38;5;241m.\u001b[39mpartial(\u001b[38;5;28mself\u001b[39m\u001b[38;5;241m.\u001b[39m_distributed_apply, apply_state\u001b[38;5;241m=\u001b[39mapply_state),\n\u001b[0;32m    664\u001b[0m       args\u001b[38;5;241m=\u001b[39m(grads_and_vars,),\n\u001b[0;32m    665\u001b[0m       kwargs\u001b[38;5;241m=\u001b[39m{\n\u001b[0;32m    666\u001b[0m           \u001b[38;5;124m\"\u001b[39m\u001b[38;5;124mname\u001b[39m\u001b[38;5;124m\"\u001b[39m: name,\n\u001b[0;32m    667\u001b[0m       })\n",
      "File \u001b[1;32m~\\anaconda3\\envs\\internship\\lib\\site-packages\\keras\\optimizer_v2\\optimizer_v2.py:727\u001b[0m, in \u001b[0;36mOptimizerV2._distributed_apply\u001b[1;34m(self, distribution, grads_and_vars, name, apply_state)\u001b[0m\n\u001b[0;32m    724\u001b[0m     \u001b[38;5;28;01mwith\u001b[39;00m tf\u001b[38;5;241m.\u001b[39mcontrol_dependencies([tf\u001b[38;5;241m.\u001b[39mgroup(update_ops)]):\n\u001b[0;32m    725\u001b[0m       \u001b[38;5;28;01mreturn\u001b[39;00m \u001b[38;5;28mself\u001b[39m\u001b[38;5;241m.\u001b[39m_iterations\u001b[38;5;241m.\u001b[39massign_add(\u001b[38;5;241m1\u001b[39m, read_value\u001b[38;5;241m=\u001b[39m\u001b[38;5;28;01mFalse\u001b[39;00m)\n\u001b[1;32m--> 727\u001b[0m \u001b[38;5;28;01mreturn\u001b[39;00m \u001b[38;5;28;43mself\u001b[39;49m\u001b[38;5;241;43m.\u001b[39;49m\u001b[43m_iterations\u001b[49m\u001b[38;5;241;43m.\u001b[39;49m\u001b[43massign_add\u001b[49m\u001b[43m(\u001b[49m\u001b[38;5;241;43m1\u001b[39;49m\u001b[43m)\u001b[49m\n",
      "File \u001b[1;32m~\\anaconda3\\envs\\internship\\lib\\site-packages\\tensorflow\\python\\ops\\resource_variable_ops.py:855\u001b[0m, in \u001b[0;36mBaseResourceVariable.assign_add\u001b[1;34m(self, delta, use_locking, name, read_value)\u001b[0m\n\u001b[0;32m    839\u001b[0m \u001b[38;5;124;03m\"\"\"Adds a value to this variable.\u001b[39;00m\n\u001b[0;32m    840\u001b[0m \n\u001b[0;32m    841\u001b[0m \u001b[38;5;124;03mArgs:\u001b[39;00m\n\u001b[1;32m   (...)\u001b[0m\n\u001b[0;32m    852\u001b[0m \u001b[38;5;124;03m  mode it will return `None`.\u001b[39;00m\n\u001b[0;32m    853\u001b[0m \u001b[38;5;124;03m\"\"\"\u001b[39;00m\n\u001b[0;32m    854\u001b[0m \u001b[38;5;28;01mwith\u001b[39;00m _handle_graph(\u001b[38;5;28mself\u001b[39m\u001b[38;5;241m.\u001b[39mhandle), \u001b[38;5;28mself\u001b[39m\u001b[38;5;241m.\u001b[39m_assign_dependencies():\n\u001b[1;32m--> 855\u001b[0m   assign_add_op \u001b[38;5;241m=\u001b[39m \u001b[43mgen_resource_variable_ops\u001b[49m\u001b[38;5;241;43m.\u001b[39;49m\u001b[43massign_add_variable_op\u001b[49m\u001b[43m(\u001b[49m\n\u001b[0;32m    856\u001b[0m \u001b[43m      \u001b[49m\u001b[38;5;28;43mself\u001b[39;49m\u001b[38;5;241;43m.\u001b[39;49m\u001b[43mhandle\u001b[49m\u001b[43m,\u001b[49m\n\u001b[0;32m    857\u001b[0m \u001b[43m      \u001b[49m\u001b[43mops\u001b[49m\u001b[38;5;241;43m.\u001b[39;49m\u001b[43mconvert_to_tensor\u001b[49m\u001b[43m(\u001b[49m\u001b[43mdelta\u001b[49m\u001b[43m,\u001b[49m\u001b[43m \u001b[49m\u001b[43mdtype\u001b[49m\u001b[38;5;241;43m=\u001b[39;49m\u001b[38;5;28;43mself\u001b[39;49m\u001b[38;5;241;43m.\u001b[39;49m\u001b[43mdtype\u001b[49m\u001b[43m)\u001b[49m\u001b[43m,\u001b[49m\n\u001b[0;32m    858\u001b[0m \u001b[43m      \u001b[49m\u001b[43mname\u001b[49m\u001b[38;5;241;43m=\u001b[39;49m\u001b[43mname\u001b[49m\u001b[43m)\u001b[49m\n\u001b[0;32m    859\u001b[0m \u001b[38;5;28;01mif\u001b[39;00m read_value:\n\u001b[0;32m    860\u001b[0m   \u001b[38;5;28;01mreturn\u001b[39;00m \u001b[38;5;28mself\u001b[39m\u001b[38;5;241m.\u001b[39m_lazy_read(assign_add_op)\n",
      "File \u001b[1;32m~\\anaconda3\\envs\\internship\\lib\\site-packages\\tensorflow\\python\\ops\\gen_resource_variable_ops.py:42\u001b[0m, in \u001b[0;36massign_add_variable_op\u001b[1;34m(resource, value, name)\u001b[0m\n\u001b[0;32m     40\u001b[0m \u001b[38;5;28;01mif\u001b[39;00m tld\u001b[38;5;241m.\u001b[39mis_eager:\n\u001b[0;32m     41\u001b[0m   \u001b[38;5;28;01mtry\u001b[39;00m:\n\u001b[1;32m---> 42\u001b[0m     _result \u001b[38;5;241m=\u001b[39m \u001b[43mpywrap_tfe\u001b[49m\u001b[38;5;241;43m.\u001b[39;49m\u001b[43mTFE_Py_FastPathExecute\u001b[49m\u001b[43m(\u001b[49m\n\u001b[0;32m     43\u001b[0m \u001b[43m      \u001b[49m\u001b[43m_ctx\u001b[49m\u001b[43m,\u001b[49m\u001b[43m \u001b[49m\u001b[38;5;124;43m\"\u001b[39;49m\u001b[38;5;124;43mAssignAddVariableOp\u001b[39;49m\u001b[38;5;124;43m\"\u001b[39;49m\u001b[43m,\u001b[49m\u001b[43m \u001b[49m\u001b[43mname\u001b[49m\u001b[43m,\u001b[49m\u001b[43m \u001b[49m\u001b[43mresource\u001b[49m\u001b[43m,\u001b[49m\u001b[43m \u001b[49m\u001b[43mvalue\u001b[49m\u001b[43m)\u001b[49m\n\u001b[0;32m     44\u001b[0m     \u001b[38;5;28;01mreturn\u001b[39;00m _result\n\u001b[0;32m     45\u001b[0m   \u001b[38;5;28;01mexcept\u001b[39;00m _core\u001b[38;5;241m.\u001b[39m_NotOkStatusException \u001b[38;5;28;01mas\u001b[39;00m e:\n",
      "\u001b[1;31mKeyboardInterrupt\u001b[0m: "
     ]
    }
   ],
   "source": [
    "hist = ann.fit(X_train, to_categorical(y_train), epochs=150, batch_size=10, validation_split=0.1)"
   ]
  },
  {
   "cell_type": "code",
   "execution_count": 57,
   "id": "c8238445",
   "metadata": {},
   "outputs": [
    {
     "data": {
      "image/png": "[encoded data removed]",
      "text/plain": [
       "<Figure size 432x288 with 1 Axes>"
      ]
     },
     "metadata": {
      "needs_background": "light"
     },
     "output_type": "display_data"
    }
   ],
   "source": [
    "plt.plot(hist.history['accuracy'], 'bo--', label='Training Accuracy')\n",
    "plt.plot(hist.history['val_accuracy'], 'y-', label='Validation Accuracy')\n",
    "\n",
    "# add axis labels and title\n",
    "plt.xlabel('Epochs')\n",
    "plt.ylabel('Accuracy')\n",
    "plt.title('Training and Validation Accuracy')\n",
    "\n",
    "# add legend\n",
    "plt.legend()\n",
    "\n",
    "# show the plot\n",
    "plt.show()"
   ]
  },
  {
   "cell_type": "markdown",
   "id": "093704d4",
   "metadata": {},
   "source": [
    "## Cascading bins waterfall model"
   ]
  },
  {
   "cell_type": "code",
   "execution_count": 61,
   "id": "ad495832",
   "metadata": {},
   "outputs": [],
   "source": [
    "import collections.abc\n",
    "\n",
    "def isMonotonicallyIncreasing(array):\n",
    "    a = np.array(array)\n",
    "    return np.all(a[:-1] < a[1:])\n",
    "    \n",
    "class CBWM:\n",
    "    def __init__(\n",
    "        self, \n",
    "        bins, \n",
    "        models = lambda : GradientBoostingClassifier(n_estimators=100, learning_rate=0.1, max_depth=5, random_state=0),\n",
    "    ):\n",
    "        if isinstance(bins, str) or not hasattr(bins, '__len__'):\n",
    "            raise TypeError('bins must be Sequence')\n",
    "        if len(bins) == 0:\n",
    "            raise ValueError('bins cannot be empty Sequence')\n",
    "        if not isMonotonicallyIncreasing(bins):\n",
    "            raise ValueError('bins must be monotonically increasing Sequence')\n",
    "        \n",
    "        self.bins = bins\n",
    "        \n",
    "        if not isinstance(models, str) and hasattr(models, '__len__'):\n",
    "            if (len(models) == len(self.bins) - 2):\n",
    "                self.models = models\n",
    "            else:\n",
    "                raise ValueError('len(models) == len(self.bins) - 2')\n",
    "        elif (callable(models)):\n",
    "            self.models = [models() for _ in range(len(self.bins) - 2)]\n",
    "        else:\n",
    "            raise TypeError('models must be Sequence or callable (model factory)')\n",
    "        \n",
    "        \n",
    "    def fit(self, X, y):\n",
    "        x_next = X\n",
    "        y_next = y\n",
    "        for bin_edge, model in zip(self.bins[1:-1], self.models):\n",
    "            y_bin = (y_next < bin_edge).astype(int)\n",
    "\n",
    "            model.fit(x_next, y_bin)\n",
    "            \n",
    "            next_idx = y_bin == 0\n",
    "            x_next = x_next[next_idx]\n",
    "            y_next = y_next[next_idx]\n",
    "            \n",
    "    def predict(self, X):\n",
    "        y_shape = (X.shape[0], )\n",
    "        y_pred = np.full(y_shape, -1, dtype=int)\n",
    "        \n",
    "        for idx, model in enumerate(self.models):\n",
    "            pred_not_done = y_pred == -1\n",
    "            if not pred_not_done.any():\n",
    "                break\n",
    "            pred_done = model.predict(X[pred_not_done]) == 1\n",
    "            y_pred[pred_not_done] = pred_done.astype(int) * idx\n",
    "        \n",
    "        y_pred[y_pred==-1] = len(self.models)\n",
    "        \n",
    "        return y_pred\n"
   ]
  },
  {
   "cell_type": "code",
   "execution_count": 62,
   "id": "38edea8e",
   "metadata": {},
   "outputs": [
    {
     "name": "stdout",
     "output_type": "stream",
     "text": [
      "              precision    recall  f1-score   support\n",
      "\n",
      "    0-7 days       0.00      0.00      0.00      3182\n",
      "   7-30 days       0.00      0.00      0.00      1421\n",
      "  30-60 days       0.00      0.00      0.00       771\n",
      "  60-90 days       0.00      0.00      0.00       309\n",
      " 90-120 days       0.00      0.00      0.00       107\n",
      "  > 120 days       0.02      1.00      0.04       118\n",
      "\n",
      "    accuracy                           0.02      5908\n",
      "   macro avg       0.00      0.17      0.01      5908\n",
      "weighted avg       0.00      0.02      0.00      5908\n",
      "\n",
      "[[   0    0    0    0    0 3182]\n",
      " [   0    0    0    0    0 1421]\n",
      " [   0    0    0    0    0  771]\n",
      " [   0    0    0    0    0  309]\n",
      " [   0    0    0    0    0  107]\n",
      " [   0    0    0    0    0  118]]\n"
     ]
    },
    {
     "name": "stderr",
     "output_type": "stream",
     "text": [
      "C:\\Users\\HedonisT\\anaconda3\\envs\\internship\\lib\\site-packages\\sklearn\\metrics\\_classification.py:1334: UndefinedMetricWarning: Precision and F-score are ill-defined and being set to 0.0 in labels with no predicted samples. Use `zero_division` parameter to control this behavior.\n",
      "  _warn_prf(average, modifier, msg_start, len(result))\n",
      "C:\\Users\\HedonisT\\anaconda3\\envs\\internship\\lib\\site-packages\\sklearn\\metrics\\_classification.py:1334: UndefinedMetricWarning: Precision and F-score are ill-defined and being set to 0.0 in labels with no predicted samples. Use `zero_division` parameter to control this behavior.\n",
      "  _warn_prf(average, modifier, msg_start, len(result))\n",
      "C:\\Users\\HedonisT\\anaconda3\\envs\\internship\\lib\\site-packages\\sklearn\\metrics\\_classification.py:1334: UndefinedMetricWarning: Precision and F-score are ill-defined and being set to 0.0 in labels with no predicted samples. Use `zero_division` parameter to control this behavior.\n",
      "  _warn_prf(average, modifier, msg_start, len(result))\n"
     ]
    }
   ],
   "source": [
    "cmwm = CBWM(bins)\n",
    "cmwm.fit(X_train, y_train_orig)\n",
    "print_report(y_test, cmwm.predict(X_test), target_labels)"
   ]
  },
  {
   "cell_type": "code",
   "execution_count": null,
   "id": "7edbfb27",
   "metadata": {},
   "outputs": [],
   "source": [
    "models = [\n",
    "    GradientBoostingClassifier(n_estimators=100, learning_rate=0.1, max_depth=5, random_state=0),\n",
    "    GradientBoostingClassifier(n_estimators=100, learning_rate=0.1, max_depth=5, random_state=0),\n",
    "    GradientBoostingClassifier(n_estimators=100, learning_rate=0.1, max_depth=5, random_state=0),\n",
    "    GradientBoostingClassifier(n_estimators=100, learning_rate=0.1, max_depth=5, random_state=0),\n",
    "    SVC(C=1.0, random_state=0),\n",
    "]\n",
    "cmwm = CBWM(bins, models)\n",
    "cmwm.fit(X_train, y_train_orig)\n",
    "print_report(y_test, cmwm.predict(X_test), target_labels)"
   ]
  },
  {
   "cell_type": "code",
   "execution_count": null,
   "id": "9903d4be",
   "metadata": {
    "scrolled": true
   },
   "outputs": [],
   "source": [
    "tb = [0, 7, 2000]\n",
    "cmwm = CBWM(tb)\n",
    "cmwm.fit(X_train, y_train_orig)\n",
    "print_report(np.digitize(y_test_orig, tb), cmwm.predict(X_test), get_time_period_labels_from_bins(tb))"
   ]
  },
  {
   "cell_type": "markdown",
   "id": "b3b5b75e",
   "metadata": {},
   "source": [
    "# SMOTE"
   ]
  },
  {
   "cell_type": "code",
   "execution_count": null,
   "id": "93d72446",
   "metadata": {},
   "outputs": [],
   "source": [
    "from imblearn.under_sampling import RandomUnderSampler\n",
    "from imblearn.over_sampling import SMOTE"
   ]
  },
  {
   "cell_type": "code",
   "execution_count": null,
   "id": "94150b26",
   "metadata": {},
   "outputs": [],
   "source": [
    "pd.Series(y_train).value_counts().plot(kind='bar', title='Class distribution before SMOTE')"
   ]
  },
  {
   "cell_type": "code",
   "execution_count": null,
   "id": "02a8711b",
   "metadata": {},
   "outputs": [],
   "source": [
    "target_counts = pd.Series(y_train).value_counts()\n",
    "sampling_strategy = dict(target_counts)\n",
    "sampling_strategy[1] = round(0.25 * sampling_strategy[1])\n",
    "\n",
    "X_under, y_under = RandomUnderSampler(sampling_strategy=sampling_strategy, random_state=0).fit_resample(X_train, y_train)\n",
    "pd.Series(y_under).value_counts().plot(kind='bar', title='Class distribution after Random Undersampling')"
   ]
  },
  {
   "cell_type": "code",
   "execution_count": null,
   "id": "75e761f9",
   "metadata": {},
   "outputs": [],
   "source": [
    "X_resampled, y_resampled = SMOTE(random_state=0).fit_resample(X_under, y_under)\n",
    "pd.Series(y_resampled).value_counts().plot(kind='bar', title='Class distribution after appying SMOTE')"
   ]
  },
  {
   "cell_type": "code",
   "execution_count": null,
   "id": "aaa2516d",
   "metadata": {},
   "outputs": [],
   "source": [
    "gb_smote = GradientBoostingClassifier(n_estimators=100, learning_rate=0.1, max_depth=5, random_state=0)\n",
    "gb_smote.fit(X_resampled, y_resampled)\n",
    "print_report(y_test, gb_smote.predict(X_test), target_labels)"
   ]
  }
 ],
 "metadata": {
  "kernelspec": {
   "display_name": "Python 3 (ipykernel)",
   "language": "python",
   "name": "python3"
  },
  "language_info": {
   "codemirror_mode": {
    "name": "ipython",
    "version": 3
   },
   "file_extension": ".py",
   "mimetype": "text/x-python",
   "name": "python",
   "nbconvert_exporter": "python",
   "pygments_lexer": "ipython3",
   "version": "3.9.12"
  }
 },
 "nbformat": 4,
 "nbformat_minor": 5
}
