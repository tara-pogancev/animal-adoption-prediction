{
  "cells": [
    {
      "cell_type": "markdown",
      "id": "70411269",
      "metadata": {
        "id": "70411269"
      },
      "source": [
        "# Models"
      ]
    },
    {
      "cell_type": "code",
      "execution_count": 1,
      "id": "b1c19d20",
      "metadata": {
        "id": "b1c19d20"
      },
      "outputs": [],
      "source": [
        "import numpy as np\n",
        "import pandas as pd\n",
        "import matplotlib.pyplot as plt\n",
        "\n",
        "# models\n",
        "from sklearn.svm import SVC\n",
        "from sklearn.dummy import DummyClassifier\n",
        "from sklearn.ensemble import GradientBoostingClassifier, RandomForestClassifier\n",
        "from xgboost import XGBClassifier\n",
        "\n",
        "from tensorflow.keras import backend as K\n",
        "from tensorflow.keras.models import Sequential\n",
        "from tensorflow.keras.regularizers import l2\n",
        "from tensorflow.keras.layers import Dense, BatchNormalization, Dropout\n",
        "from tensorflow.keras.utils import to_categorical\n",
        "from tensorflow.keras.callbacks import EarlyStopping\n",
        "from tensorflow.keras.metrics import Precision, Recall\n",
        "\n",
        "# eval utils\n",
        "from sklearn.model_selection import train_test_split, cross_validate, StratifiedKFold, RandomizedSearchCV, GridSearchCV\n",
        "from sklearn.metrics import classification_report, confusion_matrix, f1_score"
      ]
    },
    {
      "cell_type": "code",
      "execution_count": 2,
      "id": "31ce4430",
      "metadata": {
        "scrolled": false,
        "colab": {
          "base_uri": "https://localhost:8080/",
          "height": 300
        },
        "id": "31ce4430",
        "outputId": "52119b81-4a4c-4f76-8d7d-4e1b305d268a"
      },
      "outputs": [
        {
          "output_type": "execute_result",
          "data": {
            "text/plain": [
              "   intake_number  time_in_shelter_days  is_sterilized  \\\n",
              "0            0.0             49.747917              1   \n",
              "1            0.0              9.020139              1   \n",
              "2            0.0             23.104861              1   \n",
              "3            0.0             89.855556              1   \n",
              "4            0.0              2.755556              1   \n",
              "\n",
              "   is_sterilized_in_shelter  age_group_upon_intake  mixed_breed  dog_size  \\\n",
              "0                         0                1.00000            1       0.5   \n",
              "1                         0                1.00000            0       0.0   \n",
              "2                         0                1.00000            1       1.0   \n",
              "3                         0                1.00000            1       1.0   \n",
              "4                         0                0.61831            1       1.0   \n",
              "\n",
              "   avg_height  avg_weight  avg_lifespan  ...  in_month_5  in_month_6  \\\n",
              "0    0.038462    0.114427      0.777778  ...           0           0   \n",
              "1    0.000000    0.000000      0.777778  ...           0           0   \n",
              "2    0.576923    0.369608      0.444444  ...           0           0   \n",
              "3    0.634615    0.472175      0.555556  ...           0           0   \n",
              "4    0.692308    0.325557      0.777778  ...           0           0   \n",
              "\n",
              "   in_month_7  in_month_8  in_month_9  in_month_10  in_month_11  in_month_12  \\\n",
              "0           0           0           0            1            0            0   \n",
              "1           0           0           1            0            0            0   \n",
              "2           0           0           0            1            0            0   \n",
              "3           0           1           0            0            0            0   \n",
              "4           0           0           0            0            1            0   \n",
              "\n",
              "   is_puppy  age_upon_intake_days  \n",
              "0         0                   1.0  \n",
              "1         0                   1.0  \n",
              "2         0                   1.0  \n",
              "3         0                   1.0  \n",
              "4         0                   1.0  \n",
              "\n",
              "[5 rows x 42 columns]"
            ],
            "text/html": [
              "\n",
              "  <div id=\"df-316ea268-1bbf-4311-b0cc-85473087f1dc\">\n",
              "    <div class=\"colab-df-container\">\n",
              "      <div>\n",
              "<style scoped>\n",
              "    .dataframe tbody tr th:only-of-type {\n",
              "        vertical-align: middle;\n",
              "    }\n",
              "\n",
              "    .dataframe tbody tr th {\n",
              "        vertical-align: top;\n",
              "    }\n",
              "\n",
              "    .dataframe thead th {\n",
              "        text-align: right;\n",
              "    }\n",
              "</style>\n",
              "<table border=\"1\" class=\"dataframe\">\n",
              "  <thead>\n",
              "    <tr style=\"text-align: right;\">\n",
              "      <th></th>\n",
              "      <th>intake_number</th>\n",
              "      <th>time_in_shelter_days</th>\n",
              "      <th>is_sterilized</th>\n",
              "      <th>is_sterilized_in_shelter</th>\n",
              "      <th>age_group_upon_intake</th>\n",
              "      <th>mixed_breed</th>\n",
              "      <th>dog_size</th>\n",
              "      <th>avg_height</th>\n",
              "      <th>avg_weight</th>\n",
              "      <th>avg_lifespan</th>\n",
              "      <th>...</th>\n",
              "      <th>in_month_5</th>\n",
              "      <th>in_month_6</th>\n",
              "      <th>in_month_7</th>\n",
              "      <th>in_month_8</th>\n",
              "      <th>in_month_9</th>\n",
              "      <th>in_month_10</th>\n",
              "      <th>in_month_11</th>\n",
              "      <th>in_month_12</th>\n",
              "      <th>is_puppy</th>\n",
              "      <th>age_upon_intake_days</th>\n",
              "    </tr>\n",
              "  </thead>\n",
              "  <tbody>\n",
              "    <tr>\n",
              "      <th>0</th>\n",
              "      <td>0.0</td>\n",
              "      <td>49.747917</td>\n",
              "      <td>1</td>\n",
              "      <td>0</td>\n",
              "      <td>1.00000</td>\n",
              "      <td>1</td>\n",
              "      <td>0.5</td>\n",
              "      <td>0.038462</td>\n",
              "      <td>0.114427</td>\n",
              "      <td>0.777778</td>\n",
              "      <td>...</td>\n",
              "      <td>0</td>\n",
              "      <td>0</td>\n",
              "      <td>0</td>\n",
              "      <td>0</td>\n",
              "      <td>0</td>\n",
              "      <td>1</td>\n",
              "      <td>0</td>\n",
              "      <td>0</td>\n",
              "      <td>0</td>\n",
              "      <td>1.0</td>\n",
              "    </tr>\n",
              "    <tr>\n",
              "      <th>1</th>\n",
              "      <td>0.0</td>\n",
              "      <td>9.020139</td>\n",
              "      <td>1</td>\n",
              "      <td>0</td>\n",
              "      <td>1.00000</td>\n",
              "      <td>0</td>\n",
              "      <td>0.0</td>\n",
              "      <td>0.000000</td>\n",
              "      <td>0.000000</td>\n",
              "      <td>0.777778</td>\n",
              "      <td>...</td>\n",
              "      <td>0</td>\n",
              "      <td>0</td>\n",
              "      <td>0</td>\n",
              "      <td>0</td>\n",
              "      <td>1</td>\n",
              "      <td>0</td>\n",
              "      <td>0</td>\n",
              "      <td>0</td>\n",
              "      <td>0</td>\n",
              "      <td>1.0</td>\n",
              "    </tr>\n",
              "    <tr>\n",
              "      <th>2</th>\n",
              "      <td>0.0</td>\n",
              "      <td>23.104861</td>\n",
              "      <td>1</td>\n",
              "      <td>0</td>\n",
              "      <td>1.00000</td>\n",
              "      <td>1</td>\n",
              "      <td>1.0</td>\n",
              "      <td>0.576923</td>\n",
              "      <td>0.369608</td>\n",
              "      <td>0.444444</td>\n",
              "      <td>...</td>\n",
              "      <td>0</td>\n",
              "      <td>0</td>\n",
              "      <td>0</td>\n",
              "      <td>0</td>\n",
              "      <td>0</td>\n",
              "      <td>1</td>\n",
              "      <td>0</td>\n",
              "      <td>0</td>\n",
              "      <td>0</td>\n",
              "      <td>1.0</td>\n",
              "    </tr>\n",
              "    <tr>\n",
              "      <th>3</th>\n",
              "      <td>0.0</td>\n",
              "      <td>89.855556</td>\n",
              "      <td>1</td>\n",
              "      <td>0</td>\n",
              "      <td>1.00000</td>\n",
              "      <td>1</td>\n",
              "      <td>1.0</td>\n",
              "      <td>0.634615</td>\n",
              "      <td>0.472175</td>\n",
              "      <td>0.555556</td>\n",
              "      <td>...</td>\n",
              "      <td>0</td>\n",
              "      <td>0</td>\n",
              "      <td>0</td>\n",
              "      <td>1</td>\n",
              "      <td>0</td>\n",
              "      <td>0</td>\n",
              "      <td>0</td>\n",
              "      <td>0</td>\n",
              "      <td>0</td>\n",
              "      <td>1.0</td>\n",
              "    </tr>\n",
              "    <tr>\n",
              "      <th>4</th>\n",
              "      <td>0.0</td>\n",
              "      <td>2.755556</td>\n",
              "      <td>1</td>\n",
              "      <td>0</td>\n",
              "      <td>0.61831</td>\n",
              "      <td>1</td>\n",
              "      <td>1.0</td>\n",
              "      <td>0.692308</td>\n",
              "      <td>0.325557</td>\n",
              "      <td>0.777778</td>\n",
              "      <td>...</td>\n",
              "      <td>0</td>\n",
              "      <td>0</td>\n",
              "      <td>0</td>\n",
              "      <td>0</td>\n",
              "      <td>0</td>\n",
              "      <td>0</td>\n",
              "      <td>1</td>\n",
              "      <td>0</td>\n",
              "      <td>0</td>\n",
              "      <td>1.0</td>\n",
              "    </tr>\n",
              "  </tbody>\n",
              "</table>\n",
              "<p>5 rows × 42 columns</p>\n",
              "</div>\n",
              "      <button class=\"colab-df-convert\" onclick=\"convertToInteractive('df-316ea268-1bbf-4311-b0cc-85473087f1dc')\"\n",
              "              title=\"Convert this dataframe to an interactive table.\"\n",
              "              style=\"display:none;\">\n",
              "        \n",
              "  <svg xmlns=\"http://www.w3.org/2000/svg\" height=\"24px\"viewBox=\"0 0 24 24\"\n",
              "       width=\"24px\">\n",
              "    <path d=\"M0 0h24v24H0V0z\" fill=\"none\"/>\n",
              "    <path d=\"M18.56 5.44l.94 2.06.94-2.06 2.06-.94-2.06-.94-.94-2.06-.94 2.06-2.06.94zm-11 1L8.5 8.5l.94-2.06 2.06-.94-2.06-.94L8.5 2.5l-.94 2.06-2.06.94zm10 10l.94 2.06.94-2.06 2.06-.94-2.06-.94-.94-2.06-.94 2.06-2.06.94z\"/><path d=\"M17.41 7.96l-1.37-1.37c-.4-.4-.92-.59-1.43-.59-.52 0-1.04.2-1.43.59L10.3 9.45l-7.72 7.72c-.78.78-.78 2.05 0 2.83L4 21.41c.39.39.9.59 1.41.59.51 0 1.02-.2 1.41-.59l7.78-7.78 2.81-2.81c.8-.78.8-2.07 0-2.86zM5.41 20L4 18.59l7.72-7.72 1.47 1.35L5.41 20z\"/>\n",
              "  </svg>\n",
              "      </button>\n",
              "      \n",
              "  <style>\n",
              "    .colab-df-container {\n",
              "      display:flex;\n",
              "      flex-wrap:wrap;\n",
              "      gap: 12px;\n",
              "    }\n",
              "\n",
              "    .colab-df-convert {\n",
              "      background-color: #E8F0FE;\n",
              "      border: none;\n",
              "      border-radius: 50%;\n",
              "      cursor: pointer;\n",
              "      display: none;\n",
              "      fill: #1967D2;\n",
              "      height: 32px;\n",
              "      padding: 0 0 0 0;\n",
              "      width: 32px;\n",
              "    }\n",
              "\n",
              "    .colab-df-convert:hover {\n",
              "      background-color: #E2EBFA;\n",
              "      box-shadow: 0px 1px 2px rgba(60, 64, 67, 0.3), 0px 1px 3px 1px rgba(60, 64, 67, 0.15);\n",
              "      fill: #174EA6;\n",
              "    }\n",
              "\n",
              "    [theme=dark] .colab-df-convert {\n",
              "      background-color: #3B4455;\n",
              "      fill: #D2E3FC;\n",
              "    }\n",
              "\n",
              "    [theme=dark] .colab-df-convert:hover {\n",
              "      background-color: #434B5C;\n",
              "      box-shadow: 0px 1px 3px 1px rgba(0, 0, 0, 0.15);\n",
              "      filter: drop-shadow(0px 1px 2px rgba(0, 0, 0, 0.3));\n",
              "      fill: #FFFFFF;\n",
              "    }\n",
              "  </style>\n",
              "\n",
              "      <script>\n",
              "        const buttonEl =\n",
              "          document.querySelector('#df-316ea268-1bbf-4311-b0cc-85473087f1dc button.colab-df-convert');\n",
              "        buttonEl.style.display =\n",
              "          google.colab.kernel.accessAllowed ? 'block' : 'none';\n",
              "\n",
              "        async function convertToInteractive(key) {\n",
              "          const element = document.querySelector('#df-316ea268-1bbf-4311-b0cc-85473087f1dc');\n",
              "          const dataTable =\n",
              "            await google.colab.kernel.invokeFunction('convertToInteractive',\n",
              "                                                     [key], {});\n",
              "          if (!dataTable) return;\n",
              "\n",
              "          const docLinkHtml = 'Like what you see? Visit the ' +\n",
              "            '<a target=\"_blank\" href=https://colab.research.google.com/notebooks/data_table.ipynb>data table notebook</a>'\n",
              "            + ' to learn more about interactive tables.';\n",
              "          element.innerHTML = '';\n",
              "          dataTable['output_type'] = 'display_data';\n",
              "          await google.colab.output.renderOutput(dataTable, element);\n",
              "          const docLink = document.createElement('div');\n",
              "          docLink.innerHTML = docLinkHtml;\n",
              "          element.appendChild(docLink);\n",
              "        }\n",
              "      </script>\n",
              "    </div>\n",
              "  </div>\n",
              "  "
            ]
          },
          "metadata": {},
          "execution_count": 2
        }
      ],
      "source": [
        "# df = pd.read_csv('cats-no-breed-info.csv').drop(columns=['id', 'breed', 'color'])\n",
        "\n",
        "# df = pd.read_csv('nc_m1_ag1_h1.csv')\n",
        "# df = pd.read_csv('nc_m1_ag1_h2.csv')\n",
        "\n",
        "# df = pd.read_csv('nc_m1_ag2_h1.csv', index_col=[0])\n",
        "# df = pd.read_csv('nc_m1_ag3_h1.csv', index_col=[0])\n",
        "\n",
        "# df = pd.read_csv('nc_m2_ag1_h1.csv')\n",
        "\n",
        "# df = pd.read_csv('nc_m2_ag3_h1.csv').drop(columns=['hair_length'])\n",
        "# df = pd.read_csv('nc_m1_ag3_h2.csv')\n",
        "\n",
        "# df = pd.read_csv('nc_m2_ag3_h2.csv')\n",
        "\n",
        "df = pd.read_csv('nd_avg.csv', index_col=[0])\n",
        "df = df[df.columns.drop(list(df.filter(regex='breed_')))]\n",
        "df = df.drop(columns=[\"Unnamed: 0\"])\n",
        "df.columns\n",
        "\n",
        "df.head()\n"
      ]
    },
    {
      "cell_type": "code",
      "execution_count": 3,
      "id": "94eae4d7",
      "metadata": {
        "id": "94eae4d7"
      },
      "outputs": [],
      "source": [
        "def get_time_period_labels_from_bins(bins):\n",
        "    n_bins = len(bins)\n",
        "    labels = []\n",
        "    for i in range(n_bins - 1):\n",
        "        label = f'{bins[i]}-{bins[i+1]} days' if i != n_bins - 2 else f'> {bins[i]} days'\n",
        "        labels.append(label)\n",
        "    return labels\n",
        "    \n",
        "def print_report(y_true, y_pred, target_names):\n",
        "    print(classification_report(y_true, y_pred, target_names=target_names))\n",
        "\n",
        "\n",
        "def fit_print(clf, X_train, y_train, X_test, y_test):\n",
        "    clf.fit(X_train, y_train)\n",
        "    print_report(y_test, clf.predict(X_test), target_labels)\n",
        "\n",
        "def plot_train_history(hist):\n",
        "    plt.plot(hist.history['loss'], '-', label='Training loss')\n",
        "    plt.plot(hist.history['val_loss'], '-', label='Validation loss')\n",
        "\n",
        "    # add axis labels and title\n",
        "    plt.xlabel('Epochs')\n",
        "    plt.ylabel('loss')\n",
        "    plt.title('Training and Validation Loss')\n",
        "\n",
        "    # add legend\n",
        "    plt.legend()\n",
        "\n",
        "    # show the plot\n",
        "    plt.show()"
      ]
    },
    {
      "cell_type": "code",
      "execution_count": 4,
      "id": "239512fc",
      "metadata": {
        "id": "239512fc"
      },
      "outputs": [],
      "source": [
        "bins = (0, 7, 30, 60, 90, 120, df['time_in_shelter_days'].max() + 1)\n",
        "\n",
        "def bin_target(target):\n",
        "    return np.digitize(target, bins) - 1"
      ]
    },
    {
      "cell_type": "code",
      "execution_count": 5,
      "id": "226f1c56",
      "metadata": {
        "colab": {
          "base_uri": "https://localhost:8080/"
        },
        "id": "226f1c56",
        "outputId": "6c12146f-a918-4505-eca1-a2fa1477d954"
      },
      "outputs": [
        {
          "output_type": "execute_result",
          "data": {
            "text/plain": [
              "['0-7 days',\n",
              " '7-30 days',\n",
              " '30-60 days',\n",
              " '60-90 days',\n",
              " '90-120 days',\n",
              " '> 120 days']"
            ]
          },
          "metadata": {},
          "execution_count": 5
        }
      ],
      "source": [
        "target_labels = get_time_period_labels_from_bins(bins)\n",
        "target_labels"
      ]
    },
    {
      "cell_type": "code",
      "source": [
        "df['target'] = bin_target(df['time_in_shelter_days'])\n",
        "df['target'].value_counts()"
      ],
      "metadata": {
        "colab": {
          "base_uri": "https://localhost:8080/"
        },
        "id": "R1wKxHZWMEKf",
        "outputId": "2b1ed5f3-cacf-4fd1-fd5a-f750877d4eff"
      },
      "id": "R1wKxHZWMEKf",
      "execution_count": 6,
      "outputs": [
        {
          "output_type": "execute_result",
          "data": {
            "text/plain": [
              "0    9614\n",
              "1    6157\n",
              "2    1995\n",
              "3     830\n",
              "5     766\n",
              "4     394\n",
              "Name: target, dtype: int64"
            ]
          },
          "metadata": {},
          "execution_count": 6
        }
      ]
    },
    {
      "cell_type": "code",
      "execution_count": 7,
      "id": "658c2cc8",
      "metadata": {
        "id": "658c2cc8",
        "colab": {
          "base_uri": "https://localhost:8080/"
        },
        "outputId": "3bbeab28-966f-4df5-8066-ca8769fd4506"
      },
      "outputs": [
        {
          "output_type": "execute_result",
          "data": {
            "text/plain": [
              "((17780, 41), (1976, 41))"
            ]
          },
          "metadata": {},
          "execution_count": 7
        }
      ],
      "source": [
        "train, test = train_test_split(df, test_size=0.1, stratify=df['target'], random_state=0)\n",
        "\n",
        "X_train, y_train_orig = train.drop(columns=['time_in_shelter_days', 'target']), train['time_in_shelter_days']\n",
        "X_test, y_test_orig = test.drop(columns=['time_in_shelter_days', 'target']), test['time_in_shelter_days']\n",
        "\n",
        "y_train, y_test = bin_target(y_train_orig), bin_target(y_test_orig)\n",
        "X_train.shape, X_test.shape"
      ]
    },
    {
      "cell_type": "markdown",
      "id": "26b945ec",
      "metadata": {
        "id": "26b945ec"
      },
      "source": [
        "## GridSearch evaluation pipeline"
      ]
    },
    {
      "cell_type": "code",
      "execution_count": 15,
      "id": "6fa93920",
      "metadata": {
        "id": "6fa93920"
      },
      "outputs": [],
      "source": [
        "def rs_pipeline(clf, param_grid, X_train, y_train, X_test, y_test, metrics='precision_macro'):\n",
        "    cv = StratifiedKFold(n_splits=5)\n",
        "\n",
        "    clf_cv = GridSearchCV(clf, param_grid, scoring=metrics, cv=cv, verbose=3)\n",
        "    clf_cv.fit(X_train, y_train)\n",
        "\n",
        "    print(\"Best parameters:\", clf_cv.best_params_)\n",
        "    print(\"Best score:\", clf_cv.best_score_)\n",
        "    \n",
        "    print_report(y_test, clf_cv.predict(X_test), target_labels)\n",
        "    return clf_cv\n",
        "    # print(\"Uncomment rs_pipeline code, will take long time\")"
      ]
    },
    {
      "cell_type": "markdown",
      "id": "fc6be796",
      "metadata": {
        "id": "fc6be796"
      },
      "source": [
        "## Base model - imbalanced dataset - multiclass classification"
      ]
    },
    {
      "cell_type": "markdown",
      "id": "92f6fcb1",
      "metadata": {
        "id": "92f6fcb1"
      },
      "source": [
        "### Random Forest"
      ]
    },
    {
      "cell_type": "code",
      "source": [
        "# rf_params = {\n",
        "#     'n_estimators': [20, 50, 100, 150],\n",
        "#     'max_depth': [3, 5, 10],\n",
        "#     'min_samples_split': [2, 5],\n",
        "#     'min_samples_leaf': [1, 2],\n",
        "#     'bootstrap': [True, False]\n",
        "# }\n",
        "\n",
        "# rf = RandomForestClassifier(random_state=0)\n",
        "# best_rf = rs_pipeline(rf, rf_params, X_train, y_train, X_test, y_test)"
      ],
      "metadata": {
        "id": "gNDPKfy5Kyzx"
      },
      "id": "gNDPKfy5Kyzx",
      "execution_count": 8,
      "outputs": []
    },
    {
      "cell_type": "code",
      "source": [
        "# cats\n",
        "# rf_best_params = {'n_estimators': 70, 'min_samples_split': 2, 'min_samples_leaf': 2, 'max_depth': 10, 'bootstrap': True}\n",
        "# rf_best_params = {'n_estimators': 60, 'min_samples_split': 15, 'min_samples_leaf': 1, 'max_depth': 10, 'bootstrap': True}\n",
        "\n",
        "\n",
        "# dogs avg\n",
        "rf_best_params = {'n_estimators': 25, 'min_samples_split': 2, 'min_samples_leaf': 1, 'max_depth': 12, 'bootstrap': True}\n",
        "rf_best_params = {'n_estimators': 40, 'min_samples_split': 7, 'min_samples_leaf': 9, 'max_depth': 12, 'bootstrap': True}\n",
        "rf_best_params = {'n_estimators': 40, 'min_samples_split': 2, 'min_samples_leaf': 9, 'max_depth': 12, 'bootstrap': True}\n",
        "\n",
        "\n",
        "rf = RandomForestClassifier(**rf_best_params, random_state=0)\n",
        "fit_print(rf, X_train, y_train, X_test, y_test)"
      ],
      "metadata": {
        "colab": {
          "base_uri": "https://localhost:8080/"
        },
        "id": "GMOgxfJgaRZh",
        "outputId": "2f729d41-bc13-4163-f48f-dd882dc55643"
      },
      "id": "GMOgxfJgaRZh",
      "execution_count": 220,
      "outputs": [
        {
          "output_type": "stream",
          "name": "stdout",
          "text": [
            "              precision    recall  f1-score   support\n",
            "\n",
            "    0-7 days       0.69      0.80      0.74       962\n",
            "   7-30 days       0.42      0.54      0.47       616\n",
            "  30-60 days       0.63      0.16      0.26       199\n",
            "  60-90 days       0.80      0.05      0.09        83\n",
            " 90-120 days       0.00      0.00      0.00        39\n",
            "  > 120 days       0.50      0.01      0.03        77\n",
            "\n",
            "    accuracy                           0.58      1976\n",
            "   macro avg       0.51      0.26      0.26      1976\n",
            "weighted avg       0.58      0.58      0.54      1976\n",
            "\n"
          ]
        },
        {
          "output_type": "stream",
          "name": "stderr",
          "text": [
            "/usr/local/lib/python3.10/dist-packages/sklearn/metrics/_classification.py:1344: UndefinedMetricWarning: Precision and F-score are ill-defined and being set to 0.0 in labels with no predicted samples. Use `zero_division` parameter to control this behavior.\n",
            "  _warn_prf(average, modifier, msg_start, len(result))\n",
            "/usr/local/lib/python3.10/dist-packages/sklearn/metrics/_classification.py:1344: UndefinedMetricWarning: Precision and F-score are ill-defined and being set to 0.0 in labels with no predicted samples. Use `zero_division` parameter to control this behavior.\n",
            "  _warn_prf(average, modifier, msg_start, len(result))\n",
            "/usr/local/lib/python3.10/dist-packages/sklearn/metrics/_classification.py:1344: UndefinedMetricWarning: Precision and F-score are ill-defined and being set to 0.0 in labels with no predicted samples. Use `zero_division` parameter to control this behavior.\n",
            "  _warn_prf(average, modifier, msg_start, len(result))\n"
          ]
        }
      ]
    },
    {
      "cell_type": "markdown",
      "id": "c78a1288",
      "metadata": {
        "id": "c78a1288"
      },
      "source": [
        "### Gradient Boosting"
      ]
    },
    {
      "cell_type": "code",
      "execution_count": null,
      "id": "6ec781ed",
      "metadata": {
        "scrolled": true,
        "id": "6ec781ed"
      },
      "outputs": [],
      "source": [
        "# gb_params = {\n",
        "#     'learning_rate': [0.01, 0.05, 0.1],\n",
        "#     'n_estimators': [30, 40, 50, 60, 70, 100],\n",
        "#     'max_depth': [2, 4, 6, 8, 10],\n",
        "#     'min_samples_split': [2, 5, 8, 10],\n",
        "#     'min_samples_leaf': [1, 2],\n",
        "#     'subsample': [0.8]\n",
        "# }\n",
        "\n",
        "# gb = GradientBoostingClassifier(random_state=0)\n",
        "# best_gb = rs_pipeline(gb, gb_params, X_train, y_train, X_test, y_test)"
      ]
    },
    {
      "cell_type": "code",
      "execution_count": 233,
      "id": "3bcf6c98",
      "metadata": {
        "colab": {
          "base_uri": "https://localhost:8080/"
        },
        "id": "3bcf6c98",
        "outputId": "77553b29-f125-4509-f070-e86d321ab2d3"
      },
      "outputs": [
        {
          "output_type": "stream",
          "name": "stdout",
          "text": [
            "              precision    recall  f1-score   support\n",
            "\n",
            "    0-7 days       0.69      0.81      0.74       962\n",
            "   7-30 days       0.43      0.51      0.46       616\n",
            "  30-60 days       0.61      0.17      0.27       199\n",
            "  60-90 days       0.50      0.16      0.24        83\n",
            " 90-120 days       0.20      0.03      0.05        39\n",
            "  > 120 days       0.12      0.04      0.06        77\n",
            "\n",
            "    accuracy                           0.58      1976\n",
            "   macro avg       0.42      0.28      0.30      1976\n",
            "weighted avg       0.56      0.58      0.55      1976\n",
            "\n"
          ]
        }
      ],
      "source": [
        "# cats\n",
        "# gb_params = {'subsample': 0.8, 'n_estimators': 60, 'min_samples_split': 5, 'min_samples_leaf': 2, 'max_depth': 8, 'learning_rate': 0.01}\n",
        "\n",
        "# dogs\n",
        "gb_params = {'subsample': 0.8, 'n_estimators': 40, 'min_samples_split': 2, 'min_samples_leaf': 2, 'max_depth': 8, 'learning_rate': 0.05}\n",
        "gb_params = {'subsample': 0.8, 'n_estimators': 50, 'min_samples_split': 2, 'min_samples_leaf': 7, 'max_depth': 8, 'learning_rate': 0.05}\n",
        "\n",
        "gb = GradientBoostingClassifier(**gb_params, random_state=0)\n",
        "fit_print(gb, X_train, y_train, X_test, y_test)"
      ]
    },
    {
      "cell_type": "markdown",
      "id": "3b32cc14",
      "metadata": {
        "id": "3b32cc14"
      },
      "source": [
        "### XGBoost"
      ]
    },
    {
      "cell_type": "code",
      "execution_count": 12,
      "id": "e112dc43",
      "metadata": {
        "scrolled": true,
        "id": "e112dc43"
      },
      "outputs": [],
      "source": [
        "# xgb_params = {\n",
        "#     'learning_rate': [0.05, 0.1, 0.2],\n",
        "#     'n_estimators': [20, 50, 100],\n",
        "#     'max_depth': [3, 5, 10],\n",
        "#     'subsample': [0.8, 0.9, 1.0]\n",
        "# }\n",
        "\n",
        "# xgb = XGBClassifier(objective=\"multi:softprob\", random_state=0)\n",
        "# best_xgb = rs_pipeline(xgb, xgb_params, X_train, y_train, X_test, y_test)"
      ]
    },
    {
      "cell_type": "code",
      "source": [
        "# cats\n",
        "# xgb_params = {'subsample': 0.8, 'n_estimators': 50, 'max_depth': 8, 'learning_rate': 0.05}\n",
        "# xgb_params = {'subsample': 0.8, 'n_estimators': 100, 'max_depth': 10, 'learning_rate': 0.1}\n",
        "\n",
        "# dogs\n",
        "xgb_params = {'subsample': 0.8, 'n_estimators': 40, 'max_depth': 5, 'learning_rate': 0.05}\n",
        "\n",
        "xgb =  XGBClassifier(**xgb_params, objective=\"multi:softprob\", random_state=0)\n",
        "fit_print(xgb, X_train, y_train, X_test, y_test)"
      ],
      "metadata": {
        "colab": {
          "base_uri": "https://localhost:8080/"
        },
        "id": "Ro1hw702drnM",
        "outputId": "1aa16f7b-acb0-40fe-acb7-fbc684817c9b"
      },
      "id": "Ro1hw702drnM",
      "execution_count": 102,
      "outputs": [
        {
          "output_type": "stream",
          "name": "stdout",
          "text": [
            "              precision    recall  f1-score   support\n",
            "\n",
            "    0-7 days       0.68      0.83      0.75       962\n",
            "   7-30 days       0.41      0.49      0.45       616\n",
            "  30-60 days       0.75      0.14      0.23       199\n",
            "  60-90 days       0.72      0.16      0.26        83\n",
            " 90-120 days       0.00      0.00      0.00        39\n",
            "  > 120 days       0.50      0.01      0.03        77\n",
            "\n",
            "    accuracy                           0.58      1976\n",
            "   macro avg       0.51      0.27      0.28      1976\n",
            "weighted avg       0.58      0.58      0.54      1976\n",
            "\n"
          ]
        },
        {
          "output_type": "stream",
          "name": "stderr",
          "text": [
            "/usr/local/lib/python3.10/dist-packages/sklearn/metrics/_classification.py:1344: UndefinedMetricWarning: Precision and F-score are ill-defined and being set to 0.0 in labels with no predicted samples. Use `zero_division` parameter to control this behavior.\n",
            "  _warn_prf(average, modifier, msg_start, len(result))\n",
            "/usr/local/lib/python3.10/dist-packages/sklearn/metrics/_classification.py:1344: UndefinedMetricWarning: Precision and F-score are ill-defined and being set to 0.0 in labels with no predicted samples. Use `zero_division` parameter to control this behavior.\n",
            "  _warn_prf(average, modifier, msg_start, len(result))\n",
            "/usr/local/lib/python3.10/dist-packages/sklearn/metrics/_classification.py:1344: UndefinedMetricWarning: Precision and F-score are ill-defined and being set to 0.0 in labels with no predicted samples. Use `zero_division` parameter to control this behavior.\n",
            "  _warn_prf(average, modifier, msg_start, len(result))\n"
          ]
        }
      ]
    },
    {
      "cell_type": "markdown",
      "id": "593702a8",
      "metadata": {
        "id": "593702a8"
      },
      "source": [
        "### ANN"
      ]
    },
    {
      "cell_type": "code",
      "source": [
        "def train_val_test_prep(df):\n",
        "    train, test = train_test_split(df, test_size = 0.1, stratify=df['target'], random_state = 0)\n",
        "    train, val = train_test_split(train, test_size = 0.111, stratify=train['target'], random_state = 0)\n",
        "\n",
        "    return train, val, test"
      ],
      "metadata": {
        "id": "dKxWvsvPHHJJ"
      },
      "id": "dKxWvsvPHHJJ",
      "execution_count": 23,
      "outputs": []
    },
    {
      "cell_type": "code",
      "source": [
        "train, val, test = train_val_test_prep(df)\n",
        "\n",
        "X_train, y_train = train.drop(columns=['time_in_shelter_days', 'target']), train['target']\n",
        "X_val, y_val = val.drop(columns=['time_in_shelter_days', 'target']), val['target']\n",
        "X_test, y_test = test.drop(columns=['time_in_shelter_days', 'target']), test['target']\n",
        "\n",
        "X_train.shape, X_val.shape, X_test.shape, y_train.value_counts(),  y_val.value_counts(),  y_test.value_counts()"
      ],
      "metadata": {
        "colab": {
          "base_uri": "https://localhost:8080/"
        },
        "id": "DZ0qDOHgHkem",
        "outputId": "854f783a-6434-4b51-ce65-ebb2298cac68"
      },
      "id": "DZ0qDOHgHkem",
      "execution_count": 235,
      "outputs": [
        {
          "output_type": "execute_result",
          "data": {
            "text/plain": [
              "((15806, 41),\n",
              " (1974, 41),\n",
              " (1976, 41),\n",
              " 0    7691\n",
              " 1    4926\n",
              " 2    1597\n",
              " 3     664\n",
              " 5     612\n",
              " 4     316\n",
              " Name: target, dtype: int64,\n",
              " 0    961\n",
              " 1    615\n",
              " 2    199\n",
              " 3     83\n",
              " 5     77\n",
              " 4     39\n",
              " Name: target, dtype: int64,\n",
              " 0    962\n",
              " 1    616\n",
              " 2    199\n",
              " 3     83\n",
              " 5     77\n",
              " 4     39\n",
              " Name: target, dtype: int64)"
            ]
          },
          "metadata": {},
          "execution_count": 235
        }
      ]
    },
    {
      "cell_type": "code",
      "source": [
        "def ann_factory(metrics =['accuracy']):\n",
        "  ann = Sequential()\n",
        "  ann.add(Dense(64, input_shape=(X_train.shape[1], ), activation='relu', kernel_regularizer=l2(0.0001)))\n",
        "  ann.add(Dropout(0.5))\n",
        "  ann.add(Dense(32, input_shape=(X_train.shape[1], ), activation='relu', kernel_regularizer=l2(0.0001)))\n",
        "  ann.add(Dropout(0.5))\n",
        "  ann.add(Dense(len(bins) - 1, activation='softmax'))\n",
        "  ann.compile(optimizer='adam', loss='categorical_crossentropy', metrics=metrics)\n",
        "  return ann"
      ],
      "metadata": {
        "id": "5gwg-cJ8Eh69"
      },
      "id": "5gwg-cJ8Eh69",
      "execution_count": 246,
      "outputs": []
    },
    {
      "cell_type": "code",
      "execution_count": 247,
      "id": "c172d053",
      "metadata": {
        "scrolled": true,
        "colab": {
          "base_uri": "https://localhost:8080/",
          "height": 1000
        },
        "id": "c172d053",
        "outputId": "c8b17df2-65cb-44e7-80a6-458d1478e7ef"
      },
      "outputs": [
        {
          "output_type": "stream",
          "name": "stdout",
          "text": [
            "Epoch 1/200\n",
            "247/247 [==============================] - 3s 6ms/step - loss: 1.3986 - accuracy: 0.4460 - val_loss: 1.2293 - val_accuracy: 0.4985\n",
            "Epoch 2/200\n",
            "247/247 [==============================] - 1s 4ms/step - loss: 1.2745 - accuracy: 0.4872 - val_loss: 1.1989 - val_accuracy: 0.5020\n",
            "Epoch 3/200\n",
            "247/247 [==============================] - 1s 3ms/step - loss: 1.2380 - accuracy: 0.4995 - val_loss: 1.1863 - val_accuracy: 0.5137\n",
            "Epoch 4/200\n",
            "247/247 [==============================] - 1s 3ms/step - loss: 1.2168 - accuracy: 0.5139 - val_loss: 1.1752 - val_accuracy: 0.5177\n",
            "Epoch 5/200\n",
            "247/247 [==============================] - 1s 3ms/step - loss: 1.2015 - accuracy: 0.5213 - val_loss: 1.1645 - val_accuracy: 0.5319\n",
            "Epoch 6/200\n",
            "247/247 [==============================] - 1s 3ms/step - loss: 1.1939 - accuracy: 0.5251 - val_loss: 1.1589 - val_accuracy: 0.5294\n",
            "Epoch 7/200\n",
            "247/247 [==============================] - 1s 3ms/step - loss: 1.1847 - accuracy: 0.5313 - val_loss: 1.1551 - val_accuracy: 0.5380\n",
            "Epoch 8/200\n",
            "247/247 [==============================] - 1s 3ms/step - loss: 1.1771 - accuracy: 0.5340 - val_loss: 1.1476 - val_accuracy: 0.5451\n",
            "Epoch 9/200\n",
            "247/247 [==============================] - 1s 3ms/step - loss: 1.1675 - accuracy: 0.5372 - val_loss: 1.1454 - val_accuracy: 0.5420\n",
            "Epoch 10/200\n",
            "247/247 [==============================] - 1s 3ms/step - loss: 1.1679 - accuracy: 0.5417 - val_loss: 1.1420 - val_accuracy: 0.5441\n",
            "Epoch 11/200\n",
            "247/247 [==============================] - 1s 2ms/step - loss: 1.1618 - accuracy: 0.5435 - val_loss: 1.1431 - val_accuracy: 0.5491\n",
            "Epoch 12/200\n",
            "247/247 [==============================] - 1s 3ms/step - loss: 1.1596 - accuracy: 0.5423 - val_loss: 1.1417 - val_accuracy: 0.5491\n",
            "Epoch 13/200\n",
            "247/247 [==============================] - 1s 3ms/step - loss: 1.1574 - accuracy: 0.5433 - val_loss: 1.1355 - val_accuracy: 0.5476\n",
            "Epoch 14/200\n",
            "247/247 [==============================] - 1s 3ms/step - loss: 1.1546 - accuracy: 0.5441 - val_loss: 1.1359 - val_accuracy: 0.5512\n",
            "Epoch 15/200\n",
            "247/247 [==============================] - 1s 3ms/step - loss: 1.1537 - accuracy: 0.5478 - val_loss: 1.1323 - val_accuracy: 0.5486\n",
            "Epoch 16/200\n",
            "247/247 [==============================] - 1s 3ms/step - loss: 1.1493 - accuracy: 0.5491 - val_loss: 1.1333 - val_accuracy: 0.5466\n",
            "Epoch 17/200\n",
            "247/247 [==============================] - 1s 4ms/step - loss: 1.1481 - accuracy: 0.5488 - val_loss: 1.1349 - val_accuracy: 0.5456\n",
            "Epoch 18/200\n",
            "247/247 [==============================] - 1s 4ms/step - loss: 1.1465 - accuracy: 0.5485 - val_loss: 1.1308 - val_accuracy: 0.5486\n",
            "Epoch 19/200\n",
            "247/247 [==============================] - 1s 4ms/step - loss: 1.1440 - accuracy: 0.5474 - val_loss: 1.1293 - val_accuracy: 0.5496\n",
            "Epoch 20/200\n",
            "247/247 [==============================] - 1s 3ms/step - loss: 1.1387 - accuracy: 0.5498 - val_loss: 1.1266 - val_accuracy: 0.5517\n",
            "Epoch 21/200\n",
            "247/247 [==============================] - 1s 3ms/step - loss: 1.1374 - accuracy: 0.5511 - val_loss: 1.1267 - val_accuracy: 0.5496\n",
            "Epoch 22/200\n",
            "247/247 [==============================] - 1s 3ms/step - loss: 1.1372 - accuracy: 0.5509 - val_loss: 1.1266 - val_accuracy: 0.5471\n",
            "Epoch 23/200\n",
            "247/247 [==============================] - 1s 3ms/step - loss: 1.1383 - accuracy: 0.5543 - val_loss: 1.1258 - val_accuracy: 0.5537\n",
            "Epoch 24/200\n",
            "247/247 [==============================] - 1s 3ms/step - loss: 1.1355 - accuracy: 0.5540 - val_loss: 1.1272 - val_accuracy: 0.5491\n",
            "Epoch 25/200\n",
            "247/247 [==============================] - 1s 3ms/step - loss: 1.1368 - accuracy: 0.5519 - val_loss: 1.1227 - val_accuracy: 0.5517\n",
            "Epoch 26/200\n",
            "247/247 [==============================] - 1s 3ms/step - loss: 1.1347 - accuracy: 0.5528 - val_loss: 1.1262 - val_accuracy: 0.5512\n",
            "Epoch 27/200\n",
            "247/247 [==============================] - 1s 3ms/step - loss: 1.1343 - accuracy: 0.5547 - val_loss: 1.1243 - val_accuracy: 0.5486\n",
            "Epoch 28/200\n",
            "247/247 [==============================] - 1s 3ms/step - loss: 1.1337 - accuracy: 0.5537 - val_loss: 1.1220 - val_accuracy: 0.5502\n",
            "Epoch 29/200\n",
            "247/247 [==============================] - 1s 3ms/step - loss: 1.1312 - accuracy: 0.5501 - val_loss: 1.1221 - val_accuracy: 0.5481\n",
            "Epoch 30/200\n",
            "247/247 [==============================] - 1s 3ms/step - loss: 1.1293 - accuracy: 0.5538 - val_loss: 1.1242 - val_accuracy: 0.5486\n",
            "Epoch 31/200\n",
            "247/247 [==============================] - 1s 2ms/step - loss: 1.1280 - accuracy: 0.5519 - val_loss: 1.1223 - val_accuracy: 0.5502\n"
          ]
        },
        {
          "output_type": "display_data",
          "data": {
            "text/plain": [
              "<Figure size 640x480 with 1 Axes>"
            ],
            "image/png": "[encoded data removed]"
          },
          "metadata": {}
        },
        {
          "output_type": "stream",
          "name": "stdout",
          "text": [
            "62/62 [==============================] - 0s 1ms/step\n",
            "              precision    recall  f1-score   support\n",
            "\n",
            "           0       0.65      0.82      0.73       962\n",
            "           1       0.40      0.48      0.44       616\n",
            "           2       0.55      0.03      0.06       199\n",
            "           3       0.50      0.05      0.09        83\n",
            "           4       0.00      0.00      0.00        39\n",
            "           5       0.00      0.00      0.00        77\n",
            "\n",
            "    accuracy                           0.56      1976\n",
            "   macro avg       0.35      0.23      0.22      1976\n",
            "weighted avg       0.52      0.56      0.50      1976\n",
            "\n"
          ]
        },
        {
          "output_type": "stream",
          "name": "stderr",
          "text": [
            "/usr/local/lib/python3.10/dist-packages/sklearn/metrics/_classification.py:1344: UndefinedMetricWarning: Precision and F-score are ill-defined and being set to 0.0 in labels with no predicted samples. Use `zero_division` parameter to control this behavior.\n",
            "  _warn_prf(average, modifier, msg_start, len(result))\n",
            "/usr/local/lib/python3.10/dist-packages/sklearn/metrics/_classification.py:1344: UndefinedMetricWarning: Precision and F-score are ill-defined and being set to 0.0 in labels with no predicted samples. Use `zero_division` parameter to control this behavior.\n",
            "  _warn_prf(average, modifier, msg_start, len(result))\n",
            "/usr/local/lib/python3.10/dist-packages/sklearn/metrics/_classification.py:1344: UndefinedMetricWarning: Precision and F-score are ill-defined and being set to 0.0 in labels with no predicted samples. Use `zero_division` parameter to control this behavior.\n",
            "  _warn_prf(average, modifier, msg_start, len(result))\n"
          ]
        }
      ],
      "source": [
        "ann = ann_factory()\n",
        "hist = ann.fit(\n",
        "    X_train, to_categorical(y_train),\n",
        "    validation_data=(X_val, to_categorical(y_val)), \n",
        "    callbacks=[EarlyStopping(patience=3)],\n",
        "    epochs=200,\n",
        "    batch_size=64)\n",
        "plot_train_history(hist)\n",
        "print(classification_report(y_test, np.argmax(ann.predict(X_test), axis=-1)))"
      ]
    },
    {
      "cell_type": "markdown",
      "id": "093704d4",
      "metadata": {
        "id": "093704d4"
      },
      "source": [
        "## Cascading bins waterfall model"
      ]
    },
    {
      "cell_type": "code",
      "execution_count": 263,
      "id": "ad495832",
      "metadata": {
        "id": "ad495832"
      },
      "outputs": [],
      "source": [
        "import collections.abc\n",
        "\n",
        "def isMonotonicallyIncreasing(array):\n",
        "    a = np.array(array)\n",
        "    return np.all(a[:-1] < a[1:])\n",
        "    \n",
        "class CBWM:\n",
        "    def __init__(\n",
        "        self, \n",
        "        bins, \n",
        "        models = lambda : GradientBoostingClassifier(n_estimators=100, learning_rate=0.1, max_depth=5, random_state=0),\n",
        "    ):\n",
        "        if isinstance(bins, str) or not hasattr(bins, '__len__'):\n",
        "            raise TypeError('bins must be Sequence')\n",
        "        if len(bins) == 0:\n",
        "            raise ValueError('bins cannot be empty Sequence')\n",
        "        if not isMonotonicallyIncreasing(bins):\n",
        "            raise ValueError('bins must be monotonically increasing Sequence')\n",
        "        \n",
        "        self.bins = bins\n",
        "        \n",
        "        if not isinstance(models, str) and hasattr(models, '__len__'):\n",
        "            if (len(models) == len(self.bins) - 2):\n",
        "                self.models = models\n",
        "            else:\n",
        "                raise ValueError('len(models) == len(self.bins) - 2')\n",
        "        elif (callable(models)):\n",
        "            self.models = [models() for _ in range(len(self.bins) - 2)]\n",
        "        else:\n",
        "            raise TypeError('models must be Sequence or callable (model factory)')\n",
        "        \n",
        "        \n",
        "    def fit(self, X, y):\n",
        "        x_next = X\n",
        "        y_next = y\n",
        "        for bin_edge, model in zip(self.bins[1:-1], self.models):\n",
        "            y_bin = (y_next < bin_edge).astype(int)\n",
        "\n",
        "            model.fit(x_next, y_bin)\n",
        "            \n",
        "            next_idx = y_bin == 0\n",
        "            x_next = x_next[next_idx]\n",
        "            y_next = y_next[next_idx]\n",
        "            \n",
        "    def predict(self, X):\n",
        "        y_shape = (X.shape[0], )\n",
        "        y_pred = np.full(y_shape, 0, dtype=int)\n",
        "        \n",
        "        for idx, model in enumerate(self.models):\n",
        "            pred_not_done = y_pred == 0\n",
        "            if not pred_not_done.any():\n",
        "                break\n",
        "            pred_done = model.predict(X[pred_not_done]) == 1\n",
        "            y_pred[pred_not_done] = pred_done.astype(int) * (idx + 1)\n",
        "        \n",
        "        y_pred[y_pred==0] = len(self.models) + 1\n",
        "        \n",
        "        return y_pred - 1\n"
      ]
    },
    {
      "cell_type": "code",
      "execution_count": 264,
      "id": "38edea8e",
      "metadata": {
        "colab": {
          "base_uri": "https://localhost:8080/"
        },
        "id": "38edea8e",
        "outputId": "10154dd2-e258-459d-d873-0a2a9880e4c0"
      },
      "outputs": [
        {
          "output_type": "stream",
          "name": "stdout",
          "text": [
            "              precision    recall  f1-score   support\n",
            "\n",
            "    0-7 days       0.73      0.74      0.74       962\n",
            "   7-30 days       0.45      0.47      0.46       616\n",
            "  30-60 days       0.34      0.20      0.25       199\n",
            "  60-90 days       0.36      0.19      0.25        83\n",
            " 90-120 days       0.23      0.08      0.12        39\n",
            "  > 120 days       0.17      0.39      0.23        77\n",
            "\n",
            "    accuracy                           0.55      1976\n",
            "   macro avg       0.38      0.35      0.34      1976\n",
            "weighted avg       0.56      0.55      0.55      1976\n",
            "\n"
          ]
        }
      ],
      "source": [
        "cmwm = CBWM(bins)\n",
        "fit_print(cmwm, X_train, y_train_orig, X_test, y_test)"
      ]
    },
    {
      "cell_type": "code",
      "execution_count": 269,
      "id": "7edbfb27",
      "metadata": {
        "colab": {
          "base_uri": "https://localhost:8080/"
        },
        "id": "7edbfb27",
        "outputId": "1d70e88c-690a-4fcd-c437-253af0091819"
      },
      "outputs": [
        {
          "output_type": "stream",
          "name": "stdout",
          "text": [
            "              precision    recall  f1-score   support\n",
            "\n",
            "    0-7 days       0.73      0.74      0.74       962\n",
            "   7-30 days       0.45      0.48      0.46       616\n",
            "  30-60 days       0.37      0.21      0.27       199\n",
            "  60-90 days       0.35      0.18      0.24        83\n",
            " 90-120 days       0.00      0.00      0.00        39\n",
            "  > 120 days       0.16      0.35      0.22        77\n",
            "\n",
            "    accuracy                           0.55      1976\n",
            "   macro avg       0.34      0.33      0.32      1976\n",
            "weighted avg       0.55      0.55      0.55      1976\n",
            "\n"
          ]
        }
      ],
      "source": [
        "gb_t_params = {'subsample': 0.8, 'n_estimators': 60, 'min_samples_split': 5, 'min_samples_leaf': 2, 'max_depth': 8, 'learning_rate': 0.01}\n",
        "rf_t_params = {'n_estimators': 60, 'min_samples_split': 15, 'min_samples_leaf': 1, 'max_depth': 10, 'bootstrap': True}\n",
        "\n",
        "gb_t_params = {'subsample': 0.8, 'n_estimators': 60, 'min_samples_split': 5, 'min_samples_leaf': 2, 'max_depth': 8, 'learning_rate': 0.05}\n",
        "\n",
        "\n",
        "# models = [\n",
        "#     RandomForestClassifier(**rf_t_params, random_state=0),\n",
        "#     RandomForestClassifier(**rf_t_params, random_state=0),\n",
        "#     RandomForestClassifier(**rf_t_params, random_state=0),\n",
        "#     RandomForestClassifier(**rf_t_params, random_state=0),\n",
        "#     RandomForestClassifier(**rf_t_params, random_state=0),\n",
        "# ]\n",
        "\n",
        "cmwm = CBWM(bins, lambda: GradientBoostingClassifier(**gb_t_params, random_state=0))\n",
        "cmwm.fit(X_train, y_train_orig)\n",
        "print_report(y_test, cmwm.predict(X_test), target_labels)"
      ]
    },
    {
      "cell_type": "markdown",
      "id": "b3b5b75e",
      "metadata": {
        "id": "b3b5b75e"
      },
      "source": [
        "# SMOTE"
      ]
    },
    {
      "cell_type": "code",
      "execution_count": 8,
      "id": "93d72446",
      "metadata": {
        "id": "93d72446"
      },
      "outputs": [],
      "source": [
        "from imblearn.over_sampling import SMOTE"
      ]
    },
    {
      "cell_type": "code",
      "execution_count": 9,
      "id": "94150b26",
      "metadata": {
        "colab": {
          "base_uri": "https://localhost:8080/",
          "height": 464
        },
        "id": "94150b26",
        "outputId": "22d655d7-cd4b-4785-f60c-4004aa200009"
      },
      "outputs": [
        {
          "output_type": "execute_result",
          "data": {
            "text/plain": [
              "<Axes: title={'center': 'Class distribution before SMOTE'}>"
            ]
          },
          "metadata": {},
          "execution_count": 9
        },
        {
          "output_type": "display_data",
          "data": {
            "text/plain": [
              "<Figure size 640x480 with 1 Axes>"
            ],
            "image/png": "[encoded data removed]"
          },
          "metadata": {}
        }
      ],
      "source": [
        "pd.Series(y_train).value_counts().plot(kind='bar', title='Class distribution before SMOTE')"
      ]
    },
    {
      "cell_type": "code",
      "execution_count": 10,
      "id": "75e761f9",
      "metadata": {
        "colab": {
          "base_uri": "https://localhost:8080/",
          "height": 464
        },
        "id": "75e761f9",
        "outputId": "4a640f2d-b058-451b-858b-b957f70cee74"
      },
      "outputs": [
        {
          "output_type": "execute_result",
          "data": {
            "text/plain": [
              "<Axes: title={'center': 'Class distribution after appying SMOTE'}>"
            ]
          },
          "metadata": {},
          "execution_count": 10
        },
        {
          "output_type": "display_data",
          "data": {
            "text/plain": [
              "<Figure size 640x480 with 1 Axes>"
            ],
            "image/png": "[encoded data removed]"
          },
          "metadata": {}
        }
      ],
      "source": [
        "X_resampled, y_resampled = SMOTE(random_state=0).fit_resample(X_train, y_train)\n",
        "pd.Series(y_resampled).value_counts().plot(kind='bar', title='Class distribution after appying SMOTE')"
      ]
    },
    {
      "cell_type": "code",
      "execution_count": 11,
      "id": "3734d129",
      "metadata": {
        "colab": {
          "base_uri": "https://localhost:8080/"
        },
        "id": "3734d129",
        "outputId": "58911ead-c223-4b4a-9684-4510ccc2d0cd"
      },
      "outputs": [
        {
          "output_type": "stream",
          "name": "stdout",
          "text": [
            "              precision    recall  f1-score   support\n",
            "\n",
            "    0-7 days       0.68      0.79      0.73       962\n",
            "   7-30 days       0.45      0.33      0.38       616\n",
            "  30-60 days       0.37      0.21      0.26       199\n",
            "  60-90 days       0.39      0.16      0.22        83\n",
            " 90-120 days       0.03      0.05      0.04        39\n",
            "  > 120 days       0.16      0.39      0.22        77\n",
            "\n",
            "    accuracy                           0.53      1976\n",
            "   macro avg       0.35      0.32      0.31      1976\n",
            "weighted avg       0.53      0.53      0.52      1976\n",
            "\n"
          ]
        }
      ],
      "source": [
        "# cats\n",
        "rf_smote_params = {'n_estimators':40, 'min_samples_split': 3, 'min_samples_leaf': 1, 'max_depth': 15, 'bootstrap': True}\n",
        "\n",
        "# dogs\n",
        "rf_smote_params = {'n_estimators': 40, 'min_samples_split': 3, 'min_samples_leaf': 1, 'max_depth': 6, 'bootstrap': True}\n",
        "\n",
        "rf = RandomForestClassifier(**rf_smote_params, random_state=0)\n",
        "fit_print(rf, X_resampled, y_resampled, X_test, y_test)"
      ]
    },
    {
      "cell_type": "code",
      "execution_count": 16,
      "id": "8f28f662",
      "metadata": {
        "colab": {
          "base_uri": "https://localhost:8080/"
        },
        "id": "8f28f662",
        "outputId": "e02e1ac8-3b8e-4eb3-f415-11d04fa887b8"
      },
      "outputs": [
        {
          "output_type": "stream",
          "name": "stdout",
          "text": [
            "              precision    recall  f1-score   support\n",
            "\n",
            "    0-7 days       0.71      0.76      0.73       962\n",
            "   7-30 days       0.45      0.41      0.43       616\n",
            "  30-60 days       0.46      0.18      0.26       199\n",
            "  60-90 days       0.25      0.22      0.23        83\n",
            " 90-120 days       0.04      0.10      0.06        39\n",
            "  > 120 days       0.18      0.34      0.24        77\n",
            "\n",
            "    accuracy                           0.54      1976\n",
            "   macro avg       0.35      0.33      0.33      1976\n",
            "weighted avg       0.55      0.54      0.54      1976\n",
            "\n"
          ]
        }
      ],
      "source": [
        "# cats\n",
        "gb_smote_params = {'subsample': 1.0, 'n_estimators': 100, 'min_samples_split': 5, 'min_samples_leaf': 1, 'max_depth': 8, 'learning_rate': 0.1}\n",
        "# gb_smote_params = {'subsample': 0.8, 'n_estimators': 60, 'min_samples_split': 5, 'min_samples_leaf': 1, 'max_depth': 3, 'learning_rate': 0.05}\n",
        "\n",
        "# dogs\n",
        "gb_smote_params = {'subsample': 0.8, 'n_estimators': 50, 'min_samples_split': 5, 'min_samples_leaf': 1, 'max_depth': 4, 'learning_rate': 0.05}\n",
        "\n",
        "\n",
        "gb = GradientBoostingClassifier(**gb_smote_params, random_state=0)\n",
        "fit_print(gb, X_resampled, y_resampled, X_test, y_test)"
      ]
    },
    {
      "cell_type": "code",
      "execution_count": 21,
      "id": "aaa2516d",
      "metadata": {
        "colab": {
          "base_uri": "https://localhost:8080/"
        },
        "id": "aaa2516d",
        "outputId": "09041363-e1fb-484b-9151-e941218ea8bf"
      },
      "outputs": [
        {
          "output_type": "stream",
          "name": "stdout",
          "text": [
            "              precision    recall  f1-score   support\n",
            "\n",
            "    0-7 days       0.70      0.79      0.74       962\n",
            "   7-30 days       0.45      0.40      0.42       616\n",
            "  30-60 days       0.42      0.22      0.29       199\n",
            "  60-90 days       0.31      0.20      0.25        83\n",
            " 90-120 days       0.03      0.08      0.05        39\n",
            "  > 120 days       0.21      0.29      0.24        77\n",
            "\n",
            "    accuracy                           0.55      1976\n",
            "   macro avg       0.36      0.33      0.33      1976\n",
            "weighted avg       0.54      0.55      0.54      1976\n",
            "\n"
          ]
        }
      ],
      "source": [
        "xgb_smote_params = {'subsample': 0.8, 'n_estimators': 100, 'max_depth': 12, 'learning_rate': 0.1}\n",
        "xgb_smote_params = {'subsample': 0.8, 'n_estimators': 50, 'max_depth': 8, 'learning_rate': 0.1}\n",
        "\n",
        "xgb_smote_params = {'subsample': 1.0, 'n_estimators': 60, 'max_depth': 8, 'learning_rate': 0.05}\n",
        "\n",
        "xgb =  XGBClassifier(**xgb_smote_params, objective=\"multi:softprob\", random_state=0)\n",
        "fit_print(xgb, X_resampled, y_resampled, X_test, y_test)"
      ]
    },
    {
      "cell_type": "code",
      "source": [
        "train, val, test = train_val_test_prep(df)\n",
        "\n",
        "X_train, y_train = train.drop(columns=['time_in_shelter_days', 'target']), train['target']\n",
        "X_train, y_train = SMOTE(random_state=0).fit_resample(X_train, y_train)\n",
        "X_val, y_val = val.drop(columns=['time_in_shelter_days', 'target']), val['target']\n",
        "X_test, y_test = test.drop(columns=['time_in_shelter_days', 'target']), test['target']\n",
        "\n",
        "X_train.shape, X_val.shape, X_test.shape, y_train.value_counts(),  y_val.value_counts(),  y_test.value_counts()"
      ],
      "metadata": {
        "colab": {
          "base_uri": "https://localhost:8080/"
        },
        "outputId": "a03d1861-6983-4db3-dde2-caa60f5d11b1",
        "id": "PqJ_N-KWVjOl"
      },
      "execution_count": 24,
      "outputs": [
        {
          "output_type": "execute_result",
          "data": {
            "text/plain": [
              "((46146, 41),\n",
              " (1974, 41),\n",
              " (1976, 41),\n",
              " 1    7691\n",
              " 5    7691\n",
              " 0    7691\n",
              " 2    7691\n",
              " 3    7691\n",
              " 4    7691\n",
              " Name: target, dtype: int64,\n",
              " 0    961\n",
              " 1    615\n",
              " 2    199\n",
              " 3     83\n",
              " 5     77\n",
              " 4     39\n",
              " Name: target, dtype: int64,\n",
              " 0    962\n",
              " 1    616\n",
              " 2    199\n",
              " 3     83\n",
              " 5     77\n",
              " 4     39\n",
              " Name: target, dtype: int64)"
            ]
          },
          "metadata": {},
          "execution_count": 24
        }
      ],
      "id": "PqJ_N-KWVjOl"
    },
    {
      "cell_type": "code",
      "source": [
        "def ann_factory_smote(metrics =['accuracy']):\n",
        "  ann = Sequential()\n",
        "  ann.add(Dense(128, input_shape=(X_train.shape[1], ), activation='relu', kernel_regularizer=l2(0.0001)))\n",
        "  ann.add(Dropout(0.5))\n",
        "  ann.add(Dense(64, input_shape=(X_train.shape[1], ), activation='relu', kernel_regularizer=l2(0.0001)))\n",
        "  ann.add(Dropout(0.5))\n",
        "  ann.add(Dense(len(bins) - 1, activation='softmax'))\n",
        "  ann.compile(optimizer='adam', loss='categorical_crossentropy', metrics=metrics)\n",
        "  return ann"
      ],
      "metadata": {
        "id": "K-QdbmgaVjOm"
      },
      "execution_count": 31,
      "outputs": [],
      "id": "K-QdbmgaVjOm"
    },
    {
      "cell_type": "code",
      "execution_count": 32,
      "metadata": {
        "scrolled": true,
        "colab": {
          "base_uri": "https://localhost:8080/",
          "height": 943
        },
        "outputId": "f1befcb6-db47-42fa-bb3d-03e9487dcddd",
        "id": "jGDlMSiEVjOn"
      },
      "outputs": [
        {
          "output_type": "stream",
          "name": "stdout",
          "text": [
            "Epoch 1/200\n",
            "722/722 [==============================] - 3s 3ms/step - loss: 1.7029 - accuracy: 0.2642 - val_loss: 1.5120 - val_accuracy: 0.4174\n",
            "Epoch 2/200\n",
            "722/722 [==============================] - 2s 2ms/step - loss: 1.5976 - accuracy: 0.3319 - val_loss: 1.4728 - val_accuracy: 0.4149\n",
            "Epoch 3/200\n",
            "722/722 [==============================] - 2s 2ms/step - loss: 1.5623 - accuracy: 0.3517 - val_loss: 1.3856 - val_accuracy: 0.4463\n",
            "Epoch 4/200\n",
            "722/722 [==============================] - 2s 2ms/step - loss: 1.5376 - accuracy: 0.3685 - val_loss: 1.4102 - val_accuracy: 0.4529\n",
            "Epoch 5/200\n",
            "722/722 [==============================] - 2s 2ms/step - loss: 1.5150 - accuracy: 0.3814 - val_loss: 1.4195 - val_accuracy: 0.4448\n",
            "Epoch 6/200\n",
            "722/722 [==============================] - 2s 2ms/step - loss: 1.4988 - accuracy: 0.3921 - val_loss: 1.4443 - val_accuracy: 0.4433\n"
          ]
        },
        {
          "output_type": "display_data",
          "data": {
            "text/plain": [
              "<Figure size 640x480 with 1 Axes>"
            ],
            "image/png": "[encoded data removed]"
          },
          "metadata": {}
        },
        {
          "output_type": "stream",
          "name": "stdout",
          "text": [
            "62/62 [==============================] - 0s 1ms/step\n",
            "              precision    recall  f1-score   support\n",
            "\n",
            "           0       0.71      0.67      0.69       962\n",
            "           1       0.40      0.18      0.25       616\n",
            "           2       0.16      0.21      0.18       199\n",
            "           3       0.13      0.12      0.12        83\n",
            "           4       0.02      0.10      0.03        39\n",
            "           5       0.12      0.42      0.19        77\n",
            "\n",
            "    accuracy                           0.43      1976\n",
            "   macro avg       0.26      0.28      0.25      1976\n",
            "weighted avg       0.50      0.43      0.44      1976\n",
            "\n"
          ]
        }
      ],
      "source": [
        "ann = ann_factory_smote()\n",
        "hist = ann.fit(\n",
        "    X_train, to_categorical(y_train),\n",
        "    validation_data=(X_val, to_categorical(y_val)), \n",
        "    callbacks=[EarlyStopping(patience=3)],\n",
        "    epochs=200,\n",
        "    batch_size=64)\n",
        "plot_train_history(hist)\n",
        "print(classification_report(y_test, np.argmax(ann.predict(X_test), axis=-1)))"
      ],
      "id": "jGDlMSiEVjOn"
    }
  ],
  "metadata": {
    "kernelspec": {
      "display_name": "Python 3 (ipykernel)",
      "language": "python",
      "name": "python3"
    },
    "language_info": {
      "codemirror_mode": {
        "name": "ipython",
        "version": 3
      },
      "file_extension": ".py",
      "mimetype": "text/x-python",
      "name": "python",
      "nbconvert_exporter": "python",
      "pygments_lexer": "ipython3",
      "version": "3.9.12"
    },
    "colab": {
      "provenance": []
    },
    "gpuClass": "standard"
  },
  "nbformat": 4,
  "nbformat_minor": 5
}