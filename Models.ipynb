{
 "cells": [
  {
   "cell_type": "markdown",
   "id": "70411269",
   "metadata": {},
   "source": [
    "# Models"
   ]
  },
  {
   "cell_type": "code",
   "execution_count": 101,
   "id": "b1c19d20",
   "metadata": {},
   "outputs": [
    {
     "ename": "ImportError",
     "evalue": "cannot import name 'F1Score' from 'tensorflow.keras.metrics' (C:\\Users\\HedonisT\\anaconda3\\envs\\internship\\lib\\site-packages\\keras\\api\\_v2\\keras\\metrics\\__init__.py)",
     "output_type": "error",
     "traceback": [
      "\u001b[1;31m---------------------------------------------------------------------------\u001b[0m",
      "\u001b[1;31mImportError\u001b[0m                               Traceback (most recent call last)",
      "Input \u001b[1;32mIn [101]\u001b[0m, in \u001b[0;36m<cell line: 13>\u001b[1;34m()\u001b[0m\n\u001b[0;32m     11\u001b[0m \u001b[38;5;28;01mfrom\u001b[39;00m \u001b[38;5;21;01mtensorflow\u001b[39;00m\u001b[38;5;21;01m.\u001b[39;00m\u001b[38;5;21;01mkeras\u001b[39;00m\u001b[38;5;21;01m.\u001b[39;00m\u001b[38;5;21;01mlayers\u001b[39;00m \u001b[38;5;28;01mimport\u001b[39;00m Dense\n\u001b[0;32m     12\u001b[0m \u001b[38;5;28;01mfrom\u001b[39;00m \u001b[38;5;21;01mtensorflow\u001b[39;00m\u001b[38;5;21;01m.\u001b[39;00m\u001b[38;5;21;01mkeras\u001b[39;00m\u001b[38;5;21;01m.\u001b[39;00m\u001b[38;5;21;01mutils\u001b[39;00m \u001b[38;5;28;01mimport\u001b[39;00m to_categorical\n\u001b[1;32m---> 13\u001b[0m \u001b[38;5;28;01mfrom\u001b[39;00m \u001b[38;5;21;01mtensorflow\u001b[39;00m\u001b[38;5;21;01m.\u001b[39;00m\u001b[38;5;21;01mkeras\u001b[39;00m\u001b[38;5;21;01m.\u001b[39;00m\u001b[38;5;21;01mmetrics\u001b[39;00m \u001b[38;5;28;01mimport\u001b[39;00m F1Score\n\u001b[0;32m     15\u001b[0m \u001b[38;5;66;03m# eval utils\u001b[39;00m\n\u001b[0;32m     16\u001b[0m \u001b[38;5;28;01mfrom\u001b[39;00m \u001b[38;5;21;01msklearn\u001b[39;00m\u001b[38;5;21;01m.\u001b[39;00m\u001b[38;5;21;01mmodel_selection\u001b[39;00m \u001b[38;5;28;01mimport\u001b[39;00m train_test_split, cross_validate, StratifiedKFold, RandomizedSearchCV\n",
      "\u001b[1;31mImportError\u001b[0m: cannot import name 'F1Score' from 'tensorflow.keras.metrics' (C:\\Users\\HedonisT\\anaconda3\\envs\\internship\\lib\\site-packages\\keras\\api\\_v2\\keras\\metrics\\__init__.py)"
     ]
    }
   ],
   "source": [
    "import numpy as np\n",
    "import pandas as pd\n",
    "import matplotlib.pyplot as plt\n",
    "\n",
    "# models\n",
    "from sklearn.svm import SVC\n",
    "from sklearn.dummy import DummyClassifier\n",
    "from sklearn.ensemble import GradientBoostingClassifier, RandomForestClassifier\n",
    "from xgboost import XGBClassifier\n",
    "from tensorflow.keras.models import Sequential\n",
    "from tensorflow.keras.layers import Dense\n",
    "from tensorflow.keras.utils import to_categorical\n",
    "from tensorflow.keras.metrics import F1Score\n",
    "\n",
    "# eval utils\n",
    "from sklearn.model_selection import train_test_split, cross_validate, StratifiedKFold, RandomizedSearchCV\n",
    "from sklearn.metrics import classification_report, confusion_matrix, f1_score"
   ]
  },
  {
   "cell_type": "code",
   "execution_count": 61,
   "id": "31ce4430",
   "metadata": {
    "scrolled": false
   },
   "outputs": [
    {
     "data": {
      "text/html": [
       "<div>\n",
       "<style scoped>\n",
       "    .dataframe tbody tr th:only-of-type {\n",
       "        vertical-align: middle;\n",
       "    }\n",
       "\n",
       "    .dataframe tbody tr th {\n",
       "        vertical-align: top;\n",
       "    }\n",
       "\n",
       "    .dataframe thead th {\n",
       "        text-align: right;\n",
       "    }\n",
       "</style>\n",
       "<table border=\"1\" class=\"dataframe\">\n",
       "  <thead>\n",
       "    <tr style=\"text-align: right;\">\n",
       "      <th></th>\n",
       "      <th>age_upon_intake_years</th>\n",
       "      <th>time_in_shelter_days</th>\n",
       "      <th>intake_weekday_friday</th>\n",
       "      <th>intake_weekday_monday</th>\n",
       "      <th>intake_weekday_saturday</th>\n",
       "      <th>intake_weekday_sunday</th>\n",
       "      <th>intake_weekday_thursday</th>\n",
       "      <th>intake_weekday_tuesday</th>\n",
       "      <th>intake_weekday_wednesday</th>\n",
       "      <th>intake_month_1</th>\n",
       "      <th>...</th>\n",
       "      <th>intake_condition_nursing</th>\n",
       "      <th>intake_condition_other</th>\n",
       "      <th>intake_condition_pregnant</th>\n",
       "      <th>intake_condition_sick</th>\n",
       "      <th>sex_female</th>\n",
       "      <th>sex_male</th>\n",
       "      <th>reproductive_state_intake_intact</th>\n",
       "      <th>reproductive_state_intake_sterile</th>\n",
       "      <th>reproductive_state_outcome_intact</th>\n",
       "      <th>reproductive_state_outcome_sterile</th>\n",
       "    </tr>\n",
       "  </thead>\n",
       "  <tbody>\n",
       "    <tr>\n",
       "      <th>0</th>\n",
       "      <td>0.727273</td>\n",
       "      <td>3.897222</td>\n",
       "      <td>1</td>\n",
       "      <td>0</td>\n",
       "      <td>0</td>\n",
       "      <td>0</td>\n",
       "      <td>0</td>\n",
       "      <td>0</td>\n",
       "      <td>0</td>\n",
       "      <td>0</td>\n",
       "      <td>...</td>\n",
       "      <td>0</td>\n",
       "      <td>0</td>\n",
       "      <td>0</td>\n",
       "      <td>0</td>\n",
       "      <td>1</td>\n",
       "      <td>0</td>\n",
       "      <td>1</td>\n",
       "      <td>0</td>\n",
       "      <td>1</td>\n",
       "      <td>0</td>\n",
       "    </tr>\n",
       "    <tr>\n",
       "      <th>1</th>\n",
       "      <td>0.636364</td>\n",
       "      <td>14.120139</td>\n",
       "      <td>0</td>\n",
       "      <td>1</td>\n",
       "      <td>0</td>\n",
       "      <td>0</td>\n",
       "      <td>0</td>\n",
       "      <td>0</td>\n",
       "      <td>0</td>\n",
       "      <td>0</td>\n",
       "      <td>...</td>\n",
       "      <td>0</td>\n",
       "      <td>0</td>\n",
       "      <td>0</td>\n",
       "      <td>0</td>\n",
       "      <td>1</td>\n",
       "      <td>0</td>\n",
       "      <td>0</td>\n",
       "      <td>1</td>\n",
       "      <td>0</td>\n",
       "      <td>1</td>\n",
       "    </tr>\n",
       "    <tr>\n",
       "      <th>2</th>\n",
       "      <td>0.863636</td>\n",
       "      <td>0.067361</td>\n",
       "      <td>0</td>\n",
       "      <td>0</td>\n",
       "      <td>1</td>\n",
       "      <td>0</td>\n",
       "      <td>0</td>\n",
       "      <td>0</td>\n",
       "      <td>0</td>\n",
       "      <td>0</td>\n",
       "      <td>...</td>\n",
       "      <td>0</td>\n",
       "      <td>0</td>\n",
       "      <td>0</td>\n",
       "      <td>0</td>\n",
       "      <td>1</td>\n",
       "      <td>0</td>\n",
       "      <td>0</td>\n",
       "      <td>1</td>\n",
       "      <td>0</td>\n",
       "      <td>1</td>\n",
       "    </tr>\n",
       "    <tr>\n",
       "      <th>3</th>\n",
       "      <td>0.545455</td>\n",
       "      <td>0.200694</td>\n",
       "      <td>1</td>\n",
       "      <td>0</td>\n",
       "      <td>0</td>\n",
       "      <td>0</td>\n",
       "      <td>0</td>\n",
       "      <td>0</td>\n",
       "      <td>0</td>\n",
       "      <td>0</td>\n",
       "      <td>...</td>\n",
       "      <td>0</td>\n",
       "      <td>0</td>\n",
       "      <td>0</td>\n",
       "      <td>0</td>\n",
       "      <td>0</td>\n",
       "      <td>1</td>\n",
       "      <td>0</td>\n",
       "      <td>1</td>\n",
       "      <td>0</td>\n",
       "      <td>1</td>\n",
       "    </tr>\n",
       "    <tr>\n",
       "      <th>4</th>\n",
       "      <td>0.590909</td>\n",
       "      <td>4.804861</td>\n",
       "      <td>0</td>\n",
       "      <td>0</td>\n",
       "      <td>0</td>\n",
       "      <td>0</td>\n",
       "      <td>0</td>\n",
       "      <td>1</td>\n",
       "      <td>0</td>\n",
       "      <td>0</td>\n",
       "      <td>...</td>\n",
       "      <td>0</td>\n",
       "      <td>0</td>\n",
       "      <td>0</td>\n",
       "      <td>1</td>\n",
       "      <td>0</td>\n",
       "      <td>1</td>\n",
       "      <td>0</td>\n",
       "      <td>1</td>\n",
       "      <td>0</td>\n",
       "      <td>1</td>\n",
       "    </tr>\n",
       "  </tbody>\n",
       "</table>\n",
       "<p>5 rows × 39 columns</p>\n",
       "</div>"
      ],
      "text/plain": [
       "   age_upon_intake_years  time_in_shelter_days  intake_weekday_friday  \\\n",
       "0               0.727273              3.897222                      1   \n",
       "1               0.636364             14.120139                      0   \n",
       "2               0.863636              0.067361                      0   \n",
       "3               0.545455              0.200694                      1   \n",
       "4               0.590909              4.804861                      0   \n",
       "\n",
       "   intake_weekday_monday  intake_weekday_saturday  intake_weekday_sunday  \\\n",
       "0                      0                        0                      0   \n",
       "1                      1                        0                      0   \n",
       "2                      0                        1                      0   \n",
       "3                      0                        0                      0   \n",
       "4                      0                        0                      0   \n",
       "\n",
       "   intake_weekday_thursday  intake_weekday_tuesday  intake_weekday_wednesday  \\\n",
       "0                        0                       0                         0   \n",
       "1                        0                       0                         0   \n",
       "2                        0                       0                         0   \n",
       "3                        0                       0                         0   \n",
       "4                        0                       1                         0   \n",
       "\n",
       "   intake_month_1  ...  intake_condition_nursing  intake_condition_other  \\\n",
       "0               0  ...                         0                       0   \n",
       "1               0  ...                         0                       0   \n",
       "2               0  ...                         0                       0   \n",
       "3               0  ...                         0                       0   \n",
       "4               0  ...                         0                       0   \n",
       "\n",
       "   intake_condition_pregnant  intake_condition_sick  sex_female  sex_male  \\\n",
       "0                          0                      0           1         0   \n",
       "1                          0                      0           1         0   \n",
       "2                          0                      0           1         0   \n",
       "3                          0                      0           0         1   \n",
       "4                          0                      1           0         1   \n",
       "\n",
       "   reproductive_state_intake_intact  reproductive_state_intake_sterile  \\\n",
       "0                                 1                                  0   \n",
       "1                                 0                                  1   \n",
       "2                                 0                                  1   \n",
       "3                                 0                                  1   \n",
       "4                                 0                                  1   \n",
       "\n",
       "   reproductive_state_outcome_intact  reproductive_state_outcome_sterile  \n",
       "0                                  1                                   0  \n",
       "1                                  0                                   1  \n",
       "2                                  0                                   1  \n",
       "3                                  0                                   1  \n",
       "4                                  0                                   1  \n",
       "\n",
       "[5 rows x 39 columns]"
      ]
     },
     "execution_count": 61,
     "metadata": {},
     "output_type": "execute_result"
    }
   ],
   "source": [
    "df = pd.read_csv('data/cats-no-breed-info.csv').drop(columns=['id', 'breed', 'color'])\n",
    "df.head()"
   ]
  },
  {
   "cell_type": "code",
   "execution_count": 62,
   "id": "94eae4d7",
   "metadata": {},
   "outputs": [],
   "source": [
    "def get_time_period_labels_from_bins(bins):\n",
    "    n_bins = len(bins)\n",
    "    labels = []\n",
    "    for i in range(n_bins - 1):\n",
    "        label = f'{bins[i]}-{bins[i+1]} days' if i != n_bins - 2 else f'> {bins[i]} days'\n",
    "        labels.append(label)\n",
    "    return labels\n",
    "    \n",
    "def print_report(y_true, y_pred, target_names):\n",
    "    print(classification_report(y_true, y_pred, target_names=target_names))\n",
    "    print(confusion_matrix(y_true, y_pred))"
   ]
  },
  {
   "cell_type": "code",
   "execution_count": 63,
   "id": "239512fc",
   "metadata": {},
   "outputs": [],
   "source": [
    "bins = (0, 7, 30, 60, 90, 120, df['time_in_shelter_days'].max() + 1)\n",
    "\n",
    "def bin_target(target):\n",
    "    return np.digitize(target, bins) - 1"
   ]
  },
  {
   "cell_type": "code",
   "execution_count": 64,
   "id": "226f1c56",
   "metadata": {},
   "outputs": [
    {
     "data": {
      "text/plain": [
       "['0-7 days',\n",
       " '7-30 days',\n",
       " '30-60 days',\n",
       " '60-90 days',\n",
       " '90-120 days',\n",
       " '> 120 days']"
      ]
     },
     "execution_count": 64,
     "metadata": {},
     "output_type": "execute_result"
    }
   ],
   "source": [
    "target_labels = get_time_period_labels_from_bins(bins)\n",
    "target_labels"
   ]
  },
  {
   "cell_type": "code",
   "execution_count": 65,
   "id": "658c2cc8",
   "metadata": {},
   "outputs": [],
   "source": [
    "df['target'] = bin_target(df['time_in_shelter_days'])\n",
    "train, test = train_test_split(df, test_size=0.1, stratify=df['target'], random_state=0)\n",
    "\n",
    "X_train, y_train_orig = train.drop(columns=['time_in_shelter_days', 'target']), train['time_in_shelter_days']\n",
    "X_test, y_test_orig = test.drop(columns=['time_in_shelter_days', 'target']), test['time_in_shelter_days']\n",
    "\n",
    "y_train, y_test = bin_target(y_train_orig), bin_target(y_test_orig)"
   ]
  },
  {
   "cell_type": "markdown",
   "id": "26b945ec",
   "metadata": {},
   "source": [
    "## Random search evaluation pipeline"
   ]
  },
  {
   "cell_type": "code",
   "execution_count": 66,
   "id": "6fa93920",
   "metadata": {},
   "outputs": [],
   "source": [
    "def rs_pipeline(clf, param_grid, X_train, y_train, X_test, y_test, metrics='f1_macro'):\n",
    "    cv = StratifiedKFold(n_splits=10)\n",
    "\n",
    "    clf_cv = RandomizedSearchCV(clf, param_grid, scoring=metrics, cv=cv, verbose=3)\n",
    "    clf_cv.fit(X_train, y_train)\n",
    "\n",
    "    print(\"Best parameters:\", clf_cv.best_params_)\n",
    "    print(\"Best score:\", clf_cv.best_score_)\n",
    "    \n",
    "    print_report(y_test, clf_cv.predict(X_test), target_labels)\n",
    "    return clf_cv"
   ]
  },
  {
   "cell_type": "markdown",
   "id": "4279c648",
   "metadata": {},
   "source": [
    "## Cross validate pipeline"
   ]
  },
  {
   "cell_type": "code",
   "execution_count": 78,
   "id": "b2327800",
   "metadata": {},
   "outputs": [],
   "source": [
    "def cv_pipeline(clf, X_train, y_train, metrics=['f1_macro']):\n",
    "    cv = StratifiedKFold(n_splits=10)\n",
    "\n",
    "    clf_cv = cross_validate(clf, X_train, y_train, scoring=metrics, cv=cv, verbose=3)\n",
    "\n",
    "    for metric in metrics:\n",
    "        print(f\"AVG TEST {metric}: {np.mean(clf_cv[f'test_{metric}'])}\")\n",
    "        \n",
    "    print_report(y_test, clf.predict(X_test), target_labels)"
   ]
  },
  {
   "cell_type": "markdown",
   "id": "fc6be796",
   "metadata": {},
   "source": [
    "## Base model - imbalanced dataset - simple multiclass classification"
   ]
  },
  {
   "cell_type": "markdown",
   "id": "92f6fcb1",
   "metadata": {},
   "source": [
    "### Random Forest"
   ]
  },
  {
   "cell_type": "code",
   "execution_count": 57,
   "id": "69291b31",
   "metadata": {
    "scrolled": true
   },
   "outputs": [
    {
     "name": "stderr",
     "output_type": "stream",
     "text": [
      "[Parallel(n_jobs=1)]: Using backend SequentialBackend with 1 concurrent workers.\n"
     ]
    },
    {
     "name": "stdout",
     "output_type": "stream",
     "text": [
      "[CV] END ............................. f1_macro: (test=0.317) total time=   3.9s\n"
     ]
    },
    {
     "name": "stderr",
     "output_type": "stream",
     "text": [
      "[Parallel(n_jobs=1)]: Done   1 out of   1 | elapsed:    3.9s remaining:    0.0s\n"
     ]
    },
    {
     "name": "stdout",
     "output_type": "stream",
     "text": [
      "[CV] END ............................. f1_macro: (test=0.315) total time=   3.7s\n"
     ]
    },
    {
     "name": "stderr",
     "output_type": "stream",
     "text": [
      "[Parallel(n_jobs=1)]: Done   2 out of   2 | elapsed:    7.7s remaining:    0.0s\n"
     ]
    },
    {
     "name": "stdout",
     "output_type": "stream",
     "text": [
      "[CV] END ............................. f1_macro: (test=0.298) total time=   3.6s\n",
      "[CV] END ............................. f1_macro: (test=0.315) total time=   3.6s\n",
      "[CV] END ............................. f1_macro: (test=0.310) total time=   3.6s\n",
      "[CV] END ............................. f1_macro: (test=0.303) total time=   3.9s\n",
      "[CV] END ............................. f1_macro: (test=0.314) total time=   3.7s\n",
      "[CV] END ............................. f1_macro: (test=0.325) total time=   3.8s\n",
      "[CV] END ............................. f1_macro: (test=0.318) total time=   3.9s\n",
      "[CV] END ............................. f1_macro: (test=0.309) total time=   3.7s\n",
      "AVG TEST f1_macro: 0.3124845555406547\n"
     ]
    },
    {
     "name": "stderr",
     "output_type": "stream",
     "text": [
      "[Parallel(n_jobs=1)]: Done  10 out of  10 | elapsed:   38.3s finished\n"
     ]
    }
   ],
   "source": [
    "# rf_params = {\n",
    "#     'n_estimators': [20, 50, 100, 150],\n",
    "#     'max_depth': [3, 5, 10],\n",
    "#     'min_samples_split': [2, 5],\n",
    "#     'min_samples_leaf': [1, 2],\n",
    "#     'bootstrap': [True, False]\n",
    "# }\n",
    "\n",
    "# rf = RandomForestClassifier(random_state=0)\n",
    "# best_rf = rs_pipeline(rf, rf_params, X_train, y_train, X_test, y_test)\n",
    "\n",
    "best_rf = RandomForestClassifier(**{'n_estimators': 150, 'min_samples_split': 5, 'min_samples_leaf': 1, 'max_depth': 10, 'bootstrap': True}, random_state=0)\n",
    "cv_pipeline(best_rf, X_train, y_train)"
   ]
  },
  {
   "cell_type": "markdown",
   "id": "c78a1288",
   "metadata": {},
   "source": [
    "### Gradient Boosting"
   ]
  },
  {
   "cell_type": "code",
   "execution_count": 70,
   "id": "6ec781ed",
   "metadata": {
    "scrolled": true
   },
   "outputs": [
    {
     "name": "stderr",
     "output_type": "stream",
     "text": [
      "[Parallel(n_jobs=1)]: Using backend SequentialBackend with 1 concurrent workers.\n"
     ]
    },
    {
     "name": "stdout",
     "output_type": "stream",
     "text": [
      "[CV] END ............................. f1_macro: (test=0.406) total time= 1.7min\n"
     ]
    },
    {
     "name": "stderr",
     "output_type": "stream",
     "text": [
      "[Parallel(n_jobs=1)]: Done   1 out of   1 | elapsed:  1.7min remaining:    0.0s\n"
     ]
    },
    {
     "name": "stdout",
     "output_type": "stream",
     "text": [
      "[CV] END ............................. f1_macro: (test=0.427) total time= 1.6min\n"
     ]
    },
    {
     "name": "stderr",
     "output_type": "stream",
     "text": [
      "[Parallel(n_jobs=1)]: Done   2 out of   2 | elapsed:  3.3min remaining:    0.0s\n"
     ]
    },
    {
     "name": "stdout",
     "output_type": "stream",
     "text": [
      "[CV] END ............................. f1_macro: (test=0.383) total time= 1.6min\n",
      "[CV] END ............................. f1_macro: (test=0.397) total time= 1.6min\n",
      "[CV] END ............................. f1_macro: (test=0.428) total time= 1.7min\n",
      "[CV] END ............................. f1_macro: (test=0.408) total time= 1.8min\n",
      "[CV] END ............................. f1_macro: (test=0.378) total time= 1.9min\n",
      "[CV] END ............................. f1_macro: (test=0.411) total time= 2.2min\n",
      "[CV] END ............................. f1_macro: (test=0.397) total time= 2.0min\n",
      "[CV] END ............................. f1_macro: (test=0.428) total time= 1.9min\n",
      "AVG TEST f1_macro: 0.40628044948439346\n"
     ]
    },
    {
     "name": "stderr",
     "output_type": "stream",
     "text": [
      "[Parallel(n_jobs=1)]: Done  10 out of  10 | elapsed: 18.0min finished\n"
     ]
    }
   ],
   "source": [
    "# gb_params = {\n",
    "#     'learning_rate': [0.05, 0.1, 0.2],\n",
    "#     'n_estimators': [20, 50, 100],\n",
    "#     'max_depth': [3, 5, 10],\n",
    "#     'min_samples_split': [2, 5],\n",
    "#     'min_samples_leaf': [1, 2],\n",
    "#     'subsample': [0.8, 0.9, 1.0]\n",
    "# }\n",
    "\n",
    "# gb = GradientBoostingClassifier(random_state=0)\n",
    "# best_gb = rs_pipeline(gb, gb_params, X_train, y_train, X_test, y_test)"
   ]
  },
  {
   "cell_type": "code",
   "execution_count": null,
   "id": "b79fb2d1",
   "metadata": {},
   "outputs": [],
   "source": [
    "best_gb = GradientBoostingClassifier(learning_rate=0.05, max_depth=10, min_samples_leaf=2, min_samples_split=2, n_estimators=100, subsample=0.8, random_state=0)\n",
    "cv_pipeline(best_gb, X_train, y_train)"
   ]
  },
  {
   "cell_type": "markdown",
   "id": "3b32cc14",
   "metadata": {},
   "source": [
    "### XGBoost"
   ]
  },
  {
   "cell_type": "code",
   "execution_count": 76,
   "id": "1dc3ec98",
   "metadata": {
    "scrolled": true
   },
   "outputs": [
    {
     "ename": "TypeError",
     "evalue": "__init__() got an unexpected keyword argument 'subsample'",
     "output_type": "error",
     "traceback": [
      "\u001b[1;31m---------------------------------------------------------------------------\u001b[0m",
      "\u001b[1;31mTypeError\u001b[0m                                 Traceback (most recent call last)",
      "Input \u001b[1;32mIn [76]\u001b[0m, in \u001b[0;36m<cell line: 12>\u001b[1;34m()\u001b[0m\n\u001b[0;32m      1\u001b[0m \u001b[38;5;66;03m# xgb_params = {\u001b[39;00m\n\u001b[0;32m      2\u001b[0m \u001b[38;5;66;03m#     'learning_rate': [0.05, 0.1, 0.2],\u001b[39;00m\n\u001b[0;32m      3\u001b[0m \u001b[38;5;66;03m#     'n_estimators': [20, 50, 100],\u001b[39;00m\n\u001b[1;32m   (...)\u001b[0m\n\u001b[0;32m      8\u001b[0m \u001b[38;5;66;03m# xgb = XGBClassifier(objective=\"multi:softprob\", random_state=0)\u001b[39;00m\n\u001b[0;32m      9\u001b[0m \u001b[38;5;66;03m# best_xgb = pipeline(xgb, xgb_params, X_train, y_train, X_test, y_test)\u001b[39;00m\n\u001b[1;32m---> 12\u001b[0m best_xgb \u001b[38;5;241m=\u001b[39m RandomForestClassifier(\u001b[38;5;241m*\u001b[39m\u001b[38;5;241m*\u001b[39m{\u001b[38;5;124m'\u001b[39m\u001b[38;5;124msubsample\u001b[39m\u001b[38;5;124m'\u001b[39m: \u001b[38;5;241m1.0\u001b[39m, \u001b[38;5;124m'\u001b[39m\u001b[38;5;124mn_estimators\u001b[39m\u001b[38;5;124m'\u001b[39m: \u001b[38;5;241m100\u001b[39m, \u001b[38;5;124m'\u001b[39m\u001b[38;5;124mmax_depth\u001b[39m\u001b[38;5;124m'\u001b[39m: \u001b[38;5;241m10\u001b[39m, \u001b[38;5;124m'\u001b[39m\u001b[38;5;124mlearning_rate\u001b[39m\u001b[38;5;124m'\u001b[39m: \u001b[38;5;241m0.2\u001b[39m}, random_state\u001b[38;5;241m=\u001b[39m\u001b[38;5;241m0\u001b[39m)\n\u001b[0;32m     13\u001b[0m cv_pipeline(best_xgb, X_train, y_train)\n",
      "\u001b[1;31mTypeError\u001b[0m: __init__() got an unexpected keyword argument 'subsample'"
     ]
    }
   ],
   "source": [
    "# xgb_params = {\n",
    "#     'learning_rate': [0.05, 0.1, 0.2],\n",
    "#     'n_estimators': [20, 50, 100],\n",
    "#     'max_depth': [3, 5, 10],\n",
    "#     'subsample': [0.8, 0.9, 1.0]\n",
    "# }\n",
    "\n",
    "# xgb = XGBClassifier(objective=\"multi:softprob\", random_state=0)\n",
    "# best_xgb = pipeline(xgb, xgb_params, X_train, y_train, X_test, y_test)"
   ]
  },
  {
   "cell_type": "code",
   "execution_count": 77,
   "id": "b134e7d5",
   "metadata": {},
   "outputs": [
    {
     "name": "stderr",
     "output_type": "stream",
     "text": [
      "[Parallel(n_jobs=1)]: Using backend SequentialBackend with 1 concurrent workers.\n"
     ]
    },
    {
     "name": "stdout",
     "output_type": "stream",
     "text": [
      "[CV] END ............................. f1_macro: (test=0.415) total time=  21.7s\n"
     ]
    },
    {
     "name": "stderr",
     "output_type": "stream",
     "text": [
      "[Parallel(n_jobs=1)]: Done   1 out of   1 | elapsed:   21.7s remaining:    0.0s\n"
     ]
    },
    {
     "name": "stdout",
     "output_type": "stream",
     "text": [
      "[CV] END ............................. f1_macro: (test=0.425) total time=  28.4s\n"
     ]
    },
    {
     "name": "stderr",
     "output_type": "stream",
     "text": [
      "[Parallel(n_jobs=1)]: Done   2 out of   2 | elapsed:   50.2s remaining:    0.0s\n"
     ]
    },
    {
     "name": "stdout",
     "output_type": "stream",
     "text": [
      "[CV] END ............................. f1_macro: (test=0.375) total time=  23.5s\n",
      "[CV] END ............................. f1_macro: (test=0.392) total time=  23.0s\n",
      "[CV] END ............................. f1_macro: (test=0.421) total time=  24.8s\n",
      "[CV] END ............................. f1_macro: (test=0.398) total time=  23.0s\n",
      "[CV] END ............................. f1_macro: (test=0.384) total time=  22.8s\n",
      "[CV] END ............................. f1_macro: (test=0.423) total time=  23.3s\n",
      "[CV] END ............................. f1_macro: (test=0.406) total time=  22.6s\n",
      "[CV] END ............................. f1_macro: (test=0.411) total time=  23.9s\n",
      "AVG TEST f1_macro: 0.4049888673443176\n"
     ]
    },
    {
     "name": "stderr",
     "output_type": "stream",
     "text": [
      "[Parallel(n_jobs=1)]: Done  10 out of  10 | elapsed:  4.0min finished\n"
     ]
    },
    {
     "ename": "AttributeError",
     "evalue": "'dict' object has no attribute 'predict'",
     "output_type": "error",
     "traceback": [
      "\u001b[1;31m---------------------------------------------------------------------------\u001b[0m",
      "\u001b[1;31mAttributeError\u001b[0m                            Traceback (most recent call last)",
      "Input \u001b[1;32mIn [77]\u001b[0m, in \u001b[0;36m<cell line: 2>\u001b[1;34m()\u001b[0m\n\u001b[0;32m      1\u001b[0m best_xgb \u001b[38;5;241m=\u001b[39m  XGBClassifier(\u001b[38;5;241m*\u001b[39m\u001b[38;5;241m*\u001b[39m{\u001b[38;5;124m'\u001b[39m\u001b[38;5;124msubsample\u001b[39m\u001b[38;5;124m'\u001b[39m: \u001b[38;5;241m1.0\u001b[39m, \u001b[38;5;124m'\u001b[39m\u001b[38;5;124mn_estimators\u001b[39m\u001b[38;5;124m'\u001b[39m: \u001b[38;5;241m100\u001b[39m, \u001b[38;5;124m'\u001b[39m\u001b[38;5;124mmax_depth\u001b[39m\u001b[38;5;124m'\u001b[39m: \u001b[38;5;241m10\u001b[39m, \u001b[38;5;124m'\u001b[39m\u001b[38;5;124mlearning_rate\u001b[39m\u001b[38;5;124m'\u001b[39m: \u001b[38;5;241m0.2\u001b[39m}, random_state\u001b[38;5;241m=\u001b[39m\u001b[38;5;241m0\u001b[39m)\n\u001b[1;32m----> 2\u001b[0m \u001b[43mcv_pipeline\u001b[49m\u001b[43m(\u001b[49m\u001b[43mbest_xgb\u001b[49m\u001b[43m,\u001b[49m\u001b[43m \u001b[49m\u001b[43mX_train\u001b[49m\u001b[43m,\u001b[49m\u001b[43m \u001b[49m\u001b[43my_train\u001b[49m\u001b[43m)\u001b[49m\n",
      "Input \u001b[1;32mIn [75]\u001b[0m, in \u001b[0;36mcv_pipeline\u001b[1;34m(clf, X_train, y_train, metrics)\u001b[0m\n\u001b[0;32m      6\u001b[0m \u001b[38;5;28;01mfor\u001b[39;00m metric \u001b[38;5;129;01min\u001b[39;00m metrics:\n\u001b[0;32m      7\u001b[0m     \u001b[38;5;28mprint\u001b[39m(\u001b[38;5;124mf\u001b[39m\u001b[38;5;124m\"\u001b[39m\u001b[38;5;124mAVG TEST \u001b[39m\u001b[38;5;132;01m{\u001b[39;00mmetric\u001b[38;5;132;01m}\u001b[39;00m\u001b[38;5;124m: \u001b[39m\u001b[38;5;132;01m{\u001b[39;00mnp\u001b[38;5;241m.\u001b[39mmean(clf_cv[\u001b[38;5;124mf\u001b[39m\u001b[38;5;124m'\u001b[39m\u001b[38;5;124mtest_\u001b[39m\u001b[38;5;132;01m{\u001b[39;00mmetric\u001b[38;5;132;01m}\u001b[39;00m\u001b[38;5;124m'\u001b[39m])\u001b[38;5;132;01m}\u001b[39;00m\u001b[38;5;124m\"\u001b[39m)\n\u001b[1;32m----> 9\u001b[0m print_report(y_test, \u001b[43mclf_cv\u001b[49m\u001b[38;5;241;43m.\u001b[39;49m\u001b[43mpredict\u001b[49m(X_test), target_labels)\n",
      "\u001b[1;31mAttributeError\u001b[0m: 'dict' object has no attribute 'predict'"
     ]
    }
   ],
   "source": [
    "best_xgb =  XGBClassifier(**{'subsample': 1.0, 'n_estimators': 100, 'max_depth': 10, 'learning_rate': 0.2}, random_state=0)\n",
    "cv_pipeline(best_xgb, X_train, y_train)"
   ]
  },
  {
   "cell_type": "markdown",
   "id": "593702a8",
   "metadata": {},
   "source": [
    "### ANN"
   ]
  },
  {
   "cell_type": "code",
   "execution_count": 114,
   "id": "7453b1d4",
   "metadata": {},
   "outputs": [],
   "source": [
    "ann = Sequential()\n",
    "ann.add(Dense(20, input_shape=(X_train.shape[1], ), activation='relu'))\n",
    "ann.add(Dense(10, activation='relu'))\n",
    "ann.add(Dense(len(bins) - 1, activation='softmax'))"
   ]
  },
  {
   "cell_type": "code",
   "execution_count": 115,
   "id": "8f7c9baa",
   "metadata": {},
   "outputs": [],
   "source": [
    "def f1_macro(y_true, y_pred):\n",
    "    y_true = np.argmax(y_true.numpy(), axis=-1)\n",
    "    y_pred = np.argmax(y_pred.numpy(), axis=-1)\n",
    "    return f1_score(y_true, y_pred, average=\"macro\")"
   ]
  },
  {
   "cell_type": "code",
   "execution_count": 116,
   "id": "45f0f361",
   "metadata": {},
   "outputs": [],
   "source": [
    "ann.compile(optimizer='adam', loss='categorical_crossentropy', metrics=[f1_macro], run_eagerly=True)"
   ]
  },
  {
   "cell_type": "code",
   "execution_count": 109,
   "id": "6a73df84",
   "metadata": {},
   "outputs": [],
   "source": [
    "# keeping ratio 0.8, 0.1, 0.1 - train, validation, test\n",
    "ratio_train = 0.8\n",
    "ratio_val = 0.1\n",
    "ratio_test = 0.1\n",
    "\n",
    "# Adjusts val ratio, w.r.t. remaining dataset.\n",
    "ratio_remaining = 1 - ratio_test\n",
    "ratio_val_adjusted = ratio_val / ratio_remaining"
   ]
  },
  {
   "cell_type": "code",
   "execution_count": 119,
   "id": "c172d053",
   "metadata": {
    "scrolled": true
   },
   "outputs": [
    {
     "name": "stdout",
     "output_type": "stream",
     "text": [
      "Epoch 1/150\n",
      "  14/2364 [..............................] - ETA: 9:33 - loss: 1.3484 - f1_macro: 0.20"
     ]
    },
    {
     "ename": "KeyboardInterrupt",
     "evalue": "",
     "output_type": "error",
     "traceback": [
      "\u001b[1;31m---------------------------------------------------------------------------\u001b[0m",
      "\u001b[1;31mKeyboardInterrupt\u001b[0m                         Traceback (most recent call last)",
      "Input \u001b[1;32mIn [119]\u001b[0m, in \u001b[0;36m<cell line: 1>\u001b[1;34m()\u001b[0m\n\u001b[1;32m----> 1\u001b[0m hist \u001b[38;5;241m=\u001b[39m \u001b[43mann\u001b[49m\u001b[38;5;241;43m.\u001b[39;49m\u001b[43mfit\u001b[49m\u001b[43m(\u001b[49m\u001b[43mX_train\u001b[49m\u001b[43m,\u001b[49m\u001b[43m \u001b[49m\u001b[43mto_categorical\u001b[49m\u001b[43m(\u001b[49m\u001b[43my_train\u001b[49m\u001b[43m)\u001b[49m\u001b[43m,\u001b[49m\u001b[43m \u001b[49m\u001b[43mepochs\u001b[49m\u001b[38;5;241;43m=\u001b[39;49m\u001b[38;5;241;43m150\u001b[39;49m\u001b[43m,\u001b[49m\u001b[43m \u001b[49m\u001b[43mbatch_size\u001b[49m\u001b[38;5;241;43m=\u001b[39;49m\u001b[38;5;241;43m10\u001b[39;49m\u001b[43m,\u001b[49m\u001b[43m \u001b[49m\u001b[43mvalidation_split\u001b[49m\u001b[38;5;241;43m=\u001b[39;49m\u001b[43mratio_val_adjusted\u001b[49m\u001b[43m)\u001b[49m\n",
      "File \u001b[1;32m~\\anaconda3\\envs\\internship\\lib\\site-packages\\keras\\engine\\training.py:1189\u001b[0m, in \u001b[0;36mModel.fit\u001b[1;34m(self, x, y, batch_size, epochs, verbose, callbacks, validation_split, validation_data, shuffle, class_weight, sample_weight, initial_epoch, steps_per_epoch, validation_steps, validation_batch_size, validation_freq, max_queue_size, workers, use_multiprocessing)\u001b[0m\n\u001b[0;32m   1187\u001b[0m logs \u001b[38;5;241m=\u001b[39m tmp_logs  \u001b[38;5;66;03m# No error, now safe to assign to logs.\u001b[39;00m\n\u001b[0;32m   1188\u001b[0m end_step \u001b[38;5;241m=\u001b[39m step \u001b[38;5;241m+\u001b[39m data_handler\u001b[38;5;241m.\u001b[39mstep_increment\n\u001b[1;32m-> 1189\u001b[0m \u001b[43mcallbacks\u001b[49m\u001b[38;5;241;43m.\u001b[39;49m\u001b[43mon_train_batch_end\u001b[49m\u001b[43m(\u001b[49m\u001b[43mend_step\u001b[49m\u001b[43m,\u001b[49m\u001b[43m \u001b[49m\u001b[43mlogs\u001b[49m\u001b[43m)\u001b[49m\n\u001b[0;32m   1190\u001b[0m \u001b[38;5;28;01mif\u001b[39;00m \u001b[38;5;28mself\u001b[39m\u001b[38;5;241m.\u001b[39mstop_training:\n\u001b[0;32m   1191\u001b[0m   \u001b[38;5;28;01mbreak\u001b[39;00m\n",
      "File \u001b[1;32m~\\anaconda3\\envs\\internship\\lib\\site-packages\\keras\\callbacks.py:435\u001b[0m, in \u001b[0;36mCallbackList.on_train_batch_end\u001b[1;34m(self, batch, logs)\u001b[0m\n\u001b[0;32m    428\u001b[0m \u001b[38;5;124;03m\"\"\"Calls the `on_train_batch_end` methods of its callbacks.\u001b[39;00m\n\u001b[0;32m    429\u001b[0m \n\u001b[0;32m    430\u001b[0m \u001b[38;5;124;03mArgs:\u001b[39;00m\n\u001b[0;32m    431\u001b[0m \u001b[38;5;124;03m    batch: Integer, index of batch within the current epoch.\u001b[39;00m\n\u001b[0;32m    432\u001b[0m \u001b[38;5;124;03m    logs: Dict. Aggregated metric results up until this batch.\u001b[39;00m\n\u001b[0;32m    433\u001b[0m \u001b[38;5;124;03m\"\"\"\u001b[39;00m\n\u001b[0;32m    434\u001b[0m \u001b[38;5;28;01mif\u001b[39;00m \u001b[38;5;28mself\u001b[39m\u001b[38;5;241m.\u001b[39m_should_call_train_batch_hooks:\n\u001b[1;32m--> 435\u001b[0m   \u001b[38;5;28;43mself\u001b[39;49m\u001b[38;5;241;43m.\u001b[39;49m\u001b[43m_call_batch_hook\u001b[49m\u001b[43m(\u001b[49m\u001b[43mModeKeys\u001b[49m\u001b[38;5;241;43m.\u001b[39;49m\u001b[43mTRAIN\u001b[49m\u001b[43m,\u001b[49m\u001b[43m \u001b[49m\u001b[38;5;124;43m'\u001b[39;49m\u001b[38;5;124;43mend\u001b[39;49m\u001b[38;5;124;43m'\u001b[39;49m\u001b[43m,\u001b[49m\u001b[43m \u001b[49m\u001b[43mbatch\u001b[49m\u001b[43m,\u001b[49m\u001b[43m \u001b[49m\u001b[43mlogs\u001b[49m\u001b[38;5;241;43m=\u001b[39;49m\u001b[43mlogs\u001b[49m\u001b[43m)\u001b[49m\n",
      "File \u001b[1;32m~\\anaconda3\\envs\\internship\\lib\\site-packages\\keras\\callbacks.py:295\u001b[0m, in \u001b[0;36mCallbackList._call_batch_hook\u001b[1;34m(self, mode, hook, batch, logs)\u001b[0m\n\u001b[0;32m    293\u001b[0m   \u001b[38;5;28mself\u001b[39m\u001b[38;5;241m.\u001b[39m_call_batch_begin_hook(mode, batch, logs)\n\u001b[0;32m    294\u001b[0m \u001b[38;5;28;01melif\u001b[39;00m hook \u001b[38;5;241m==\u001b[39m \u001b[38;5;124m'\u001b[39m\u001b[38;5;124mend\u001b[39m\u001b[38;5;124m'\u001b[39m:\n\u001b[1;32m--> 295\u001b[0m   \u001b[38;5;28;43mself\u001b[39;49m\u001b[38;5;241;43m.\u001b[39;49m\u001b[43m_call_batch_end_hook\u001b[49m\u001b[43m(\u001b[49m\u001b[43mmode\u001b[49m\u001b[43m,\u001b[49m\u001b[43m \u001b[49m\u001b[43mbatch\u001b[49m\u001b[43m,\u001b[49m\u001b[43m \u001b[49m\u001b[43mlogs\u001b[49m\u001b[43m)\u001b[49m\n\u001b[0;32m    296\u001b[0m \u001b[38;5;28;01melse\u001b[39;00m:\n\u001b[0;32m    297\u001b[0m   \u001b[38;5;28;01mraise\u001b[39;00m \u001b[38;5;167;01mValueError\u001b[39;00m(\u001b[38;5;124m'\u001b[39m\u001b[38;5;124mUnrecognized hook: \u001b[39m\u001b[38;5;132;01m{}\u001b[39;00m\u001b[38;5;124m'\u001b[39m\u001b[38;5;241m.\u001b[39mformat(hook))\n",
      "File \u001b[1;32m~\\anaconda3\\envs\\internship\\lib\\site-packages\\keras\\callbacks.py:315\u001b[0m, in \u001b[0;36mCallbackList._call_batch_end_hook\u001b[1;34m(self, mode, batch, logs)\u001b[0m\n\u001b[0;32m    312\u001b[0m   batch_time \u001b[38;5;241m=\u001b[39m time\u001b[38;5;241m.\u001b[39mtime() \u001b[38;5;241m-\u001b[39m \u001b[38;5;28mself\u001b[39m\u001b[38;5;241m.\u001b[39m_batch_start_time\n\u001b[0;32m    313\u001b[0m   \u001b[38;5;28mself\u001b[39m\u001b[38;5;241m.\u001b[39m_batch_times\u001b[38;5;241m.\u001b[39mappend(batch_time)\n\u001b[1;32m--> 315\u001b[0m \u001b[38;5;28;43mself\u001b[39;49m\u001b[38;5;241;43m.\u001b[39;49m\u001b[43m_call_batch_hook_helper\u001b[49m\u001b[43m(\u001b[49m\u001b[43mhook_name\u001b[49m\u001b[43m,\u001b[49m\u001b[43m \u001b[49m\u001b[43mbatch\u001b[49m\u001b[43m,\u001b[49m\u001b[43m \u001b[49m\u001b[43mlogs\u001b[49m\u001b[43m)\u001b[49m\n\u001b[0;32m    317\u001b[0m \u001b[38;5;28;01mif\u001b[39;00m \u001b[38;5;28mlen\u001b[39m(\u001b[38;5;28mself\u001b[39m\u001b[38;5;241m.\u001b[39m_batch_times) \u001b[38;5;241m>\u001b[39m\u001b[38;5;241m=\u001b[39m \u001b[38;5;28mself\u001b[39m\u001b[38;5;241m.\u001b[39m_num_batches_for_timing_check:\n\u001b[0;32m    318\u001b[0m   end_hook_name \u001b[38;5;241m=\u001b[39m hook_name\n",
      "File \u001b[1;32m~\\anaconda3\\envs\\internship\\lib\\site-packages\\keras\\callbacks.py:353\u001b[0m, in \u001b[0;36mCallbackList._call_batch_hook_helper\u001b[1;34m(self, hook_name, batch, logs)\u001b[0m\n\u001b[0;32m    351\u001b[0m \u001b[38;5;28;01mfor\u001b[39;00m callback \u001b[38;5;129;01min\u001b[39;00m \u001b[38;5;28mself\u001b[39m\u001b[38;5;241m.\u001b[39mcallbacks:\n\u001b[0;32m    352\u001b[0m   hook \u001b[38;5;241m=\u001b[39m \u001b[38;5;28mgetattr\u001b[39m(callback, hook_name)\n\u001b[1;32m--> 353\u001b[0m   \u001b[43mhook\u001b[49m\u001b[43m(\u001b[49m\u001b[43mbatch\u001b[49m\u001b[43m,\u001b[49m\u001b[43m \u001b[49m\u001b[43mlogs\u001b[49m\u001b[43m)\u001b[49m\n\u001b[0;32m    355\u001b[0m \u001b[38;5;28;01mif\u001b[39;00m \u001b[38;5;28mself\u001b[39m\u001b[38;5;241m.\u001b[39m_check_timing:\n\u001b[0;32m    356\u001b[0m   \u001b[38;5;28;01mif\u001b[39;00m hook_name \u001b[38;5;129;01mnot\u001b[39;00m \u001b[38;5;129;01min\u001b[39;00m \u001b[38;5;28mself\u001b[39m\u001b[38;5;241m.\u001b[39m_hook_times:\n",
      "File \u001b[1;32m~\\anaconda3\\envs\\internship\\lib\\site-packages\\keras\\callbacks.py:1028\u001b[0m, in \u001b[0;36mProgbarLogger.on_train_batch_end\u001b[1;34m(self, batch, logs)\u001b[0m\n\u001b[0;32m   1027\u001b[0m \u001b[38;5;28;01mdef\u001b[39;00m \u001b[38;5;21mon_train_batch_end\u001b[39m(\u001b[38;5;28mself\u001b[39m, batch, logs\u001b[38;5;241m=\u001b[39m\u001b[38;5;28;01mNone\u001b[39;00m):\n\u001b[1;32m-> 1028\u001b[0m   \u001b[38;5;28;43mself\u001b[39;49m\u001b[38;5;241;43m.\u001b[39;49m\u001b[43m_batch_update_progbar\u001b[49m\u001b[43m(\u001b[49m\u001b[43mbatch\u001b[49m\u001b[43m,\u001b[49m\u001b[43m \u001b[49m\u001b[43mlogs\u001b[49m\u001b[43m)\u001b[49m\n",
      "File \u001b[1;32m~\\anaconda3\\envs\\internship\\lib\\site-packages\\keras\\callbacks.py:1101\u001b[0m, in \u001b[0;36mProgbarLogger._batch_update_progbar\u001b[1;34m(self, batch, logs)\u001b[0m\n\u001b[0;32m   1098\u001b[0m \u001b[38;5;28;01mif\u001b[39;00m \u001b[38;5;28mself\u001b[39m\u001b[38;5;241m.\u001b[39mverbose \u001b[38;5;241m==\u001b[39m \u001b[38;5;241m1\u001b[39m:\n\u001b[0;32m   1099\u001b[0m   \u001b[38;5;66;03m# Only block async when verbose = 1.\u001b[39;00m\n\u001b[0;32m   1100\u001b[0m   logs \u001b[38;5;241m=\u001b[39m tf_utils\u001b[38;5;241m.\u001b[39msync_to_numpy_or_python_type(logs)\n\u001b[1;32m-> 1101\u001b[0m   \u001b[38;5;28;43mself\u001b[39;49m\u001b[38;5;241;43m.\u001b[39;49m\u001b[43mprogbar\u001b[49m\u001b[38;5;241;43m.\u001b[39;49m\u001b[43mupdate\u001b[49m\u001b[43m(\u001b[49m\u001b[38;5;28;43mself\u001b[39;49m\u001b[38;5;241;43m.\u001b[39;49m\u001b[43mseen\u001b[49m\u001b[43m,\u001b[49m\u001b[43m \u001b[49m\u001b[38;5;28;43mlist\u001b[39;49m\u001b[43m(\u001b[49m\u001b[43mlogs\u001b[49m\u001b[38;5;241;43m.\u001b[39;49m\u001b[43mitems\u001b[49m\u001b[43m(\u001b[49m\u001b[43m)\u001b[49m\u001b[43m)\u001b[49m\u001b[43m,\u001b[49m\u001b[43m \u001b[49m\u001b[43mfinalize\u001b[49m\u001b[38;5;241;43m=\u001b[39;49m\u001b[38;5;28;43;01mFalse\u001b[39;49;00m\u001b[43m)\u001b[49m\n",
      "File \u001b[1;32m~\\anaconda3\\envs\\internship\\lib\\site-packages\\keras\\utils\\generic_utils.py:909\u001b[0m, in \u001b[0;36mProgbar.update\u001b[1;34m(self, current, values, finalize)\u001b[0m\n\u001b[0;32m    907\u001b[0m prev_total_width \u001b[38;5;241m=\u001b[39m \u001b[38;5;28mself\u001b[39m\u001b[38;5;241m.\u001b[39m_total_width\n\u001b[0;32m    908\u001b[0m \u001b[38;5;28;01mif\u001b[39;00m \u001b[38;5;28mself\u001b[39m\u001b[38;5;241m.\u001b[39m_dynamic_display:\n\u001b[1;32m--> 909\u001b[0m   \u001b[43msys\u001b[49m\u001b[38;5;241;43m.\u001b[39;49m\u001b[43mstdout\u001b[49m\u001b[38;5;241;43m.\u001b[39;49m\u001b[43mwrite\u001b[49m\u001b[43m(\u001b[49m\u001b[38;5;124;43m'\u001b[39;49m\u001b[38;5;130;43;01m\\b\u001b[39;49;00m\u001b[38;5;124;43m'\u001b[39;49m\u001b[43m \u001b[49m\u001b[38;5;241;43m*\u001b[39;49m\u001b[43m \u001b[49m\u001b[43mprev_total_width\u001b[49m\u001b[43m)\u001b[49m\n\u001b[0;32m    910\u001b[0m   sys\u001b[38;5;241m.\u001b[39mstdout\u001b[38;5;241m.\u001b[39mwrite(\u001b[38;5;124m'\u001b[39m\u001b[38;5;130;01m\\r\u001b[39;00m\u001b[38;5;124m'\u001b[39m)\n\u001b[0;32m    911\u001b[0m \u001b[38;5;28;01melse\u001b[39;00m:\n",
      "File \u001b[1;32m~\\anaconda3\\envs\\internship\\lib\\site-packages\\ipykernel\\iostream.py:562\u001b[0m, in \u001b[0;36mOutStream.write\u001b[1;34m(self, string)\u001b[0m\n\u001b[0;32m    560\u001b[0m         \u001b[38;5;28mself\u001b[39m\u001b[38;5;241m.\u001b[39mpub_thread\u001b[38;5;241m.\u001b[39mschedule(\u001b[38;5;28mself\u001b[39m\u001b[38;5;241m.\u001b[39m_flush)\n\u001b[0;32m    561\u001b[0m     \u001b[38;5;28;01melse\u001b[39;00m:\n\u001b[1;32m--> 562\u001b[0m         \u001b[38;5;28;43mself\u001b[39;49m\u001b[38;5;241;43m.\u001b[39;49m\u001b[43m_schedule_flush\u001b[49m\u001b[43m(\u001b[49m\u001b[43m)\u001b[49m\n\u001b[0;32m    564\u001b[0m \u001b[38;5;28;01mreturn\u001b[39;00m \u001b[38;5;28mlen\u001b[39m(string)\n",
      "File \u001b[1;32m~\\anaconda3\\envs\\internship\\lib\\site-packages\\ipykernel\\iostream.py:468\u001b[0m, in \u001b[0;36mOutStream._schedule_flush\u001b[1;34m(self)\u001b[0m\n\u001b[0;32m    465\u001b[0m \u001b[38;5;28;01mdef\u001b[39;00m \u001b[38;5;21m_schedule_in_thread\u001b[39m():\n\u001b[0;32m    466\u001b[0m     \u001b[38;5;28mself\u001b[39m\u001b[38;5;241m.\u001b[39m_io_loop\u001b[38;5;241m.\u001b[39mcall_later(\u001b[38;5;28mself\u001b[39m\u001b[38;5;241m.\u001b[39mflush_interval, \u001b[38;5;28mself\u001b[39m\u001b[38;5;241m.\u001b[39m_flush)\n\u001b[1;32m--> 468\u001b[0m \u001b[38;5;28;43mself\u001b[39;49m\u001b[38;5;241;43m.\u001b[39;49m\u001b[43mpub_thread\u001b[49m\u001b[38;5;241;43m.\u001b[39;49m\u001b[43mschedule\u001b[49m\u001b[43m(\u001b[49m\u001b[43m_schedule_in_thread\u001b[49m\u001b[43m)\u001b[49m\n",
      "File \u001b[1;32m~\\anaconda3\\envs\\internship\\lib\\site-packages\\ipykernel\\iostream.py:217\u001b[0m, in \u001b[0;36mIOPubThread.schedule\u001b[1;34m(self, f)\u001b[0m\n\u001b[0;32m    215\u001b[0m     \u001b[38;5;28mself\u001b[39m\u001b[38;5;241m.\u001b[39m_events\u001b[38;5;241m.\u001b[39mappend(f)\n\u001b[0;32m    216\u001b[0m     \u001b[38;5;66;03m# wake event thread (message content is ignored)\u001b[39;00m\n\u001b[1;32m--> 217\u001b[0m     \u001b[38;5;28;43mself\u001b[39;49m\u001b[38;5;241;43m.\u001b[39;49m\u001b[43m_event_pipe\u001b[49m\u001b[38;5;241;43m.\u001b[39;49m\u001b[43msend\u001b[49m\u001b[43m(\u001b[49m\u001b[38;5;124;43mb\u001b[39;49m\u001b[38;5;124;43m\"\u001b[39;49m\u001b[38;5;124;43m\"\u001b[39;49m\u001b[43m)\u001b[49m\n\u001b[0;32m    218\u001b[0m \u001b[38;5;28;01melse\u001b[39;00m:\n\u001b[0;32m    219\u001b[0m     f()\n",
      "File \u001b[1;32m~\\anaconda3\\envs\\internship\\lib\\site-packages\\zmq\\sugar\\socket.py:547\u001b[0m, in \u001b[0;36mSocket.send\u001b[1;34m(self, data, flags, copy, track, routing_id, group)\u001b[0m\n\u001b[0;32m    540\u001b[0m         data \u001b[38;5;241m=\u001b[39m zmq\u001b[38;5;241m.\u001b[39mFrame(\n\u001b[0;32m    541\u001b[0m             data,\n\u001b[0;32m    542\u001b[0m             track\u001b[38;5;241m=\u001b[39mtrack,\n\u001b[0;32m    543\u001b[0m             copy\u001b[38;5;241m=\u001b[39mcopy \u001b[38;5;129;01mor\u001b[39;00m \u001b[38;5;28;01mNone\u001b[39;00m,\n\u001b[0;32m    544\u001b[0m             copy_threshold\u001b[38;5;241m=\u001b[39m\u001b[38;5;28mself\u001b[39m\u001b[38;5;241m.\u001b[39mcopy_threshold,\n\u001b[0;32m    545\u001b[0m         )\n\u001b[0;32m    546\u001b[0m     data\u001b[38;5;241m.\u001b[39mgroup \u001b[38;5;241m=\u001b[39m group\n\u001b[1;32m--> 547\u001b[0m \u001b[38;5;28;01mreturn\u001b[39;00m \u001b[38;5;28;43msuper\u001b[39;49m\u001b[43m(\u001b[49m\u001b[43mSocket\u001b[49m\u001b[43m,\u001b[49m\u001b[43m \u001b[49m\u001b[38;5;28;43mself\u001b[39;49m\u001b[43m)\u001b[49m\u001b[38;5;241;43m.\u001b[39;49m\u001b[43msend\u001b[49m\u001b[43m(\u001b[49m\u001b[43mdata\u001b[49m\u001b[43m,\u001b[49m\u001b[43m \u001b[49m\u001b[43mflags\u001b[49m\u001b[38;5;241;43m=\u001b[39;49m\u001b[43mflags\u001b[49m\u001b[43m,\u001b[49m\u001b[43m \u001b[49m\u001b[43mcopy\u001b[49m\u001b[38;5;241;43m=\u001b[39;49m\u001b[43mcopy\u001b[49m\u001b[43m,\u001b[49m\u001b[43m \u001b[49m\u001b[43mtrack\u001b[49m\u001b[38;5;241;43m=\u001b[39;49m\u001b[43mtrack\u001b[49m\u001b[43m)\u001b[49m\n",
      "File \u001b[1;32mzmq\\backend\\cython\\socket.pyx:718\u001b[0m, in \u001b[0;36mzmq.backend.cython.socket.Socket.send\u001b[1;34m()\u001b[0m\n",
      "File \u001b[1;32mzmq\\backend\\cython\\socket.pyx:765\u001b[0m, in \u001b[0;36mzmq.backend.cython.socket.Socket.send\u001b[1;34m()\u001b[0m\n",
      "File \u001b[1;32mzmq\\backend\\cython\\socket.pyx:242\u001b[0m, in \u001b[0;36mzmq.backend.cython.socket._send_copy\u001b[1;34m()\u001b[0m\n",
      "File \u001b[1;32m~\\anaconda3\\envs\\internship\\lib\\site-packages\\zmq\\backend\\cython\\checkrc.pxd:13\u001b[0m, in \u001b[0;36mzmq.backend.cython.checkrc._check_rc\u001b[1;34m()\u001b[0m\n",
      "\u001b[1;31mKeyboardInterrupt\u001b[0m: "
     ]
    }
   ],
   "source": [
    "hist = ann.fit(X_train, to_categorical(y_train), epochs=150, batch_size=10, validation_split=ratio_val_adjusted)"
   ]
  },
  {
   "cell_type": "code",
   "execution_count": 78,
   "id": "8345c7c8",
   "metadata": {
    "scrolled": false
   },
   "outputs": [
    {
     "data": {
      "image/png": "[encoded data removed]",
      "text/plain": [
       "<Figure size 432x288 with 1 Axes>"
      ]
     },
     "metadata": {
      "needs_background": "light"
     },
     "output_type": "display_data"
    }
   ],
   "source": [
    "plt.plot(hist.history['f1_macro'], 'o--', label='Training f1_macro')\n",
    "plt.plot(hist.history['val_f1_macro'], '-', label='Validation f1_macro')\n",
    "\n",
    "# add axis labels and title\n",
    "plt.xlabel('Epochs')\n",
    "plt.ylabel('f1_macro')\n",
    "plt.title('Training and Validation Accuracy')\n",
    "\n",
    "# add legend\n",
    "plt.legend()\n",
    "\n",
    "# show the plot\n",
    "plt.show()"
   ]
  },
  {
   "cell_type": "code",
   "execution_count": 112,
   "id": "5e299e4b",
   "metadata": {},
   "outputs": [
    {
     "name": "stdout",
     "output_type": "stream",
     "text": [
      "              precision    recall  f1-score   support\n",
      "\n",
      "    0-7 days       0.73      0.82      0.77      1591\n",
      "   7-30 days       0.39      0.28      0.33       711\n",
      "  30-60 days       0.34      0.59      0.43       386\n",
      "  60-90 days       0.00      0.00      0.00       154\n",
      " 90-120 days       0.00      0.00      0.00        53\n",
      "  > 120 days       0.00      0.00      0.00        59\n",
      "\n",
      "    accuracy                           0.59      2954\n",
      "   macro avg       0.24      0.28      0.26      2954\n",
      "weighted avg       0.53      0.59      0.55      2954\n",
      "\n",
      "[[1311  166  114    0    0    0]\n",
      " [ 340  197  174    0    0    0]\n",
      " [  82   78  226    0    0    0]\n",
      " [  32   33   89    0    0    0]\n",
      " [  13    8   32    0    0    0]\n",
      " [  15   17   27    0    0    0]]\n"
     ]
    },
    {
     "name": "stderr",
     "output_type": "stream",
     "text": [
      "C:\\Users\\HedonisT\\anaconda3\\envs\\internship\\lib\\site-packages\\sklearn\\metrics\\_classification.py:1334: UndefinedMetricWarning: Precision and F-score are ill-defined and being set to 0.0 in labels with no predicted samples. Use `zero_division` parameter to control this behavior.\n",
      "  _warn_prf(average, modifier, msg_start, len(result))\n",
      "C:\\Users\\HedonisT\\anaconda3\\envs\\internship\\lib\\site-packages\\sklearn\\metrics\\_classification.py:1334: UndefinedMetricWarning: Precision and F-score are ill-defined and being set to 0.0 in labels with no predicted samples. Use `zero_division` parameter to control this behavior.\n",
      "  _warn_prf(average, modifier, msg_start, len(result))\n",
      "C:\\Users\\HedonisT\\anaconda3\\envs\\internship\\lib\\site-packages\\sklearn\\metrics\\_classification.py:1334: UndefinedMetricWarning: Precision and F-score are ill-defined and being set to 0.0 in labels with no predicted samples. Use `zero_division` parameter to control this behavior.\n",
      "  _warn_prf(average, modifier, msg_start, len(result))\n"
     ]
    }
   ],
   "source": [
    "print_report(y_test, np.argmax(ann.predict(X_test), axis=-1), target_labels)"
   ]
  },
  {
   "cell_type": "markdown",
   "id": "093704d4",
   "metadata": {},
   "source": [
    "## Cascading bins waterfall model"
   ]
  },
  {
   "cell_type": "code",
   "execution_count": 106,
   "id": "ad495832",
   "metadata": {},
   "outputs": [],
   "source": [
    "import collections.abc\n",
    "\n",
    "def isMonotonicallyIncreasing(array):\n",
    "    a = np.array(array)\n",
    "    return np.all(a[:-1] < a[1:])\n",
    "    \n",
    "class CBWM:\n",
    "    def __init__(\n",
    "        self, \n",
    "        bins, \n",
    "        models = lambda : GradientBoostingClassifier(n_estimators=100, learning_rate=0.1, max_depth=5, random_state=0),\n",
    "    ):\n",
    "        if isinstance(bins, str) or not hasattr(bins, '__len__'):\n",
    "            raise TypeError('bins must be Sequence')\n",
    "        if len(bins) == 0:\n",
    "            raise ValueError('bins cannot be empty Sequence')\n",
    "        if not isMonotonicallyIncreasing(bins):\n",
    "            raise ValueError('bins must be monotonically increasing Sequence')\n",
    "        \n",
    "        self.bins = bins\n",
    "        \n",
    "        if not isinstance(models, str) and hasattr(models, '__len__'):\n",
    "            if (len(models) == len(self.bins) - 2):\n",
    "                self.models = models\n",
    "            else:\n",
    "                raise ValueError('len(models) == len(self.bins) - 2')\n",
    "        elif (callable(models)):\n",
    "            self.models = [models() for _ in range(len(self.bins) - 2)]\n",
    "        else:\n",
    "            raise TypeError('models must be Sequence or callable (model factory)')\n",
    "        \n",
    "        \n",
    "    def fit(self, X, y):\n",
    "        x_next = X\n",
    "        y_next = y\n",
    "        for bin_edge, model in zip(self.bins[1:-1], self.models):\n",
    "            y_bin = (y_next < bin_edge).astype(int)\n",
    "\n",
    "            model.fit(x_next, y_bin)\n",
    "            \n",
    "            next_idx = y_bin == 0\n",
    "            x_next = x_next[next_idx]\n",
    "            y_next = y_next[next_idx]\n",
    "            \n",
    "    def predict(self, X):\n",
    "        y_shape = (X.shape[0], )\n",
    "        y_pred = np.full(y_shape, 0, dtype=int)\n",
    "        \n",
    "        for idx, model in enumerate(self.models):\n",
    "            pred_not_done = y_pred == 0\n",
    "            if not pred_not_done.any():\n",
    "                break\n",
    "            pred_done = model.predict(X[pred_not_done]) == 1\n",
    "            y_pred[pred_not_done] = pred_done.astype(int) * (idx + 1)\n",
    "        \n",
    "        y_pred[y_pred==0] = len(self.models) + 1\n",
    "        \n",
    "        return y_pred - 1\n"
   ]
  },
  {
   "cell_type": "code",
   "execution_count": 107,
   "id": "38edea8e",
   "metadata": {},
   "outputs": [
    {
     "name": "stdout",
     "output_type": "stream",
     "text": [
      "              precision    recall  f1-score   support\n",
      "\n",
      "    0-7 days       0.77      0.82      0.79      1591\n",
      "   7-30 days       0.41      0.40      0.40       711\n",
      "  30-60 days       0.46      0.55      0.50       386\n",
      "  60-90 days       0.46      0.24      0.32       154\n",
      " 90-120 days       0.20      0.06      0.09        53\n",
      "  > 120 days       0.14      0.07      0.09        59\n",
      "\n",
      "    accuracy                           0.62      2954\n",
      "   macro avg       0.41      0.35      0.37      2954\n",
      "weighted avg       0.60      0.62      0.61      2954\n",
      "\n",
      "[[1303  230   46    6    3    3]\n",
      " [ 316  281   96    8    0   10]\n",
      " [  48  100  212   16    2    8]\n",
      " [  13   36   63   37    3    2]\n",
      " [   8    9   23    9    3    1]\n",
      " [   8   22   17    4    4    4]]\n"
     ]
    }
   ],
   "source": [
    "cmwm = CBWM(bins)\n",
    "cmwm.fit(X_train, y_train_orig)\n",
    "print_report(y_test, cmwm.predict(X_test), target_labels)"
   ]
  },
  {
   "cell_type": "code",
   "execution_count": null,
   "id": "7edbfb27",
   "metadata": {},
   "outputs": [],
   "source": [
    "models = [\n",
    "    GradientBoostingClassifier(n_estimators=100, learning_rate=0.1, max_depth=5, random_state=0),\n",
    "    GradientBoostingClassifier(n_estimators=100, learning_rate=0.1, max_depth=5, random_state=0),\n",
    "    GradientBoostingClassifier(n_estimators=100, learning_rate=0.1, max_depth=5, random_state=0),\n",
    "    GradientBoostingClassifier(n_estimators=100, learning_rate=0.1, max_depth=5, random_state=0),\n",
    "    SVC(C=1.0, random_state=0),\n",
    "]\n",
    "cmwm = CBWM(bins, models)\n",
    "cmwm.fit(X_train, y_train_orig)\n",
    "print_report(y_test, cmwm.predict(X_test), target_labels)"
   ]
  },
  {
   "cell_type": "markdown",
   "id": "b3b5b75e",
   "metadata": {},
   "source": [
    "# SMOTE"
   ]
  },
  {
   "cell_type": "code",
   "execution_count": 81,
   "id": "93d72446",
   "metadata": {},
   "outputs": [],
   "source": [
    "from imblearn.over_sampling import SMOTE"
   ]
  },
  {
   "cell_type": "code",
   "execution_count": 79,
   "id": "94150b26",
   "metadata": {},
   "outputs": [
    {
     "data": {
      "text/plain": [
       "<AxesSubplot:title={'center':'Class distribution before SMOTE'}>"
      ]
     },
     "execution_count": 79,
     "metadata": {},
     "output_type": "execute_result"
    },
    {
     "data": {
      "image/png": "[encoded data removed]",
      "text/plain": [
       "<Figure size 432x288 with 1 Axes>"
      ]
     },
     "metadata": {
      "needs_background": "light"
     },
     "output_type": "display_data"
    }
   ],
   "source": [
    "pd.Series(y_train).value_counts().plot(kind='bar', title='Class distribution before SMOTE')"
   ]
  },
  {
   "cell_type": "code",
   "execution_count": 82,
   "id": "75e761f9",
   "metadata": {},
   "outputs": [
    {
     "data": {
      "text/plain": [
       "<AxesSubplot:title={'center':'Class distribution after appying SMOTE'}>"
      ]
     },
     "execution_count": 82,
     "metadata": {},
     "output_type": "execute_result"
    },
    {
     "data": {
      "image/png": "[encoded data removed]",
      "text/plain": [
       "<Figure size 432x288 with 1 Axes>"
      ]
     },
     "metadata": {
      "needs_background": "light"
     },
     "output_type": "display_data"
    }
   ],
   "source": [
    "X_resampled, y_resampled = SMOTE(random_state=0).fit_resample(X_train, y_train)\n",
    "pd.Series(y_resampled).value_counts().plot(kind='bar', title='Class distribution after appying SMOTE')"
   ]
  },
  {
   "cell_type": "code",
   "execution_count": 87,
   "id": "59ef98e3",
   "metadata": {},
   "outputs": [
    {
     "name": "stdout",
     "output_type": "stream",
     "text": [
      "              precision    recall  f1-score   support\n",
      "\n",
      "    0-7 days       0.72      0.90      0.80      1591\n",
      "   7-30 days       0.44      0.36      0.40       711\n",
      "  30-60 days       0.48      0.49      0.49       386\n",
      "  60-90 days       0.64      0.05      0.08       154\n",
      " 90-120 days       0.00      0.00      0.00        53\n",
      "  > 120 days       0.00      0.00      0.00        59\n",
      "\n",
      "    accuracy                           0.63      2954\n",
      "   macro avg       0.38      0.30      0.29      2954\n",
      "weighted avg       0.59      0.63      0.59      2954\n",
      "\n",
      "[[1425  149   17    0    0    0]\n",
      " [ 400  254   57    0    0    0]\n",
      " [  93  102  189    2    0    0]\n",
      " [  35   32   80    7    0    0]\n",
      " [   9   12   29    2    0    1]\n",
      " [  12   24   21    0    2    0]]\n"
     ]
    }
   ],
   "source": [
    "best_rf_smote = RandomForestClassifier(**{'n_estimators': 150, 'min_samples_split': 5, 'min_samples_leaf': 1, 'max_depth': 10, 'bootstrap': True}, random_state=0)\n",
    "best_rf_smote.fit(X_resampled, y_resampled)\n",
    "print_report(y_test, best_rf_smote.predict(X_test), target_labels)"
   ]
  },
  {
   "cell_type": "code",
   "execution_count": 120,
   "id": "d3541b96",
   "metadata": {},
   "outputs": [
    {
     "name": "stdout",
     "output_type": "stream",
     "text": [
      "              precision    recall  f1-score   support\n",
      "\n",
      "    0-7 days       0.80      0.77      0.78      1591\n",
      "   7-30 days       0.45      0.47      0.46       711\n",
      "  30-60 days       0.46      0.51      0.48       386\n",
      "  60-90 days       0.34      0.32      0.33       154\n",
      " 90-120 days       0.11      0.09      0.10        53\n",
      "  > 120 days       0.11      0.12      0.11        59\n",
      "\n",
      "    accuracy                           0.61      2954\n",
      "   macro avg       0.38      0.38      0.38      2954\n",
      "weighted avg       0.62      0.61      0.62      2954\n",
      "\n",
      "[[1221  278   46   17   10   19]\n",
      " [ 232  335   93   23    9   19]\n",
      " [  42   81  195   41   12   15]\n",
      " [  13   32   49   50    8    2]\n",
      " [   7    9   20   10    5    2]\n",
      " [   5   17   20    7    3    7]]\n"
     ]
    }
   ],
   "source": [
    "best_gb_smote = GradientBoostingClassifier(learning_rate=0.05, max_depth=10, min_samples_leaf=2, min_samples_split=2, n_estimators=100, subsample=0.8, random_state=0)\n",
    "best_gb_smote.fit(X_resampled, y_resampled)\n",
    "print_report(y_test, best_gb_smote.predict(X_test), target_labels)"
   ]
  },
  {
   "cell_type": "code",
   "execution_count": null,
   "id": "aaa2516d",
   "metadata": {},
   "outputs": [],
   "source": [
    "best_xgb_smote =  XGBClassifier(**{'subsample': 1.0, 'n_estimators': 100, 'max_depth': 10, 'learning_rate': 0.2}, random_state=0)\n",
    "best_xgb_smote.fit(X_resampled, y_resampled)\n",
    "print_report(y_test, best_gb_smote.predict(X_test), target_labels)"
   ]
  },
  {
   "cell_type": "code",
   "execution_count": 74,
   "id": "1fc8ae00",
   "metadata": {},
   "outputs": [],
   "source": [
    "ann_smote = Sequential()\n",
    "ann_smote.add(Dense(20, input_shape=(X_train.shape[1], ), activation='relu'))\n",
    "ann_smote.add(Dense(10, activation='relu'))\n",
    "ann_smote.add(Dense(len(bins) - 1, activation='softmax'))\n",
    "ann_cmote.compile(optimizer='adam', loss='categorical_crossentropy', metrics=['f1_score'], run_eagerly=True)"
   ]
  },
  {
   "cell_type": "code",
   "execution_count": 75,
   "id": "f54e663c",
   "metadata": {},
   "outputs": [],
   "source": [
    "hist = ann.fit(X_train, to_categorical(y_train), epochs=150, batch_size=10, validation_split=ratio_val_adjusted)"
   ]
  },
  {
   "cell_type": "code",
   "execution_count": 78,
   "id": "d14a5c3a",
   "metadata": {
    "scrolled": true
   },
   "outputs": [
    {
     "data": {
      "image/png": "[encoded data removed]",
      "text/plain": [
       "<Figure size 432x288 with 1 Axes>"
      ]
     },
     "metadata": {
      "needs_background": "light"
     },
     "output_type": "display_data"
    }
   ],
   "source": [
    "plt.plot(hist.history['accuracy'], 'o--', label='Training Accuracy')\n",
    "plt.plot(hist.history['val_accuracy'], '-', label='Validation Accuracy')\n",
    "\n",
    "# add axis labels and title\n",
    "plt.xlabel('Epochs')\n",
    "plt.ylabel('Accuracy')\n",
    "plt.title('Training and Validation Accuracy')\n",
    "\n",
    "# add legend\n",
    "plt.legend()\n",
    "\n",
    "# show the plot\n",
    "plt.show()"
   ]
  }
 ],
 "metadata": {
  "kernelspec": {
   "display_name": "Python 3 (ipykernel)",
   "language": "python",
   "name": "python3"
  },
  "language_info": {
   "codemirror_mode": {
    "name": "ipython",
    "version": 3
   },
   "file_extension": ".py",
   "mimetype": "text/x-python",
   "name": "python",
   "nbconvert_exporter": "python",
   "pygments_lexer": "ipython3",
   "version": "3.9.12"
  }
 },
 "nbformat": 4,
 "nbformat_minor": 5
}
